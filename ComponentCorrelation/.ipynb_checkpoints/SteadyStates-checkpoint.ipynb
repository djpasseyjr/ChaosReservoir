{
 "cells": [
  {
   "cell_type": "markdown",
   "metadata": {},
   "source": [
    "# Do the steady states have large weights in W_out?"
   ]
  },
  {
   "cell_type": "code",
   "execution_count": 2,
   "metadata": {},
   "outputs": [],
   "source": [
    "%run \"../HyperParameterOpt/GenerateExperiments/res_experiment.py\"\n",
    "import copy\n",
    "from matplotlib import pyplot as plt\n",
    "import scipy as sp\n",
    "from scipy import signal\n",
    "DIFF_EQ_PARAMS = {\n",
    "                  \"x0\": [-20, 10, -.5],\n",
    "                  \"begin\": 0,\n",
    "                  \"end\": 85,\n",
    "                  \"timesteps\": 85000,\n",
    "                  \"train_per\": .889,\n",
    "                  \"solver\": lorenz_equ,\n",
    "                  \"clip\": 40\n",
    "                 }\n",
    "\n",
    "RES_PARAMS = {\n",
    "              \"uniform_weights\": True,\n",
    "              \"solver\": \"ridge\",\n",
    "              \"ridge_alpha\": 1e-6,\n",
    "              \"signal_dim\": 3,\n",
    "              \"network\": \"random graph\",\n",
    "\n",
    "              \"res_sz\": 2500,\n",
    "              \"activ_f\": np.tanh,\n",
    "              \"connect_p\": .1,\n",
    "              \"spect_rad\": 5,\n",
    "              \"gamma\": 5,\n",
    "              \"sigma\": .14,\n",
    "              \"sparse_res\": True,\n",
    "             }\n",
    "\n",
    "TOL = 5\n",
    "plt.rcParams[\"figure.figsize\"] = [10, 5]"
   ]
  },
  {
   "cell_type": "code",
   "execution_count": 3,
   "metadata": {},
   "outputs": [],
   "source": [
    "def adj_matrix(topology, topo_params, n, remove_p=0):\n",
    "    adj = generate_adj(topology, topo_params, n)\n",
    "    adj = remove_edges(adj, floor(remove_p*np.sum(adj != 0)))\n",
    "    return adj"
   ]
  },
  {
   "cell_type": "code",
   "execution_count": 4,
   "metadata": {},
   "outputs": [],
   "source": [
    "def kuramoto_order(peaktimes, t):\n",
    "    \"\"\" Compute the kuramoto order parameter of a system of oscilators.\n",
    "        Parameters:\n",
    "        ----------\n",
    "        peaktimes (list): A list of length N > 1 where each entry is an array of \n",
    "                          oscilator peak times (use scipy.signal.find_peaks_cwt)\n",
    "        t (ndarry): Time values where the order parameter should be computed\n",
    "        Returns\n",
    "        -------\n",
    "        R (ndarray): kuramoto order parameter for each of the timesteps in t\n",
    "    \"\"\"\n",
    "    R = np.zeros(len(t), np.complex)\n",
    "    timemask = np.argsort(t)\n",
    "    for peaks in peaktimes:\n",
    "        prevpeak = peaks[1]\n",
    "        prevprevpeak = peaks[0]\n",
    "        j = 2\n",
    "        for i, ti in enumerate(t[timemask]):\n",
    "            if j >= len(peaks) - 1: break\n",
    "            # Find first t value that occurs after the first peak\n",
    "            if ti < prevpeak:\n",
    "                pass\n",
    "            # Find the first peak that is greater than the time value\n",
    "            if ti >= peaks[j]:\n",
    "                prevprevpeak = prevpeak\n",
    "                prevpeak = peaks[j]\n",
    "                j += 1\n",
    "            # Compute kuramoto order\n",
    "            if (ti >= prevpeak) and (ti < peaks[j]):\n",
    "                phi = 2 * np.pi *(ti - prevpeak) / (prevpeak - prevprevpeak)\n",
    "                R[i] += np.exp(1j*phi)\n",
    "    R = np.abs(R) / len(peaktimes)\n",
    "    return R\n",
    "\n",
    "def state_peaks(t, states):\n",
    "    peaks = []\n",
    "    for i in range(states.shape[1]):\n",
    "        peakidx = sp.signal.find_peaks(states[:,i].T)[0]\n",
    "        peaktimes = t[peakidx]\n",
    "        peaks.append(peaktimes)\n",
    "    return peaks"
   ]
  },
  {
   "cell_type": "code",
   "execution_count": 5,
   "metadata": {},
   "outputs": [],
   "source": [
    "def steady_state_ratio(topo, topo_p, remove_p=0.0):\n",
    "    DIFF_EQ_PARAMS[\"x0\"] = random_lorenz_x0()\n",
    "    train_t, test_t, u = rc_solve_ode(DIFF_EQ_PARAMS)\n",
    "    A = adj_matrix(topo, topo_p, 2500, remove_p=remove_p)\n",
    "    rc = ResComp(A, **RES_PARAMS)\n",
    "    r0 = rc.state_0\n",
    "    states = rc.drive(train_t, u)\n",
    "    mask = np.abs(np.mean(states, axis=0)) > .97\n",
    "    rc.state_0 = r0\n",
    "    rc.fit(train_t, u)\n",
    "    mean_ss = np.mean(np.abs(rc.W_out[:, mask]))\n",
    "    mean_os = np.mean(np.abs(rc.W_out[:, ~mask]))\n",
    "    n = sum(mask)\n",
    "    return np.round(mean_ss, 4), np.round(mean_os,4), n\n",
    "\n",
    "def rep_ss_ratio(topo, topo_p=None, remove_p=0.0, N=10):\n",
    "    totss = 0\n",
    "    totos = 0\n",
    "    for i in range(N):\n",
    "        ss, os, n = steady_state_ratio(topo, topo_p, remove_p=remove_p)\n",
    "        totss += ss\n",
    "        totos += os\n",
    "        print(f\"Trial {i}: {n} Steady states. Avg weight={ss} Oscil. w avg={os} Ratio={ss/os}\")\n",
    "    print(f\"Average over all trials: ss={totss/N} os={totos/N} Ratio={totss/totos}\")"
   ]
  },
  {
   "cell_type": "markdown",
   "metadata": {},
   "source": [
    "1. Count total contribution of steady states vs. oscillatory states\n",
    "2. Factor in the percentage shift of oscil v. steady states"
   ]
  },
  {
   "cell_type": "markdown",
   "metadata": {},
   "source": [
    "## Watts (Remove 0%)"
   ]
  },
  {
   "cell_type": "code",
   "execution_count": 30,
   "metadata": {},
   "outputs": [
    {
     "name": "stdout",
     "output_type": "stream",
     "text": [
      "Trial 0: 2411 Steady states. Avg weight=15.2134 Oscil. w avg=63.0096 Ratio=0.2414457479495188\n",
      "Trial 1: 2397 Steady states. Avg weight=14.5715 Oscil. w avg=73.0028 Ratio=0.19960193307653956\n",
      "Trial 2: 2427 Steady states. Avg weight=24.5441 Oscil. w avg=81.6604 Ratio=0.3005630636146774\n",
      "Trial 3: 2395 Steady states. Avg weight=15.0349 Oscil. w avg=64.9498 Ratio=0.2314849314393578\n",
      "Trial 4: 2399 Steady states. Avg weight=12.3745 Oscil. w avg=57.6731 Ratio=0.2145627684310363\n",
      "Trial 5: 2386 Steady states. Avg weight=12.5761 Oscil. w avg=49.9826 Ratio=0.2516095601269242\n",
      "Trial 6: 2415 Steady states. Avg weight=15.0206 Oscil. w avg=59.5692 Ratio=0.25215379760010204\n",
      "Trial 7: 2402 Steady states. Avg weight=12.4572 Oscil. w avg=50.1084 Ratio=0.24860502430730175\n",
      "Trial 8: 2397 Steady states. Avg weight=13.5815 Oscil. w avg=50.8949 Ratio=0.266853849796345\n",
      "Trial 9: 2360 Steady states. Avg weight=7.7841 Oscil. w avg=34.9392 Ratio=0.2227898749828273\n",
      "Average over all trials: ss=14.315789999999998 os=58.57899999999999 Ratio=0.24438433568343604\n"
     ]
    }
   ],
   "source": [
    "rep_ss_ratio(\"watts4\", topo_p=0.1, remove_p=0.0)"
   ]
  },
  {
   "cell_type": "markdown",
   "metadata": {},
   "source": [
    "## Watts (Remove 90%)"
   ]
  },
  {
   "cell_type": "code",
   "execution_count": 31,
   "metadata": {},
   "outputs": [
    {
     "name": "stdout",
     "output_type": "stream",
     "text": [
      "Trial 0: 314 Steady states. Avg weight=2.8965 Oscil. w avg=3.6699 Ratio=0.7892585629036213\n",
      "Trial 1: 338 Steady states. Avg weight=2.8721 Oscil. w avg=3.1751 Ratio=0.904569934805203\n",
      "Trial 2: 298 Steady states. Avg weight=2.4407 Oscil. w avg=3.9501 Ratio=0.6178830915673021\n",
      "Trial 3: 305 Steady states. Avg weight=3.1239 Oscil. w avg=3.6686 Ratio=0.8515237420269313\n",
      "Trial 4: 327 Steady states. Avg weight=3.3173 Oscil. w avg=3.868 Ratio=0.8576266804550156\n",
      "Trial 5: 325 Steady states. Avg weight=3.3023 Oscil. w avg=3.8546 Ratio=0.8567166502360815\n",
      "Trial 6: 317 Steady states. Avg weight=3.5127 Oscil. w avg=3.942 Ratio=0.8910958904109589\n",
      "Trial 7: 321 Steady states. Avg weight=3.2068 Oscil. w avg=3.5143 Ratio=0.912500355689611\n",
      "Trial 8: 264 Steady states. Avg weight=3.3616 Oscil. w avg=3.8801 Ratio=0.8663694234684673\n",
      "Trial 9: 232 Steady states. Avg weight=3.1498 Oscil. w avg=3.6115 Ratio=0.8721583829433753\n",
      "Average over all trials: ss=3.1183699999999996 os=3.71342 Ratio=0.8397568817962956\n"
     ]
    }
   ],
   "source": [
    "rep_ss_ratio(\"watts4\", topo_p=0.1, remove_p=0.9)"
   ]
  },
  {
   "cell_type": "markdown",
   "metadata": {},
   "source": [
    "## Geometric (Remove 0%)"
   ]
  },
  {
   "cell_type": "code",
   "execution_count": 32,
   "metadata": {},
   "outputs": [
    {
     "name": "stdout",
     "output_type": "stream",
     "text": [
      "Trial 0: 844 Steady states. Avg weight=0.8261 Oscil. w avg=4.648 Ratio=0.17773235800344234\n",
      "Trial 1: 939 Steady states. Avg weight=1.0829 Oscil. w avg=5.5504 Ratio=0.19510305563562988\n",
      "Trial 2: 954 Steady states. Avg weight=0.9376 Oscil. w avg=5.1595 Ratio=0.18172303517782729\n",
      "Trial 3: 861 Steady states. Avg weight=0.8596 Oscil. w avg=4.8279 Ratio=0.1780484268522546\n",
      "Trial 4: 904 Steady states. Avg weight=0.845 Oscil. w avg=4.8192 Ratio=0.1753403054448871\n",
      "Trial 5: 963 Steady states. Avg weight=0.8902 Oscil. w avg=4.7655 Ratio=0.18680096527122023\n",
      "Trial 6: 699 Steady states. Avg weight=0.805 Oscil. w avg=4.2963 Ratio=0.1873705281288551\n",
      "Trial 7: 929 Steady states. Avg weight=1.1324 Oscil. w avg=5.5178 Ratio=0.20522672079451956\n",
      "Trial 8: 718 Steady states. Avg weight=0.9502 Oscil. w avg=4.533 Ratio=0.20961835429075668\n",
      "Trial 9: 885 Steady states. Avg weight=0.7841 Oscil. w avg=4.3663 Ratio=0.17957996472986282\n",
      "Average over all trials: ss=0.9113100000000001 os=4.84839 Ratio=0.18796136449419293\n"
     ]
    }
   ],
   "source": [
    "rep_ss_ratio(\"geom\", topo_p=4, remove_p=0.0)"
   ]
  },
  {
   "cell_type": "markdown",
   "metadata": {},
   "source": [
    "## Geometric (Remove 90%)"
   ]
  },
  {
   "cell_type": "code",
   "execution_count": 33,
   "metadata": {},
   "outputs": [
    {
     "name": "stdout",
     "output_type": "stream",
     "text": [
      "Trial 0: 303 Steady states. Avg weight=3.2524 Oscil. w avg=3.5181 Ratio=0.9244762798101248\n",
      "Trial 1: 322 Steady states. Avg weight=2.6181 Oscil. w avg=3.6911 Ratio=0.7093007504537943\n",
      "Trial 2: 258 Steady states. Avg weight=3.0602 Oscil. w avg=3.5431 Ratio=0.8637069233157405\n",
      "Trial 3: 294 Steady states. Avg weight=2.6215 Oscil. w avg=3.4386 Ratio=0.7623742220671204\n",
      "Trial 4: 272 Steady states. Avg weight=3.0061 Oscil. w avg=3.7564 Ratio=0.800260888084336\n",
      "Trial 5: 258 Steady states. Avg weight=3.1031 Oscil. w avg=3.5273 Ratio=0.8797380432625521\n",
      "Trial 6: 322 Steady states. Avg weight=2.8545 Oscil. w avg=3.9008 Ratio=0.7317729696472518\n",
      "Trial 7: 315 Steady states. Avg weight=3.6186 Oscil. w avg=3.7562 Ratio=0.9633672328417017\n",
      "Trial 8: 244 Steady states. Avg weight=3.0727 Oscil. w avg=3.5338 Ratio=0.8695172335729244\n",
      "Trial 9: 324 Steady states. Avg weight=2.8254 Oscil. w avg=3.6619 Ratio=0.7715666730385865\n",
      "Average over all trials: ss=3.00326 os=3.63273 Ratio=0.8267226025606087\n"
     ]
    }
   ],
   "source": [
    "rep_ss_ratio(\"geom\", topo_p=4.0, remove_p=0.9)"
   ]
  },
  {
   "cell_type": "markdown",
   "metadata": {},
   "source": [
    "## Identity (Remove 0%)"
   ]
  },
  {
   "cell_type": "code",
   "execution_count": 34,
   "metadata": {},
   "outputs": [
    {
     "name": "stdout",
     "output_type": "stream",
     "text": [
      "Trial 0: 2487 Steady states. Avg weight=308.5484 Oscil. w avg=10.9237 Ratio=28.245777529591624\n",
      "Trial 1: 2484 Steady states. Avg weight=287.864 Oscil. w avg=4.3714 Ratio=65.85167223315185\n",
      "Trial 2: 2495 Steady states. Avg weight=298.4212 Oscil. w avg=1.6849 Ratio=177.11508101371\n",
      "Trial 3: 2485 Steady states. Avg weight=312.7512 Oscil. w avg=3.6511 Ratio=85.65944509873736\n",
      "Trial 4: 2482 Steady states. Avg weight=308.5008 Oscil. w avg=22.7208 Ratio=13.577902186542728\n",
      "Trial 5: 2471 Steady states. Avg weight=296.9365 Oscil. w avg=75.4506 Ratio=3.935508796484058\n",
      "Trial 6: 2484 Steady states. Avg weight=312.8132 Oscil. w avg=97.5122 Ratio=3.207939109157623\n",
      "Trial 7: 2492 Steady states. Avg weight=302.0613 Oscil. w avg=0.3669 Ratio=823.2796402289453\n",
      "Trial 8: 2488 Steady states. Avg weight=298.726 Oscil. w avg=2.8021 Ratio=106.60790121694444\n",
      "Trial 9: 2479 Steady states. Avg weight=306.523 Oscil. w avg=7.7163 Ratio=39.72409056153856\n",
      "Average over all trials: ss=303.31456 os=22.72 Ratio=13.350112676056337\n"
     ]
    }
   ],
   "source": [
    "rep_ss_ratio(\"ident\", topo_p=None, remove_p=0.0)"
   ]
  },
  {
   "cell_type": "markdown",
   "metadata": {},
   "source": [
    "## Identity (Remove 90%)"
   ]
  },
  {
   "cell_type": "code",
   "execution_count": 35,
   "metadata": {},
   "outputs": [
    {
     "name": "stdout",
     "output_type": "stream",
     "text": [
      "Trial 0: 248 Steady states. Avg weight=4.4763 Oscil. w avg=7.9126 Ratio=0.565717968809241\n",
      "Trial 1: 246 Steady states. Avg weight=11.354 Oscil. w avg=12.6688 Ratio=0.8962174791614044\n",
      "Trial 2: 249 Steady states. Avg weight=4.2036 Oscil. w avg=8.1204 Ratio=0.517659228609428\n",
      "Trial 3: 249 Steady states. Avg weight=4.2171 Oscil. w avg=7.8276 Ratio=0.5387475088149625\n",
      "Trial 4: 246 Steady states. Avg weight=6.6377 Oscil. w avg=9.0348 Ratio=0.7346814539336786\n",
      "Trial 5: 249 Steady states. Avg weight=3.8256 Oscil. w avg=7.9874 Ratio=0.4789543531061422\n",
      "Trial 6: 249 Steady states. Avg weight=6.5791 Oscil. w avg=8.6798 Ratio=0.7579782944307473\n",
      "Trial 7: 249 Steady states. Avg weight=2.4734 Oscil. w avg=7.0186 Ratio=0.35240646282734445\n",
      "Trial 8: 247 Steady states. Avg weight=4.5476 Oscil. w avg=7.9026 Ratio=0.5754561789790702\n",
      "Trial 9: 247 Steady states. Avg weight=6.5382 Oscil. w avg=9.4205 Ratio=0.6940395945013533\n",
      "Average over all trials: ss=5.485259999999999 os=8.65731 Ratio=0.6335986582437269\n"
     ]
    }
   ],
   "source": [
    "rep_ss_ratio(\"ident\", topo_p=None, remove_p=0.9)"
   ]
  },
  {
   "cell_type": "markdown",
   "metadata": {},
   "source": [
    "## Barabasi (Remove 0%)"
   ]
  },
  {
   "cell_type": "code",
   "execution_count": 37,
   "metadata": {},
   "outputs": [
    {
     "name": "stdout",
     "output_type": "stream",
     "text": [
      "Trial 0: 133 Steady states. Avg weight=0.8156 Oscil. w avg=4.0335 Ratio=0.20220652039171935\n",
      "Trial 1: 209 Steady states. Avg weight=0.8448 Oscil. w avg=4.0797 Ratio=0.20707404956246783\n",
      "Trial 2: 78 Steady states. Avg weight=1.3067 Oscil. w avg=4.8881 Ratio=0.26732268161453326\n",
      "Trial 3: 247 Steady states. Avg weight=1.1088 Oscil. w avg=4.9253 Ratio=0.2251233427405437\n",
      "Trial 4: 162 Steady states. Avg weight=1.247 Oscil. w avg=4.8018 Ratio=0.259694281311175\n",
      "Trial 5: 192 Steady states. Avg weight=0.7589 Oscil. w avg=4.952 Ratio=0.15325121163166397\n",
      "Trial 6: 135 Steady states. Avg weight=0.7749 Oscil. w avg=4.2959 Ratio=0.18038129379175497\n",
      "Trial 7: 130 Steady states. Avg weight=1.0755 Oscil. w avg=4.085 Ratio=0.26328029375764994\n",
      "Trial 8: 138 Steady states. Avg weight=1.0801 Oscil. w avg=4.6761 Ratio=0.23098308419409339\n",
      "Trial 9: 277 Steady states. Avg weight=0.8835 Oscil. w avg=4.6694 Ratio=0.18921060521694433\n",
      "Average over all trials: ss=0.9895799999999999 os=4.54068 Ratio=0.21793652052115542\n"
     ]
    }
   ],
   "source": [
    "rep_ss_ratio(\"barab2\", topo_p=None, remove_p=0.0)"
   ]
  },
  {
   "cell_type": "markdown",
   "metadata": {},
   "source": [
    "## Barabasi (Remove 90%)"
   ]
  },
  {
   "cell_type": "code",
   "execution_count": 38,
   "metadata": {},
   "outputs": [
    {
     "name": "stdout",
     "output_type": "stream",
     "text": [
      "Trial 0: 221 Steady states. Avg weight=3.1927 Oscil. w avg=3.1866 Ratio=1.0019142659888283\n",
      "Trial 1: 216 Steady states. Avg weight=3.9784 Oscil. w avg=3.2349 Ratio=1.2298370892454171\n",
      "Trial 2: 284 Steady states. Avg weight=3.6799 Oscil. w avg=3.7595 Ratio=0.9788269716717648\n",
      "Trial 3: 310 Steady states. Avg weight=4.0254 Oscil. w avg=3.6574 Ratio=1.1006179253021273\n",
      "Trial 4: 279 Steady states. Avg weight=3.0991 Oscil. w avg=3.6187 Ratio=0.8564125238345262\n",
      "Trial 5: 198 Steady states. Avg weight=3.9259 Oscil. w avg=3.523 Ratio=1.1143627590122054\n",
      "Trial 6: 255 Steady states. Avg weight=3.643 Oscil. w avg=3.5482 Ratio=1.0267177723916352\n",
      "Trial 7: 187 Steady states. Avg weight=3.6917 Oscil. w avg=3.5696 Ratio=1.03420551322277\n",
      "Trial 8: 183 Steady states. Avg weight=4.0932 Oscil. w avg=4.0552 Ratio=1.0093706845531665\n",
      "Trial 9: 295 Steady states. Avg weight=3.6596 Oscil. w avg=3.2188 Ratio=1.1369454455076426\n",
      "Average over all trials: ss=3.69889 os=3.5371900000000003 Ratio=1.0457142534045385\n"
     ]
    }
   ],
   "source": [
    "rep_ss_ratio(\"barab2\", topo_p=None, remove_p=0.9)"
   ]
  },
  {
   "cell_type": "markdown",
   "metadata": {},
   "source": [
    "## Random Digraph (Remove 0%)"
   ]
  },
  {
   "cell_type": "code",
   "execution_count": 39,
   "metadata": {},
   "outputs": [
    {
     "name": "stdout",
     "output_type": "stream",
     "text": [
      "Trial 0: 1944 Steady states. Avg weight=1.8113 Oscil. w avg=11.8611 Ratio=0.1527092765426478\n",
      "Trial 1: 1933 Steady states. Avg weight=1.6447 Oscil. w avg=11.5989 Ratio=0.1417979291139677\n",
      "Trial 2: 1941 Steady states. Avg weight=1.4044 Oscil. w avg=10.9223 Ratio=0.12858097653424647\n",
      "Trial 3: 1994 Steady states. Avg weight=1.6696 Oscil. w avg=12.3535 Ratio=0.1351519812198972\n",
      "Trial 4: 1943 Steady states. Avg weight=1.5537 Oscil. w avg=11.3631 Ratio=0.13673205375293715\n",
      "Trial 5: 1947 Steady states. Avg weight=1.8523 Oscil. w avg=11.5287 Ratio=0.16066859229574887\n",
      "Trial 6: 1945 Steady states. Avg weight=1.8047 Oscil. w avg=11.5576 Ratio=0.1561483352945248\n",
      "Trial 7: 1946 Steady states. Avg weight=1.6116 Oscil. w avg=11.4951 Ratio=0.14019886734347678\n",
      "Trial 8: 1948 Steady states. Avg weight=1.8643 Oscil. w avg=11.2544 Ratio=0.1656507676997441\n",
      "Trial 9: 1924 Steady states. Avg weight=1.8198 Oscil. w avg=11.4835 Ratio=0.15847084947968826\n",
      "Average over all trials: ss=1.70364 os=11.541820000000001 Ratio=0.14760583686108428\n"
     ]
    }
   ],
   "source": [
    "rep_ss_ratio(\"random_digraph\", topo_p=4.0, remove_p=0.0)"
   ]
  },
  {
   "cell_type": "markdown",
   "metadata": {},
   "source": [
    "## Random Digraph (Remove 90%)"
   ]
  },
  {
   "cell_type": "code",
   "execution_count": 40,
   "metadata": {},
   "outputs": [
    {
     "name": "stdout",
     "output_type": "stream",
     "text": [
      "Trial 0: 343 Steady states. Avg weight=4.0039 Oscil. w avg=3.3719 Ratio=1.1874314184880927\n",
      "Trial 1: 359 Steady states. Avg weight=3.9225 Oscil. w avg=3.8571 Ratio=1.0169557439527106\n"
     ]
    },
    {
     "name": "stderr",
     "output_type": "stream",
     "text": [
      "/Users/djpassey/Code/ReservoirSpecialization/rescomp/ResComp.py:166: UserWarning: Spectral radius of reservoir is close to zero. Edge weights will not be scaled\n",
      "  warn(\"Spectral radius of reservoir is close to zero. Edge weights will not be scaled\")\n"
     ]
    },
    {
     "name": "stdout",
     "output_type": "stream",
     "text": [
      "Trial 2: 8 Steady states. Avg weight=6.6971 Oscil. w avg=5.0314 Ratio=1.3310609373136701\n"
     ]
    },
    {
     "name": "stderr",
     "output_type": "stream",
     "text": [
      "/Users/djpassey/Code/ReservoirSpecialization/rescomp/ResComp.py:166: UserWarning: Spectral radius of reservoir is close to zero. Edge weights will not be scaled\n",
      "  warn(\"Spectral radius of reservoir is close to zero. Edge weights will not be scaled\")\n"
     ]
    },
    {
     "name": "stdout",
     "output_type": "stream",
     "text": [
      "Trial 3: 7 Steady states. Avg weight=7.6326 Oscil. w avg=5.124 Ratio=1.4895784543325528\n",
      "Trial 4: 337 Steady states. Avg weight=3.9181 Oscil. w avg=3.7598 Ratio=1.0421033033672005\n"
     ]
    },
    {
     "name": "stderr",
     "output_type": "stream",
     "text": [
      "/Users/djpassey/Code/ReservoirSpecialization/rescomp/ResComp.py:166: UserWarning: Spectral radius of reservoir is close to zero. Edge weights will not be scaled\n",
      "  warn(\"Spectral radius of reservoir is close to zero. Edge weights will not be scaled\")\n"
     ]
    },
    {
     "name": "stdout",
     "output_type": "stream",
     "text": [
      "Trial 5: 6 Steady states. Avg weight=3.7071 Oscil. w avg=4.9018 Ratio=0.756273205761149\n"
     ]
    },
    {
     "name": "stderr",
     "output_type": "stream",
     "text": [
      "/Users/djpassey/Code/ReservoirSpecialization/rescomp/ResComp.py:166: UserWarning: Spectral radius of reservoir is close to zero. Edge weights will not be scaled\n",
      "  warn(\"Spectral radius of reservoir is close to zero. Edge weights will not be scaled\")\n"
     ]
    },
    {
     "name": "stdout",
     "output_type": "stream",
     "text": [
      "Trial 6: 5 Steady states. Avg weight=5.616 Oscil. w avg=4.6534 Ratio=1.2068595005802207\n"
     ]
    },
    {
     "name": "stderr",
     "output_type": "stream",
     "text": [
      "/Users/djpassey/Code/ReservoirSpecialization/rescomp/ResComp.py:166: UserWarning: Spectral radius of reservoir is close to zero. Edge weights will not be scaled\n",
      "  warn(\"Spectral radius of reservoir is close to zero. Edge weights will not be scaled\")\n"
     ]
    },
    {
     "name": "stdout",
     "output_type": "stream",
     "text": [
      "Trial 7: 5 Steady states. Avg weight=6.2048 Oscil. w avg=4.2704 Ratio=1.4529786436867738\n",
      "Trial 8: 347 Steady states. Avg weight=3.1013 Oscil. w avg=3.166 Ratio=0.9795641187618447\n",
      "Trial 9: 366 Steady states. Avg weight=3.2968 Oscil. w avg=3.4678 Ratio=0.9506891977622701\n",
      "Average over all trials: ss=4.81002 os=4.160359999999999 Ratio=1.156154755838437\n"
     ]
    }
   ],
   "source": [
    "rep_ss_ratio(\"random_digraph\", topo_p=4.0, remove_p=0.9)"
   ]
  },
  {
   "cell_type": "markdown",
   "metadata": {},
   "source": [
    "## Erdos (Remove 0%)"
   ]
  },
  {
   "cell_type": "code",
   "execution_count": 41,
   "metadata": {},
   "outputs": [
    {
     "name": "stdout",
     "output_type": "stream",
     "text": [
      "Trial 0: 1736 Steady states. Avg weight=1.8574 Oscil. w avg=10.3254 Ratio=0.1798864935014624\n",
      "Trial 1: 1720 Steady states. Avg weight=1.8832 Oscil. w avg=10.7185 Ratio=0.17569622615104724\n",
      "Trial 2: 1754 Steady states. Avg weight=1.7765 Oscil. w avg=9.4439 Ratio=0.18811084403689154\n",
      "Trial 3: 1771 Steady states. Avg weight=1.6424 Oscil. w avg=10.2145 Ratio=0.1607910323559646\n",
      "Trial 4: 1741 Steady states. Avg weight=1.823 Oscil. w avg=9.6866 Ratio=0.18819812937459995\n",
      "Trial 5: 1722 Steady states. Avg weight=1.6077 Oscil. w avg=10.0591 Ratio=0.1598254316986609\n",
      "Trial 6: 1757 Steady states. Avg weight=1.88 Oscil. w avg=10.2537 Ratio=0.183348449827867\n",
      "Trial 7: 1742 Steady states. Avg weight=1.8897 Oscil. w avg=9.5842 Ratio=0.1971682560881451\n",
      "Trial 8: 1766 Steady states. Avg weight=1.8079 Oscil. w avg=10.2661 Ratio=0.17610387586327816\n",
      "Trial 9: 1782 Steady states. Avg weight=1.8347 Oscil. w avg=10.629 Ratio=0.17261266346787094\n",
      "Average over all trials: ss=1.8002500000000001 os=10.1181 Ratio=0.1779237208566826\n"
     ]
    }
   ],
   "source": [
    "rep_ss_ratio(\"erdos\", topo_p=4.0, remove_p=0.0)"
   ]
  },
  {
   "cell_type": "markdown",
   "metadata": {},
   "source": [
    "## Erdos (Remove 90%)"
   ]
  },
  {
   "cell_type": "code",
   "execution_count": 42,
   "metadata": {},
   "outputs": [
    {
     "name": "stdout",
     "output_type": "stream",
     "text": [
      "Trial 0: 278 Steady states. Avg weight=2.2313 Oscil. w avg=3.3875 Ratio=0.6586863468634686\n",
      "Trial 1: 305 Steady states. Avg weight=3.295 Oscil. w avg=3.2999 Ratio=0.9985151065183793\n",
      "Trial 2: 249 Steady states. Avg weight=2.574 Oscil. w avg=3.3587 Ratio=0.7663679399767768\n",
      "Trial 3: 330 Steady states. Avg weight=2.7678 Oscil. w avg=3.3755 Ratio=0.8199674122352243\n",
      "Trial 4: 306 Steady states. Avg weight=3.4646 Oscil. w avg=3.7082 Ratio=0.9343077503910252\n",
      "Trial 5: 305 Steady states. Avg weight=2.7952 Oscil. w avg=3.5056 Ratio=0.7973528069374715\n",
      "Trial 6: 289 Steady states. Avg weight=3.3988 Oscil. w avg=3.5212 Ratio=0.9652391230262412\n",
      "Trial 7: 290 Steady states. Avg weight=2.5954 Oscil. w avg=3.3984 Ratio=0.7637123352165726\n",
      "Trial 8: 222 Steady states. Avg weight=3.7313 Oscil. w avg=3.7405 Ratio=0.9975404357706189\n",
      "Trial 9: 261 Steady states. Avg weight=3.3251 Oscil. w avg=3.0856 Ratio=1.077618615504278\n",
      "Average over all trials: ss=3.01785 os=3.4381100000000004 Ratio=0.877764236746352\n"
     ]
    }
   ],
   "source": [
    "rep_ss_ratio(\"erdos\", topo_p=4.0, remove_p=0.9)"
   ]
  },
  {
   "cell_type": "markdown",
   "metadata": {},
   "source": [
    "## Decrease Identity Spectral Radius"
   ]
  },
  {
   "cell_type": "code",
   "execution_count": 8,
   "metadata": {},
   "outputs": [
    {
     "name": "stdout",
     "output_type": "stream",
     "text": [
      "Trial 0: 91 Steady states. Avg weight=5.748 Oscil. w avg=9.9653 Ratio=0.5768015012091959\n",
      "Trial 1: 106 Steady states. Avg weight=5.457 Oscil. w avg=9.1449 Ratio=0.5967260440245382\n",
      "Trial 2: 107 Steady states. Avg weight=6.5952 Oscil. w avg=9.9836 Ratio=0.6606033895588767\n",
      "Trial 3: 108 Steady states. Avg weight=6.7404 Oscil. w avg=10.2401 Ratio=0.658235759416412\n"
     ]
    },
    {
     "ename": "KeyboardInterrupt",
     "evalue": "",
     "output_type": "error",
     "traceback": [
      "\u001b[0;31m---------------------------------------------------------------------------\u001b[0m",
      "\u001b[0;31mKeyboardInterrupt\u001b[0m                         Traceback (most recent call last)",
      "\u001b[0;32m<ipython-input-8-b8bdf1c74b25>\u001b[0m in \u001b[0;36m<module>\u001b[0;34m\u001b[0m\n\u001b[1;32m     14\u001b[0m              }\n\u001b[1;32m     15\u001b[0m \u001b[0;34m\u001b[0m\u001b[0m\n\u001b[0;32m---> 16\u001b[0;31m \u001b[0mrep_ss_ratio\u001b[0m\u001b[0;34m(\u001b[0m\u001b[0;34m\"ident\"\u001b[0m\u001b[0;34m,\u001b[0m \u001b[0mtopo_p\u001b[0m\u001b[0;34m=\u001b[0m\u001b[0;32mNone\u001b[0m\u001b[0;34m,\u001b[0m \u001b[0mremove_p\u001b[0m\u001b[0;34m=\u001b[0m\u001b[0;36m0.0\u001b[0m\u001b[0;34m)\u001b[0m\u001b[0;34m\u001b[0m\u001b[0;34m\u001b[0m\u001b[0m\n\u001b[0m",
      "\u001b[0;32m<ipython-input-5-51e033422689>\u001b[0m in \u001b[0;36mrep_ss_ratio\u001b[0;34m(topo, topo_p, remove_p, N)\u001b[0m\n\u001b[1;32m     18\u001b[0m     \u001b[0mtotos\u001b[0m \u001b[0;34m=\u001b[0m \u001b[0;36m0\u001b[0m\u001b[0;34m\u001b[0m\u001b[0;34m\u001b[0m\u001b[0m\n\u001b[1;32m     19\u001b[0m     \u001b[0;32mfor\u001b[0m \u001b[0mi\u001b[0m \u001b[0;32min\u001b[0m \u001b[0mrange\u001b[0m\u001b[0;34m(\u001b[0m\u001b[0mN\u001b[0m\u001b[0;34m)\u001b[0m\u001b[0;34m:\u001b[0m\u001b[0;34m\u001b[0m\u001b[0;34m\u001b[0m\u001b[0m\n\u001b[0;32m---> 20\u001b[0;31m         \u001b[0mss\u001b[0m\u001b[0;34m,\u001b[0m \u001b[0mos\u001b[0m\u001b[0;34m,\u001b[0m \u001b[0mn\u001b[0m \u001b[0;34m=\u001b[0m \u001b[0msteady_state_ratio\u001b[0m\u001b[0;34m(\u001b[0m\u001b[0mtopo\u001b[0m\u001b[0;34m,\u001b[0m \u001b[0mtopo_p\u001b[0m\u001b[0;34m,\u001b[0m \u001b[0mremove_p\u001b[0m\u001b[0;34m=\u001b[0m\u001b[0mremove_p\u001b[0m\u001b[0;34m)\u001b[0m\u001b[0;34m\u001b[0m\u001b[0;34m\u001b[0m\u001b[0m\n\u001b[0m\u001b[1;32m     21\u001b[0m         \u001b[0mtotss\u001b[0m \u001b[0;34m+=\u001b[0m \u001b[0mss\u001b[0m\u001b[0;34m\u001b[0m\u001b[0;34m\u001b[0m\u001b[0m\n\u001b[1;32m     22\u001b[0m         \u001b[0mtotos\u001b[0m \u001b[0;34m+=\u001b[0m \u001b[0mos\u001b[0m\u001b[0;34m\u001b[0m\u001b[0;34m\u001b[0m\u001b[0m\n",
      "\u001b[0;32m<ipython-input-5-51e033422689>\u001b[0m in \u001b[0;36msteady_state_ratio\u001b[0;34m(topo, topo_p, remove_p)\u001b[0m\n\u001b[1;32m      8\u001b[0m     \u001b[0mmask\u001b[0m \u001b[0;34m=\u001b[0m \u001b[0mnp\u001b[0m\u001b[0;34m.\u001b[0m\u001b[0mabs\u001b[0m\u001b[0;34m(\u001b[0m\u001b[0mnp\u001b[0m\u001b[0;34m.\u001b[0m\u001b[0mmean\u001b[0m\u001b[0;34m(\u001b[0m\u001b[0mstates\u001b[0m\u001b[0;34m,\u001b[0m \u001b[0maxis\u001b[0m\u001b[0;34m=\u001b[0m\u001b[0;36m0\u001b[0m\u001b[0;34m)\u001b[0m\u001b[0;34m)\u001b[0m \u001b[0;34m>\u001b[0m \u001b[0;36m.97\u001b[0m\u001b[0;34m\u001b[0m\u001b[0;34m\u001b[0m\u001b[0m\n\u001b[1;32m      9\u001b[0m     \u001b[0mrc\u001b[0m\u001b[0;34m.\u001b[0m\u001b[0mstate_0\u001b[0m \u001b[0;34m=\u001b[0m \u001b[0mr0\u001b[0m\u001b[0;34m\u001b[0m\u001b[0;34m\u001b[0m\u001b[0m\n\u001b[0;32m---> 10\u001b[0;31m     \u001b[0mrc\u001b[0m\u001b[0;34m.\u001b[0m\u001b[0mfit\u001b[0m\u001b[0;34m(\u001b[0m\u001b[0mtrain_t\u001b[0m\u001b[0;34m,\u001b[0m \u001b[0mu\u001b[0m\u001b[0;34m)\u001b[0m\u001b[0;34m\u001b[0m\u001b[0;34m\u001b[0m\u001b[0m\n\u001b[0m\u001b[1;32m     11\u001b[0m     \u001b[0mmean_ss\u001b[0m \u001b[0;34m=\u001b[0m \u001b[0mnp\u001b[0m\u001b[0;34m.\u001b[0m\u001b[0mmean\u001b[0m\u001b[0;34m(\u001b[0m\u001b[0mnp\u001b[0m\u001b[0;34m.\u001b[0m\u001b[0mabs\u001b[0m\u001b[0;34m(\u001b[0m\u001b[0mrc\u001b[0m\u001b[0;34m.\u001b[0m\u001b[0mW_out\u001b[0m\u001b[0;34m[\u001b[0m\u001b[0;34m:\u001b[0m\u001b[0;34m,\u001b[0m \u001b[0mmask\u001b[0m\u001b[0;34m]\u001b[0m\u001b[0;34m)\u001b[0m\u001b[0;34m)\u001b[0m\u001b[0;34m\u001b[0m\u001b[0;34m\u001b[0m\u001b[0m\n\u001b[1;32m     12\u001b[0m     \u001b[0mmean_os\u001b[0m \u001b[0;34m=\u001b[0m \u001b[0mnp\u001b[0m\u001b[0;34m.\u001b[0m\u001b[0mmean\u001b[0m\u001b[0;34m(\u001b[0m\u001b[0mnp\u001b[0m\u001b[0;34m.\u001b[0m\u001b[0mabs\u001b[0m\u001b[0;34m(\u001b[0m\u001b[0mrc\u001b[0m\u001b[0;34m.\u001b[0m\u001b[0mW_out\u001b[0m\u001b[0;34m[\u001b[0m\u001b[0;34m:\u001b[0m\u001b[0;34m,\u001b[0m \u001b[0;34m~\u001b[0m\u001b[0mmask\u001b[0m\u001b[0;34m]\u001b[0m\u001b[0;34m)\u001b[0m\u001b[0;34m)\u001b[0m\u001b[0;34m\u001b[0m\u001b[0;34m\u001b[0m\u001b[0m\n",
      "\u001b[0;32m~/Code/ReservoirSpecialization/rescomp/ResComp.py\u001b[0m in \u001b[0;36mfit\u001b[0;34m(self, t, u, return_states)\u001b[0m\n\u001b[1;32m    288\u001b[0m         \u001b[0mtrue_states\u001b[0m \u001b[0;34m=\u001b[0m \u001b[0mu\u001b[0m\u001b[0;34m(\u001b[0m\u001b[0mt\u001b[0m\u001b[0;34m)\u001b[0m\u001b[0;34m\u001b[0m\u001b[0;34m\u001b[0m\u001b[0m\n\u001b[1;32m    289\u001b[0m         \u001b[0mtrue_states\u001b[0m \u001b[0;34m=\u001b[0m \u001b[0mself\u001b[0m\u001b[0;34m.\u001b[0m\u001b[0mtime_dim_0\u001b[0m\u001b[0;34m(\u001b[0m\u001b[0mt\u001b[0m\u001b[0;34m,\u001b[0m \u001b[0mu\u001b[0m\u001b[0;34m,\u001b[0m \u001b[0mtrue_states\u001b[0m\u001b[0;34m)\u001b[0m \u001b[0;31m# Ensure number of columns == signal dimension\u001b[0m\u001b[0;34m\u001b[0m\u001b[0;34m\u001b[0m\u001b[0m\n\u001b[0;32m--> 290\u001b[0;31m         \u001b[0mself\u001b[0m\u001b[0;34m.\u001b[0m\u001b[0mW_out\u001b[0m \u001b[0;34m=\u001b[0m \u001b[0mself\u001b[0m\u001b[0;34m.\u001b[0m\u001b[0msolve_wout\u001b[0m\u001b[0;34m(\u001b[0m\u001b[0mdriven_states\u001b[0m\u001b[0;34m,\u001b[0m \u001b[0mtrue_states\u001b[0m\u001b[0;34m)\u001b[0m\u001b[0;34m\u001b[0m\u001b[0;34m\u001b[0m\u001b[0m\n\u001b[0m\u001b[1;32m    291\u001b[0m         \u001b[0mself\u001b[0m\u001b[0;34m.\u001b[0m\u001b[0mis_trained\u001b[0m \u001b[0;34m=\u001b[0m \u001b[0;32mTrue\u001b[0m\u001b[0;34m\u001b[0m\u001b[0;34m\u001b[0m\u001b[0m\n\u001b[1;32m    292\u001b[0m         \u001b[0;31m# Compute error\u001b[0m\u001b[0;34m\u001b[0m\u001b[0;34m\u001b[0m\u001b[0;34m\u001b[0m\u001b[0m\n",
      "\u001b[0;32m~/Code/ReservoirSpecialization/rescomp/ResComp.py\u001b[0m in \u001b[0;36msolve_wout\u001b[0;34m(self, internal_states, targets)\u001b[0m\n\u001b[1;32m    270\u001b[0m         \u001b[0;32melse\u001b[0m\u001b[0;34m:\u001b[0m\u001b[0;34m\u001b[0m\u001b[0;34m\u001b[0m\u001b[0m\n\u001b[1;32m    271\u001b[0m             \u001b[0mridge_regression\u001b[0m \u001b[0;34m=\u001b[0m \u001b[0mRidge\u001b[0m\u001b[0;34m(\u001b[0m\u001b[0malpha\u001b[0m\u001b[0;34m=\u001b[0m\u001b[0mself\u001b[0m\u001b[0;34m.\u001b[0m\u001b[0mridge_alpha\u001b[0m\u001b[0;34m,\u001b[0m \u001b[0mfit_intercept\u001b[0m\u001b[0;34m=\u001b[0m\u001b[0;32mFalse\u001b[0m\u001b[0;34m)\u001b[0m\u001b[0;34m\u001b[0m\u001b[0;34m\u001b[0m\u001b[0m\n\u001b[0;32m--> 272\u001b[0;31m             \u001b[0mridge_regression\u001b[0m\u001b[0;34m.\u001b[0m\u001b[0mfit\u001b[0m\u001b[0;34m(\u001b[0m\u001b[0minternal_states\u001b[0m\u001b[0;34m,\u001b[0m \u001b[0mtargets\u001b[0m\u001b[0;34m)\u001b[0m\u001b[0;34m\u001b[0m\u001b[0;34m\u001b[0m\u001b[0m\n\u001b[0m\u001b[1;32m    273\u001b[0m             \u001b[0mW_out\u001b[0m       \u001b[0;34m=\u001b[0m \u001b[0mridge_regression\u001b[0m\u001b[0;34m.\u001b[0m\u001b[0mcoef_\u001b[0m\u001b[0;34m\u001b[0m\u001b[0;34m\u001b[0m\u001b[0m\n\u001b[1;32m    274\u001b[0m         \u001b[0;32mreturn\u001b[0m \u001b[0mW_out\u001b[0m\u001b[0;34m\u001b[0m\u001b[0;34m\u001b[0m\u001b[0m\n",
      "\u001b[0;32m/usr/local/anaconda3/lib/python3.7/site-packages/sklearn/linear_model/_ridge.py\u001b[0m in \u001b[0;36mfit\u001b[0;34m(self, X, y, sample_weight)\u001b[0m\n\u001b[1;32m    760\u001b[0m         \u001b[0mself\u001b[0m \u001b[0;34m:\u001b[0m \u001b[0mreturns\u001b[0m \u001b[0man\u001b[0m \u001b[0minstance\u001b[0m \u001b[0mof\u001b[0m \u001b[0mself\u001b[0m\u001b[0;34m.\u001b[0m\u001b[0;34m\u001b[0m\u001b[0;34m\u001b[0m\u001b[0m\n\u001b[1;32m    761\u001b[0m         \"\"\"\n\u001b[0;32m--> 762\u001b[0;31m         \u001b[0;32mreturn\u001b[0m \u001b[0msuper\u001b[0m\u001b[0;34m(\u001b[0m\u001b[0;34m)\u001b[0m\u001b[0;34m.\u001b[0m\u001b[0mfit\u001b[0m\u001b[0;34m(\u001b[0m\u001b[0mX\u001b[0m\u001b[0;34m,\u001b[0m \u001b[0my\u001b[0m\u001b[0;34m,\u001b[0m \u001b[0msample_weight\u001b[0m\u001b[0;34m=\u001b[0m\u001b[0msample_weight\u001b[0m\u001b[0;34m)\u001b[0m\u001b[0;34m\u001b[0m\u001b[0;34m\u001b[0m\u001b[0m\n\u001b[0m\u001b[1;32m    763\u001b[0m \u001b[0;34m\u001b[0m\u001b[0m\n\u001b[1;32m    764\u001b[0m \u001b[0;34m\u001b[0m\u001b[0m\n",
      "\u001b[0;32m/usr/local/anaconda3/lib/python3.7/site-packages/sklearn/linear_model/_ridge.py\u001b[0m in \u001b[0;36mfit\u001b[0;34m(self, X, y, sample_weight)\u001b[0m\n\u001b[1;32m    572\u001b[0m         X, y, X_offset, y_offset, X_scale = self._preprocess_data(\n\u001b[1;32m    573\u001b[0m             \u001b[0mX\u001b[0m\u001b[0;34m,\u001b[0m \u001b[0my\u001b[0m\u001b[0;34m,\u001b[0m \u001b[0mself\u001b[0m\u001b[0;34m.\u001b[0m\u001b[0mfit_intercept\u001b[0m\u001b[0;34m,\u001b[0m \u001b[0mself\u001b[0m\u001b[0;34m.\u001b[0m\u001b[0mnormalize\u001b[0m\u001b[0;34m,\u001b[0m \u001b[0mself\u001b[0m\u001b[0;34m.\u001b[0m\u001b[0mcopy_X\u001b[0m\u001b[0;34m,\u001b[0m\u001b[0;34m\u001b[0m\u001b[0;34m\u001b[0m\u001b[0m\n\u001b[0;32m--> 574\u001b[0;31m             sample_weight=sample_weight, return_mean=True)\n\u001b[0m\u001b[1;32m    575\u001b[0m \u001b[0;34m\u001b[0m\u001b[0m\n\u001b[1;32m    576\u001b[0m         \u001b[0;32mif\u001b[0m \u001b[0msolver\u001b[0m \u001b[0;34m==\u001b[0m \u001b[0;34m'sag'\u001b[0m \u001b[0;32mand\u001b[0m \u001b[0msparse\u001b[0m\u001b[0;34m.\u001b[0m\u001b[0missparse\u001b[0m\u001b[0;34m(\u001b[0m\u001b[0mX\u001b[0m\u001b[0;34m)\u001b[0m \u001b[0;32mand\u001b[0m \u001b[0mself\u001b[0m\u001b[0;34m.\u001b[0m\u001b[0mfit_intercept\u001b[0m\u001b[0;34m:\u001b[0m\u001b[0;34m\u001b[0m\u001b[0;34m\u001b[0m\u001b[0m\n",
      "\u001b[0;32m/usr/local/anaconda3/lib/python3.7/site-packages/sklearn/linear_model/_base.py\u001b[0m in \u001b[0;36m_preprocess_data\u001b[0;34m(X, y, fit_intercept, normalize, copy, sample_weight, return_mean, check_input)\u001b[0m\n\u001b[1;32m    127\u001b[0m     \u001b[0;32mif\u001b[0m \u001b[0mcheck_input\u001b[0m\u001b[0;34m:\u001b[0m\u001b[0;34m\u001b[0m\u001b[0;34m\u001b[0m\u001b[0m\n\u001b[1;32m    128\u001b[0m         X = check_array(X, copy=copy, accept_sparse=['csr', 'csc'],\n\u001b[0;32m--> 129\u001b[0;31m                         dtype=FLOAT_DTYPES)\n\u001b[0m\u001b[1;32m    130\u001b[0m     \u001b[0;32melif\u001b[0m \u001b[0mcopy\u001b[0m\u001b[0;34m:\u001b[0m\u001b[0;34m\u001b[0m\u001b[0;34m\u001b[0m\u001b[0m\n\u001b[1;32m    131\u001b[0m         \u001b[0;32mif\u001b[0m \u001b[0msp\u001b[0m\u001b[0;34m.\u001b[0m\u001b[0missparse\u001b[0m\u001b[0;34m(\u001b[0m\u001b[0mX\u001b[0m\u001b[0;34m)\u001b[0m\u001b[0;34m:\u001b[0m\u001b[0;34m\u001b[0m\u001b[0;34m\u001b[0m\u001b[0m\n",
      "\u001b[0;32m/usr/local/anaconda3/lib/python3.7/site-packages/sklearn/utils/validation.py\u001b[0m in \u001b[0;36minner_f\u001b[0;34m(*args, **kwargs)\u001b[0m\n\u001b[1;32m     70\u001b[0m                           FutureWarning)\n\u001b[1;32m     71\u001b[0m         \u001b[0mkwargs\u001b[0m\u001b[0;34m.\u001b[0m\u001b[0mupdate\u001b[0m\u001b[0;34m(\u001b[0m\u001b[0;34m{\u001b[0m\u001b[0mk\u001b[0m\u001b[0;34m:\u001b[0m \u001b[0marg\u001b[0m \u001b[0;32mfor\u001b[0m \u001b[0mk\u001b[0m\u001b[0;34m,\u001b[0m \u001b[0marg\u001b[0m \u001b[0;32min\u001b[0m \u001b[0mzip\u001b[0m\u001b[0;34m(\u001b[0m\u001b[0msig\u001b[0m\u001b[0;34m.\u001b[0m\u001b[0mparameters\u001b[0m\u001b[0;34m,\u001b[0m \u001b[0margs\u001b[0m\u001b[0;34m)\u001b[0m\u001b[0;34m}\u001b[0m\u001b[0;34m)\u001b[0m\u001b[0;34m\u001b[0m\u001b[0;34m\u001b[0m\u001b[0m\n\u001b[0;32m---> 72\u001b[0;31m         \u001b[0;32mreturn\u001b[0m \u001b[0mf\u001b[0m\u001b[0;34m(\u001b[0m\u001b[0;34m**\u001b[0m\u001b[0mkwargs\u001b[0m\u001b[0;34m)\u001b[0m\u001b[0;34m\u001b[0m\u001b[0;34m\u001b[0m\u001b[0m\n\u001b[0m\u001b[1;32m     73\u001b[0m     \u001b[0;32mreturn\u001b[0m \u001b[0minner_f\u001b[0m\u001b[0;34m\u001b[0m\u001b[0;34m\u001b[0m\u001b[0m\n\u001b[1;32m     74\u001b[0m \u001b[0;34m\u001b[0m\u001b[0m\n",
      "\u001b[0;32m/usr/local/anaconda3/lib/python3.7/site-packages/sklearn/utils/validation.py\u001b[0m in \u001b[0;36mcheck_array\u001b[0;34m(array, accept_sparse, accept_large_sparse, dtype, order, copy, force_all_finite, ensure_2d, allow_nd, ensure_min_samples, ensure_min_features, estimator)\u001b[0m\n\u001b[1;32m    662\u001b[0m \u001b[0;34m\u001b[0m\u001b[0m\n\u001b[1;32m    663\u001b[0m     \u001b[0;32mif\u001b[0m \u001b[0mcopy\u001b[0m \u001b[0;32mand\u001b[0m \u001b[0mnp\u001b[0m\u001b[0;34m.\u001b[0m\u001b[0mmay_share_memory\u001b[0m\u001b[0;34m(\u001b[0m\u001b[0marray\u001b[0m\u001b[0;34m,\u001b[0m \u001b[0marray_orig\u001b[0m\u001b[0;34m)\u001b[0m\u001b[0;34m:\u001b[0m\u001b[0;34m\u001b[0m\u001b[0;34m\u001b[0m\u001b[0m\n\u001b[0;32m--> 664\u001b[0;31m         \u001b[0marray\u001b[0m \u001b[0;34m=\u001b[0m \u001b[0mnp\u001b[0m\u001b[0;34m.\u001b[0m\u001b[0marray\u001b[0m\u001b[0;34m(\u001b[0m\u001b[0marray\u001b[0m\u001b[0;34m,\u001b[0m \u001b[0mdtype\u001b[0m\u001b[0;34m=\u001b[0m\u001b[0mdtype\u001b[0m\u001b[0;34m,\u001b[0m \u001b[0morder\u001b[0m\u001b[0;34m=\u001b[0m\u001b[0morder\u001b[0m\u001b[0;34m)\u001b[0m\u001b[0;34m\u001b[0m\u001b[0;34m\u001b[0m\u001b[0m\n\u001b[0m\u001b[1;32m    665\u001b[0m \u001b[0;34m\u001b[0m\u001b[0m\n\u001b[1;32m    666\u001b[0m     \u001b[0;32mreturn\u001b[0m \u001b[0marray\u001b[0m\u001b[0;34m\u001b[0m\u001b[0;34m\u001b[0m\u001b[0m\n",
      "\u001b[0;31mKeyboardInterrupt\u001b[0m: "
     ]
    }
   ],
   "source": [
    "RES_PARAMS = {\n",
    "    \"uniform_weights\": True,\n",
    "    \"solver\": \"ridge\",\n",
    "    \"ridge_alpha\": 1e-6,\n",
    "    \"signal_dim\": 3,\n",
    "    \"network\": \"random graph\",\n",
    "    \"res_sz\": 2500,\n",
    "    \"activ_f\": np.tanh,\n",
    "    \"connect_p\": .1,\n",
    "    \"spect_rad\": 1.0,\n",
    "    \"gamma\": 5,\n",
    "    \"sigma\": .14,\n",
    "    \"sparse_res\": True,\n",
    "}\n",
    "\n",
    "rep_ss_ratio(\"ident\", topo_p=None, remove_p=0.0)"
   ]
  },
  {
   "cell_type": "code",
   "execution_count": null,
   "metadata": {},
   "outputs": [],
   "source": []
  }
 ],
 "metadata": {
  "kernelspec": {
   "display_name": "Python 3",
   "language": "python",
   "name": "python3"
  },
  "language_info": {
   "codemirror_mode": {
    "name": "ipython",
    "version": 3
   },
   "file_extension": ".py",
   "mimetype": "text/x-python",
   "name": "python",
   "nbconvert_exporter": "python",
   "pygments_lexer": "ipython3",
   "version": "3.7.4"
  }
 },
 "nbformat": 4,
 "nbformat_minor": 4
}
