{
 "cells": [
  {
   "cell_type": "markdown",
   "metadata": {},
   "source": [
    "## Were steady states caused by initial condition bias towards 1?\n",
    "\n",
    "Dynamical system in the thinning paper\n",
    "Node saturation\n",
    "Spectral design\n",
    "Topology paper"
   ]
  },
  {
   "cell_type": "code",
   "execution_count": 1,
   "metadata": {},
   "outputs": [],
   "source": [
    "%run \"../HyperParameterOpt/GenerateExperiments/res_experiment.py\"\n",
    "import copy\n",
    "from matplotlib import pyplot as plt\n",
    "import scipy as sp\n",
    "from scipy import signal\n",
    "DIFF_EQ_PARAMS = {\n",
    "                  \"x0\": [-20, 10, -.5],\n",
    "                  \"begin\": 0,\n",
    "                  \"end\": 85,\n",
    "                  \"timesteps\": 85000,\n",
    "                  \"train_per\": .889,\n",
    "                  \"solver\": lorenz_equ,\n",
    "                  \"clip\": 40\n",
    "                 }\n",
    "\n",
    "RES_PARAMS = {\n",
    "              \"uniform_weights\": True,\n",
    "              \"solver\": \"ridge\",\n",
    "              \"ridge_alpha\": 1e-6,\n",
    "              \"signal_dim\": 3,\n",
    "              \"network\": \"random graph\",\n",
    "\n",
    "              \"res_sz\": 2500,\n",
    "              \"activ_f\": np.tanh,\n",
    "              \"connect_p\": .1,\n",
    "              \"spect_rad\": 0.5, #5,\n",
    "              \"gamma\": 5,\n",
    "              \"sigma\": .14,\n",
    "              \"sparse_res\": True,\n",
    "             }\n",
    "\n",
    "TOL = 5\n",
    "plt.rcParams[\"figure.figsize\"] = [10, 5]"
   ]
  },
  {
   "cell_type": "code",
   "execution_count": 23,
   "metadata": {},
   "outputs": [],
   "source": [
    "def adj_matrix(topology, topo_params, n, remove_p=0):\n",
    "    adj = generate_adj(topology, topo_params, n)\n",
    "    adj = remove_edges(adj, floor(remove_p*np.sum(adj != 0)))\n",
    "    return adj\n",
    "\n",
    "def steady_state_ratio(topo, topo_p, remove_p=0.0):\n",
    "    DIFF_EQ_PARAMS[\"x0\"] = random_lorenz_x0()\n",
    "    train_t, test_t, u = rc_solve_ode(DIFF_EQ_PARAMS)\n",
    "    A = adj_matrix(topo, topo_p, 2500, remove_p=remove_p)\n",
    "    rc = ResComp(A, **RES_PARAMS)\n",
    "    rc.state_0 = 2*np.random.rand(rc.res_sz) - 1\n",
    "    r0 = rc.state_0\n",
    "    states = rc.drive(train_t, u)\n",
    "    rank = np.linalg.matrix_rank(states)\n",
    "    mask = np.abs(np.mean(states, axis=0)) > .97\n",
    "    rc.state_0 = r0\n",
    "    error = rc.fit(train_t, u) # Some special kind of L2 error\n",
    "    mean_ss = np.mean(np.abs(rc.W_out[:, mask]))\n",
    "    mean_os = np.mean(np.abs(rc.W_out[:, ~mask]))\n",
    "    n = sum(mask)\n",
    "    return np.round(mean_ss, 4), np.round(mean_os,4), n, error, rank\n",
    "\n",
    "def rep_ss_ratio(topo, topo_p=None, remove_p=0.0, N=10):\n",
    "    totss = 0\n",
    "    totss_weight = 0\n",
    "    totos_weight = 0\n",
    "    toterr = 0\n",
    "    totrank = 0\n",
    "    for i in range(N):\n",
    "        ss, os, n, error, rank = steady_state_ratio(topo, topo_p, remove_p=remove_p)\n",
    "        totss += n\n",
    "        totss_weight+= ss\n",
    "        totos_weight += os\n",
    "        toterr += error\n",
    "        totrank += rank\n",
    "        print(f\"Trial {i}: {n} Steady states. Avg weight={ss} Oscil. w avg={os} Ratio={np.round(ss/os, 4)} Error={np.round(error, 4)}, Rank={rank}\")\n",
    "    perss = np.round(totss/(N*RES_PARAMS[\"res_sz\"]), 4)\n",
    "    avgss_weight = np.round(totss_weight/N, 4)\n",
    "    avgos_weight = np.round(totss/N, 4)\n",
    "    ratio = np.round(totss_weight/totos_weight, 4)\n",
    "    avgerr = np.round(toterr/N, 6)\n",
    "    avgrank = np.round(totrank/N, 4)\n",
    "    print(f\"Average: %ss={perss} ss_weight={avgss_weight} os_weight={avgos_weight} ratio={ratio}, err={avgerr}, rank={avgrank}\")"
   ]
  },
  {
   "cell_type": "markdown",
   "metadata": {},
   "source": [
    "## Watts (Remove 0%)"
   ]
  },
  {
   "cell_type": "code",
   "execution_count": 24,
   "metadata": {},
   "outputs": [
    {
     "name": "stdout",
     "output_type": "stream",
     "text": [
      "Trial 0: 1815 Steady states. Avg weight=1.7341 Oscil. w avg=8.7661 Ratio=0.1978 Error=0.0064, Rank=1085\n",
      "Average: %ss=0.726 ss_weight=1.7341 os_weight=1815.0 ratio=0.1978, err=0.006436, rank=1085.0\n"
     ]
    }
   ],
   "source": [
    "rep_ss_ratio(\"watts4\", topo_p=0.1, remove_p=0.0, N=1)"
   ]
  },
  {
   "cell_type": "markdown",
   "metadata": {},
   "source": [
    "## Watts (Remove 90%)"
   ]
  },
  {
   "cell_type": "code",
   "execution_count": 25,
   "metadata": {},
   "outputs": [
    {
     "name": "stdout",
     "output_type": "stream",
     "text": [
      "Trial 0: 433 Steady states. Avg weight=3.0454 Oscil. w avg=3.579 Ratio=0.8509 Error=0.0054, Rank=906\n",
      "Average: %ss=0.1732 ss_weight=3.0454 os_weight=433.0 ratio=0.8509, err=0.005449, rank=906.0\n"
     ]
    }
   ],
   "source": [
    "rep_ss_ratio(\"watts4\", topo_p=0.1, remove_p=0.9, N=1)"
   ]
  },
  {
   "cell_type": "markdown",
   "metadata": {},
   "source": [
    "## Geometric (Remove 0%)"
   ]
  },
  {
   "cell_type": "code",
   "execution_count": null,
   "metadata": {},
   "outputs": [],
   "source": [
    "rep_ss_ratio(\"geom\", topo_p=4, remove_p=0.0)"
   ]
  },
  {
   "cell_type": "markdown",
   "metadata": {},
   "source": [
    "## Geometric (Remove 90%)"
   ]
  },
  {
   "cell_type": "code",
   "execution_count": null,
   "metadata": {},
   "outputs": [],
   "source": [
    "rep_ss_ratio(\"geom\", topo_p=4.0, remove_p=0.9)"
   ]
  },
  {
   "cell_type": "markdown",
   "metadata": {},
   "source": [
    "## Identity (Remove 0%)"
   ]
  },
  {
   "cell_type": "code",
   "execution_count": null,
   "metadata": {},
   "outputs": [],
   "source": [
    "rep_ss_ratio(\"ident\", topo_p=None, remove_p=0.0)"
   ]
  },
  {
   "cell_type": "markdown",
   "metadata": {},
   "source": [
    "## Identity (Remove 90%)"
   ]
  },
  {
   "cell_type": "code",
   "execution_count": null,
   "metadata": {},
   "outputs": [],
   "source": [
    "rep_ss_ratio(\"ident\", topo_p=None, remove_p=0.9)"
   ]
  },
  {
   "cell_type": "markdown",
   "metadata": {},
   "source": [
    "## Barabasi (Remove 0%)"
   ]
  },
  {
   "cell_type": "code",
   "execution_count": null,
   "metadata": {},
   "outputs": [],
   "source": [
    "rep_ss_ratio(\"barab2\", topo_p=None, remove_p=0.0)"
   ]
  },
  {
   "cell_type": "markdown",
   "metadata": {},
   "source": [
    "## Barabasi (Remove 90%)"
   ]
  },
  {
   "cell_type": "code",
   "execution_count": null,
   "metadata": {},
   "outputs": [],
   "source": [
    "rep_ss_ratio(\"barab2\", topo_p=None, remove_p=0.9)"
   ]
  },
  {
   "cell_type": "markdown",
   "metadata": {},
   "source": [
    "## Random Digraph (Remove 0%)"
   ]
  },
  {
   "cell_type": "code",
   "execution_count": null,
   "metadata": {},
   "outputs": [],
   "source": [
    "rep_ss_ratio(\"random_digraph\", topo_p=4.0, remove_p=0.0)"
   ]
  },
  {
   "cell_type": "markdown",
   "metadata": {},
   "source": [
    "## Random Digraph (Remove 90%)"
   ]
  },
  {
   "cell_type": "code",
   "execution_count": null,
   "metadata": {},
   "outputs": [],
   "source": [
    "rep_ss_ratio(\"random_digraph\", topo_p=4.0, remove_p=0.9)"
   ]
  },
  {
   "cell_type": "markdown",
   "metadata": {},
   "source": [
    "## Erdos (Remove 0%)"
   ]
  },
  {
   "cell_type": "code",
   "execution_count": null,
   "metadata": {},
   "outputs": [],
   "source": [
    "rep_ss_ratio(\"erdos\", topo_p=4.0, remove_p=0.0)"
   ]
  },
  {
   "cell_type": "markdown",
   "metadata": {},
   "source": [
    "## Erdos (Remove 90%)"
   ]
  },
  {
   "cell_type": "code",
   "execution_count": null,
   "metadata": {},
   "outputs": [],
   "source": [
    "rep_ss_ratio(\"erdos\", topo_p=4.0, remove_p=0.9)"
   ]
  }
 ],
 "metadata": {
  "kernelspec": {
   "display_name": "Python 3",
   "language": "python",
   "name": "python3"
  },
  "language_info": {
   "codemirror_mode": {
    "name": "ipython",
    "version": 3
   },
   "file_extension": ".py",
   "mimetype": "text/x-python",
   "name": "python",
   "nbconvert_exporter": "python",
   "pygments_lexer": "ipython3",
   "version": "3.7.4"
  }
 },
 "nbformat": 4,
 "nbformat_minor": 4
}
