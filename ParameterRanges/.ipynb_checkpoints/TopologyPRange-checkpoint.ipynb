{
 "cells": [
  {
   "cell_type": "markdown",
   "metadata": {},
   "source": [
    "# Topology P Ranges\n",
    "\n",
    "### Watts3 and Watts5\n",
    "The Watts-Strogatz topology has a rewiring parameter p. The following tests will determine if there are any values of p that create useless networks"
   ]
  },
  {
   "cell_type": "code",
   "execution_count": 2,
   "metadata": {},
   "outputs": [],
   "source": [
    "from res_experiment import *\n",
    "import numpy as np"
   ]
  },
  {
   "cell_type": "code",
   "execution_count": 5,
   "metadata": {},
   "outputs": [],
   "source": [
    "# Standard Hyper Parameters\n",
    "rc_params = {\n",
    "    \"uniform_weights\": True,\n",
    "    \"solver\": \"ridge\",\n",
    "    \"ridge_alpha\": .0001,\n",
    "    \"signal_dim\": 3,\n",
    "    \"network\": \"random graph\",\n",
    "\n",
    "    \"res_sz\": 2000,\n",
    "    \"activ_f\": np.tanh,\n",
    "    \"connect_p\": .001,\n",
    "    \"spect_rad\": .9,\n",
    "    \"gamma\": 1.,\n",
    "    \"sigma\": 0.12,\n",
    "    \"sparse_res\": True,\n",
    "}\n",
    "\n",
    "# Generate gamma values from a log space\n",
    "ps = np.linspace(0,1,11)\n"
   ]
  },
  {
   "cell_type": "markdown",
   "metadata": {},
   "source": [
    "### Watts 3 Topology"
   ]
  },
  {
   "cell_type": "code",
   "execution_count": 7,
   "metadata": {},
   "outputs": [
    {
     "name": "stdout",
     "output_type": "stream",
     "text": [
      "p: 0.0 \t Timesteps Correct: 423.0 \t Error: 0.21364479053430677\n",
      "p: 0.1 \t Timesteps Correct: 276.0 \t Error: 0.10095603808957533\n",
      "p: 0.2 \t Timesteps Correct: 1395.0 \t Error: 0.10318499791916554\n",
      "p: 0.30000000000000004 \t Timesteps Correct: 287.0 \t Error: 0.11070519101204104\n",
      "p: 0.4 \t Timesteps Correct: 779.0 \t Error: 0.08271121663405932\n",
      "p: 0.5 \t Timesteps Correct: 459.0 \t Error: 0.08751827506951881\n",
      "p: 0.6000000000000001 \t Timesteps Correct: 748.0 \t Error: 0.05938417925013176\n",
      "p: 0.7000000000000001 \t Timesteps Correct: 204.0 \t Error: 0.10120693522513106\n",
      "p: 0.8 \t Timesteps Correct: 75.0 \t Error: 0.0736688672204283\n",
      "p: 0.9 \t Timesteps Correct: 472.0 \t Error: 0.08374316425840746\n",
      "p: 1.0 \t Timesteps Correct: 1306.0 \t Error: 0.048487543765989766\n"
     ]
    }
   ],
   "source": [
    "ORBITS_PER = 10\n",
    "timesteps_correct = []\n",
    "errors = []\n",
    "for p in ps:\n",
    "    for i in range(ORBITS_PER):\n",
    "        err = []\n",
    "        acc = []\n",
    "        # Solve lorenz equations for a random initial condition\n",
    "        X0 = random_lorenz_x0()\n",
    "        train_t, test_t, u = lorenz_equ(X0)\n",
    "        # Make reservoir computer\n",
    "        A = watts3(p)\n",
    "        rc = ResComp(A, **rc_params)\n",
    "        # Train reservoir computer and predict\n",
    "        err.append(rc.fit(train_t, u))\n",
    "        pred = rc.predict(test_t)\n",
    "        acc.append(how_long_accurate(u(test_t), pred))\n",
    "    # Store results\n",
    "    print(f\"p: {p} \\t Timesteps Correct: {np.mean(acc)} \\t Error: {np.mean(err)}\")\n",
    "    errors.append(np.mean(err))\n",
    "    timesteps_correct.append(np.mean(acc))"
   ]
  },
  {
   "cell_type": "code",
   "execution_count": 8,
   "metadata": {},
   "outputs": [
    {
     "name": "stdout",
     "output_type": "stream",
     "text": [
      "p: 0.0 \t Timesteps Correct: 187.0 \t Error: 0.1674045454860561\n",
      "p: 0.1 \t Timesteps Correct: 215.0 \t Error: 0.14557954564253683\n",
      "p: 0.2 \t Timesteps Correct: 52.0 \t Error: 0.14460767773141986\n",
      "p: 0.30000000000000004 \t Timesteps Correct: 31.0 \t Error: 0.10062879632950389\n",
      "p: 0.4 \t Timesteps Correct: 1452.0 \t Error: 0.10682240155793561\n",
      "p: 0.5 \t Timesteps Correct: 1078.0 \t Error: 0.09448566730805782\n",
      "p: 0.6000000000000001 \t Timesteps Correct: 1162.0 \t Error: 0.11406526403776514\n",
      "p: 0.7000000000000001 \t Timesteps Correct: 577.0 \t Error: 0.10431962226451169\n",
      "p: 0.8 \t Timesteps Correct: 932.0 \t Error: 0.1083361636174771\n",
      "p: 0.9 \t Timesteps Correct: 1275.0 \t Error: 0.08882212768032487\n",
      "p: 1.0 \t Timesteps Correct: 109.0 \t Error: 0.0607022688648367\n"
     ]
    }
   ],
   "source": [
    "ORBITS_PER = 10\n",
    "timesteps_correct = []\n",
    "errors = []\n",
    "for p in ps:\n",
    "    for i in range(ORBITS_PER):\n",
    "        err = []\n",
    "        acc = []\n",
    "        # Solve lorenz equations for a random initial condition\n",
    "        X0 = random_lorenz_x0()\n",
    "        train_t, test_t, u = lorenz_equ(X0)\n",
    "        # Make reservoir computer\n",
    "        A = watts5(p)\n",
    "        rc = ResComp(A, **rc_params)\n",
    "        # Train reservoir computer and predict\n",
    "        err.append(rc.fit(train_t, u))\n",
    "        pred = rc.predict(test_t)\n",
    "        acc.append(how_long_accurate(u(test_t), pred))\n",
    "    # Store results\n",
    "    print(f\"p: {p} \\t Timesteps Correct: {np.mean(acc)} \\t Error: {np.mean(err)}\")\n",
    "    errors.append(np.mean(err))\n",
    "    timesteps_correct.append(np.mean(acc))"
   ]
  },
  {
   "cell_type": "markdown",
   "metadata": {},
   "source": [
    "### Erdos-Renyi\n",
    "\n",
    "c is the mean degree of the network"
   ]
  },
  {
   "cell_type": "code",
   "execution_count": 6,
   "metadata": {},
   "outputs": [],
   "source": [
    "cs = np.logspace(-2.5,2,10)"
   ]
  },
  {
   "cell_type": "code",
   "execution_count": 7,
   "metadata": {},
   "outputs": [
    {
     "name": "stdout",
     "output_type": "stream",
     "text": [
      "Mean degree: 0.0031622776601683794 \t Timesteps Correct: 2210.0 \t Error: 0.05283923285532656\n",
      "Mean degree: 0.01 \t Timesteps Correct: 1040.0 \t Error: 0.122843098877987\n",
      "Mean degree: 0.03162277660168379 \t Timesteps Correct: 1365.0 \t Error: 0.05348175975005034\n",
      "Mean degree: 0.1 \t Timesteps Correct: 1815.0 \t Error: 0.04895988644129224\n",
      "Mean degree: 0.31622776601683794 \t Timesteps Correct: 1116.0 \t Error: 0.05171222551903355\n",
      "Mean degree: 1.0 \t Timesteps Correct: 866.0 \t Error: 0.04462274819236027\n",
      "Mean degree: 3.1622776601683795 \t Timesteps Correct: 310.0 \t Error: 0.03993548035514335\n",
      "Mean degree: 10.0 \t Timesteps Correct: 752.0 \t Error: 0.11878017971449169\n",
      "Mean degree: 31.622776601683793 \t Timesteps Correct: 442.0 \t Error: 0.2548117147131126\n",
      "Mean degree: 100.0 \t Timesteps Correct: 4.0 \t Error: 0.26579533516664094\n"
     ]
    }
   ],
   "source": [
    "ORBITS_PER = 10\n",
    "timesteps_correct = []\n",
    "errors = []\n",
    "for c in cs:\n",
    "    for i in range(ORBITS_PER):\n",
    "        err = []\n",
    "        acc = []\n",
    "        # Solve lorenz equations for a random initial condition\n",
    "        X0 = random_lorenz_x0()\n",
    "        train_t, test_t, u = lorenz_equ(X0)\n",
    "        # Make reservoir computer\n",
    "        A = erdos(c)\n",
    "        rc = ResComp(A, **rc_params)\n",
    "        # Train reservoir computer and predict\n",
    "        err.append(rc.fit(train_t, u))\n",
    "        pred = rc.predict(test_t)\n",
    "        acc.append(how_long_accurate(u(test_t), pred))\n",
    "    # Store results\n",
    "    print(f\"Mean degree: {c} \\t Timesteps Correct: {np.mean(acc)} \\t Error: {np.mean(err)}\")\n",
    "    errors.append(np.mean(err))\n",
    "    timesteps_correct.append(np.mean(acc))"
   ]
  },
  {
   "cell_type": "markdown",
   "metadata": {},
   "source": [
    "### Random Digraph\n",
    "c is the mean in-degree of the network"
   ]
  },
  {
   "cell_type": "code",
   "execution_count": 13,
   "metadata": {},
   "outputs": [],
   "source": [
    "cs = np.logspace(0.25,2,10)"
   ]
  },
  {
   "cell_type": "code",
   "execution_count": null,
   "metadata": {},
   "outputs": [],
   "source": [
    "ORBITS_PER = 10\n",
    "timesteps_correct = []\n",
    "errors = []\n",
    "for c in cs:\n",
    "    for i in range(ORBITS_PER):\n",
    "        err = []\n",
    "        acc = []\n",
    "        # Solve lorenz equations for a random initial condition\n",
    "        X0 = random_lorenz_x0()\n",
    "        train_t, test_t, u = lorenz_equ(X0)\n",
    "        # Make reservoir computer\n",
    "        A = random_digraph(c)\n",
    "        rc = ResComp(A, **rc_params)\n",
    "        # Train reservoir computer and predict\n",
    "        err.append(rc.fit(train_t, u))\n",
    "        pred = rc.predict(test_t)\n",
    "        acc.append(how_long_accurate(u(test_t), pred))\n",
    "    # Store results\n",
    "    print(f\"Mean degree: {c} \\t Timesteps Correct: {np.mean(acc)} \\t Error: {np.mean(err)}\")\n",
    "    errors.append(np.mean(err))\n",
    "    timesteps_correct.append(np.mean(acc))"
   ]
  },
  {
   "cell_type": "code",
   "execution_count": null,
   "metadata": {},
   "outputs": [],
   "source": []
  }
 ],
 "metadata": {
  "kernelspec": {
   "display_name": "Python 3",
   "language": "python",
   "name": "python3"
  },
  "language_info": {
   "codemirror_mode": {
    "name": "ipython",
    "version": 3
   },
   "file_extension": ".py",
   "mimetype": "text/x-python",
   "name": "python",
   "nbconvert_exporter": "python",
   "pygments_lexer": "ipython3",
   "version": "3.7.4"
  }
 },
 "nbformat": 4,
 "nbformat_minor": 4
}
