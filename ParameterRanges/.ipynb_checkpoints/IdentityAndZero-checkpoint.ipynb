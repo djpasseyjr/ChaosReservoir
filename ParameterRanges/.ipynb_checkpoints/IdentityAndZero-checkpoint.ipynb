{
 "cells": [
  {
   "cell_type": "code",
   "execution_count": null,
   "metadata": {},
   "outputs": [],
   "source": [
    "from res_experiment import *\n",
    "from scipy import sparse"
   ]
  },
  {
   "cell_type": "markdown",
   "metadata": {},
   "source": [
    "# Identity"
   ]
  },
  {
   "cell_type": "code",
   "execution_count": 5,
   "metadata": {},
   "outputs": [
    {
     "name": "stdout",
     "output_type": "stream",
     "text": [
      "Gamma: 1.0 \t Timesteps Correct: 4.0 \t Error: 0.7750842297704804\n",
      "Gamma: 2.2758459260747883 \t Timesteps Correct: 6.0 \t Error: 0.5935632172230916\n",
      "Gamma: 5.179474679231212 \t Timesteps Correct: 99.0 \t Error: 0.2511997970969417\n",
      "Gamma: 11.787686347935873 \t Timesteps Correct: 448.0 \t Error: 0.15880273988379368\n",
      "Gamma: 26.826957952797258 \t Timesteps Correct: 163.0 \t Error: 0.0720707926175236\n",
      "Gamma: 61.0540229658533 \t Timesteps Correct: 299.0 \t Error: 0.071280076880061\n",
      "Gamma: 138.94954943731375 \t Timesteps Correct: 118.0 \t Error: 0.07933285407879154\n",
      "Gamma: 316.22776601683796 \t Timesteps Correct: 124.0 \t Error: 0.15064598853567593\n"
     ]
    }
   ],
   "source": [
    "params = {\n",
    "    \"uniform_weights\": True,\n",
    "    \"solver\": \"ridge\",\n",
    "    \"ridge_alpha\": 1e-3,\n",
    "    \"signal_dim\": 3,\n",
    "    \"network\": \"random graph\",\n",
    "\n",
    "    \"res_sz\": 2000,\n",
    "    \"activ_f\": np.tanh,\n",
    "    \"connect_p\": .001,\n",
    "    \"spect_rad\": 1.0,\n",
    "    \"gamma\": 1.,\n",
    "    \"sigma\": 0.12,\n",
    "    \"sparse_res\": True,\n",
    "}\n",
    "\n",
    "gms = np.logspace(0,2.5, 8)\n",
    "\n",
    "ORBITS_PER = 10\n",
    "timesteps_correct = []\n",
    "errors = []\n",
    "for g in gms:\n",
    "    for i in range(ORBITS_PER):\n",
    "        err = []\n",
    "        acc = []\n",
    "        # Solve lorenz equations for a random initial condition\n",
    "        X0 = random_lorenz_x0()\n",
    "        train_t, test_t, u = lorenz_equ(X0)\n",
    "        # Make reservoir computer\n",
    "        params[\"gamma\"] = g\n",
    "        A = sparse.eye(2000, format=\"csr\")\n",
    "        rc = ResComp(**params)\n",
    "        rc.res = A\n",
    "        # Train reservoir computer and predict\n",
    "        err.append(rc.fit(train_t, u))\n",
    "        pred = rc.predict(test_t)\n",
    "        acc.append(how_long_accurate(u(test_t), pred))\n",
    "    # Store results\n",
    "    print(f\"Gamma: {g} \\t Timesteps Correct: {np.mean(acc)} \\t Error: {np.mean(err)}\")\n",
    "    errors.append(np.mean(err))\n",
    "    timesteps_correct.append(np.mean(acc))"
   ]
  }
 ],
 "metadata": {
  "kernelspec": {
   "display_name": "Python 3",
   "language": "python",
   "name": "python3"
  },
  "language_info": {
   "codemirror_mode": {
    "name": "ipython",
    "version": 3
   },
   "file_extension": ".py",
   "mimetype": "text/x-python",
   "name": "python",
   "nbconvert_exporter": "python",
   "pygments_lexer": "ipython3",
   "version": "3.7.4"
  }
 },
 "nbformat": 4,
 "nbformat_minor": 4
}
