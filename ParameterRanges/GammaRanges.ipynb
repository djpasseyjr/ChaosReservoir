{
 "cells": [
  {
   "cell_type": "code",
   "execution_count": 1,
   "metadata": {},
   "outputs": [],
   "source": [
    "from rescomp import *"
   ]
  },
  {
   "cell_type": "code",
   "execution_count": 10,
   "metadata": {},
   "outputs": [],
   "source": [
    "TOL = 5\n",
    "# Standard Hyper Parameters\n",
    "params = {\n",
    "    \"uniform_weights\": True,\n",
    "    \"solver\": \"ridge\",\n",
    "    \"ridge_alpha\": .0001,\n",
    "    \"signal_dim\": 3,\n",
    "    \"network\": \"random graph\",\n",
    "\n",
    "    \"res_sz\": 2000,\n",
    "    \"activ_f\": np.tanh,\n",
    "    \"connect_p\": .001,\n",
    "    \"spect_rad\": .9,\n",
    "    \"gamma\": 1.,\n",
    "    \"sigma\": 0.12,\n",
    "    \"sparse_res\": True,\n",
    "}\n",
    "\n",
    "# \n",
    "def random_lorenz_x0():\n",
    "    \"\"\" Random initial condition\n",
    "    \"\"\"\n",
    "    return  20*(2*np.random.rand(3) - 1)\n",
    "\n",
    "def how_long_accurate(u, pre, tol=1):\n",
    "    \"\"\" Find the first i such that ||u_i - pre_i||_2 > tol \"\"\"\n",
    "    for i in range(u.shape[1]):\n",
    "        dist = np.sum((u[:,i] - pre[:,i])**2)**.5\n",
    "        if dist > tol:\n",
    "            return i\n",
    "    return u.shape[1]\n",
    "\n",
    "# Generate gamma values from a log space\n",
    "gms = np.logspace(-7,5, 13)\n",
    "\n"
   ]
  },
  {
   "cell_type": "code",
   "execution_count": 8,
   "metadata": {},
   "outputs": [
    {
     "data": {
      "text/plain": [
       "array([1.e-07, 1.e-06, 1.e-05, 1.e-04, 1.e-03, 1.e-02, 1.e-01, 1.e+00,\n",
       "       1.e+01, 1.e+02, 1.e+03, 1.e+04, 1.e+05])"
      ]
     },
     "execution_count": 8,
     "metadata": {},
     "output_type": "execute_result"
    }
   ],
   "source": [
    "time_corr = []\n",
    "for g in gms:\n",
    "    params[\"gamma\"] = g\n",
    "    X0 = random_lorenz_x0()\n",
    "    train_t, test_t, u = lorenz_equ(X0)\n",
    "    rc = ResComp(**params)\n",
    "    err = rc.fit(train_t, u) \n",
    "    pred = rc.predict(test_t)\n",
    "    time_corr.append(how_long_accurate(u(test_t), pred))\n",
    "    \n"
   ]
  },
  {
   "cell_type": "code",
   "execution_count": null,
   "metadata": {},
   "outputs": [],
   "source": []
  }
 ],
 "metadata": {
  "kernelspec": {
   "display_name": "Python 3",
   "language": "python",
   "name": "python3"
  },
  "language_info": {
   "codemirror_mode": {
    "name": "ipython",
    "version": 3
   },
   "file_extension": ".py",
   "mimetype": "text/x-python",
   "name": "python",
   "nbconvert_exporter": "python",
   "pygments_lexer": "ipython3",
   "version": "3.7.4"
  }
 },
 "nbformat": 4,
 "nbformat_minor": 4
}
