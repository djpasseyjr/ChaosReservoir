{
 "cells": [
  {
   "cell_type": "markdown",
   "metadata": {},
   "source": [
    "# Spectral Radius Parameter Range "
   ]
  },
  {
   "cell_type": "markdown",
   "metadata": {},
   "source": [
    "It doesn't seem to make a huge difference .0005 to 5 is my best range"
   ]
  },
  {
   "cell_type": "code",
   "execution_count": 1,
   "metadata": {},
   "outputs": [],
   "source": [
    "from res_experiment import *"
   ]
  },
  {
   "cell_type": "code",
   "execution_count": 2,
   "metadata": {},
   "outputs": [],
   "source": [
    "# Standard Hyper Parameters\n",
    "params = {\n",
    "    \"uniform_weights\": True,\n",
    "    \"solver\": \"ridge\",\n",
    "    \"ridge_alpha\": .0001,\n",
    "    \"signal_dim\": 3,\n",
    "    \"network\": \"random graph\",\n",
    "\n",
    "    \"res_sz\": 2000,\n",
    "    \"activ_f\": np.tanh,\n",
    "    \"connect_p\": .001,\n",
    "    \"spect_rad\": .9,\n",
    "    \"gamma\": 1.,\n",
    "    \"sigma\": 0.12,\n",
    "    \"sparse_res\": True,\n",
    "}\n",
    "\n",
    "# Generate spectral radius values from a log space\n",
    "srs = np.logspace(-7,5, 13)\n",
    "\n"
   ]
  },
  {
   "cell_type": "code",
   "execution_count": 3,
   "metadata": {},
   "outputs": [
    {
     "name": "stdout",
     "output_type": "stream",
     "text": [
      "Spectral Radius: 1e-07 \t Timesteps Correct: 446.0 \t Error: 0.2026688353938003\n",
      "Spectral Radius: 1e-06 \t Timesteps Correct: 326.0 \t Error: 0.10963740011454529\n",
      "Spectral Radius: 1e-05 \t Timesteps Correct: 658.0 \t Error: 0.06632639869268116\n",
      "Spectral Radius: 0.0001 \t Timesteps Correct: 1140.0 \t Error: 0.06461737646280208\n",
      "Spectral Radius: 0.001 \t Timesteps Correct: 1500.0 \t Error: 0.06762236622253033\n",
      "Spectral Radius: 0.01 \t Timesteps Correct: 716.0 \t Error: 0.06678560423143827\n",
      "Spectral Radius: 0.1 \t Timesteps Correct: 1320.0 \t Error: 0.06873128782121292\n",
      "Spectral Radius: 1.0 \t Timesteps Correct: 1497.0 \t Error: 0.08491170746124606\n",
      "Spectral Radius: 10.0 \t Timesteps Correct: 0.0 \t Error: 0.08485974842263884\n",
      "Spectral Radius: 100.0 \t Timesteps Correct: 276.0 \t Error: 0.09127599533947038\n",
      "Spectral Radius: 1000.0 \t Timesteps Correct: 676.0 \t Error: 0.09931874941313541\n"
     ]
    },
    {
     "ename": "KeyboardInterrupt",
     "evalue": "",
     "output_type": "error",
     "traceback": [
      "\u001b[1;31m---------------------------------------------------------------------------\u001b[0m",
      "\u001b[1;31mKeyboardInterrupt\u001b[0m                         Traceback (most recent call last)",
      "\u001b[1;32m<ipython-input-3-fabf688ec58a>\u001b[0m in \u001b[0;36m<module>\u001b[1;34m\u001b[0m\n\u001b[0;32m     13\u001b[0m         \u001b[0mrc\u001b[0m \u001b[1;33m=\u001b[0m \u001b[0mResComp\u001b[0m\u001b[1;33m(\u001b[0m\u001b[1;33m**\u001b[0m\u001b[0mparams\u001b[0m\u001b[1;33m)\u001b[0m\u001b[1;33m\u001b[0m\u001b[1;33m\u001b[0m\u001b[0m\n\u001b[0;32m     14\u001b[0m         \u001b[1;31m# Train reservoir computer and predict\u001b[0m\u001b[1;33m\u001b[0m\u001b[1;33m\u001b[0m\u001b[1;33m\u001b[0m\u001b[0m\n\u001b[1;32m---> 15\u001b[1;33m         \u001b[0merr\u001b[0m\u001b[1;33m.\u001b[0m\u001b[0mappend\u001b[0m\u001b[1;33m(\u001b[0m\u001b[0mrc\u001b[0m\u001b[1;33m.\u001b[0m\u001b[0mfit\u001b[0m\u001b[1;33m(\u001b[0m\u001b[0mtrain_t\u001b[0m\u001b[1;33m,\u001b[0m \u001b[0mu\u001b[0m\u001b[1;33m)\u001b[0m\u001b[1;33m)\u001b[0m\u001b[1;33m\u001b[0m\u001b[1;33m\u001b[0m\u001b[0m\n\u001b[0m\u001b[0;32m     16\u001b[0m         \u001b[0mpred\u001b[0m \u001b[1;33m=\u001b[0m \u001b[0mrc\u001b[0m\u001b[1;33m.\u001b[0m\u001b[0mpredict\u001b[0m\u001b[1;33m(\u001b[0m\u001b[0mtest_t\u001b[0m\u001b[1;33m)\u001b[0m\u001b[1;33m\u001b[0m\u001b[1;33m\u001b[0m\u001b[0m\n\u001b[0;32m     17\u001b[0m         \u001b[0macc\u001b[0m\u001b[1;33m.\u001b[0m\u001b[0mappend\u001b[0m\u001b[1;33m(\u001b[0m\u001b[0mhow_long_accurate\u001b[0m\u001b[1;33m(\u001b[0m\u001b[0mu\u001b[0m\u001b[1;33m(\u001b[0m\u001b[0mtest_t\u001b[0m\u001b[1;33m)\u001b[0m\u001b[1;33m,\u001b[0m \u001b[0mpred\u001b[0m\u001b[1;33m)\u001b[0m\u001b[1;33m)\u001b[0m\u001b[1;33m\u001b[0m\u001b[1;33m\u001b[0m\u001b[0m\n",
      "\u001b[1;32m~\\WebbWork\\ReservoirSpecialization\\rescomp\\ResComp.py\u001b[0m in \u001b[0;36mfit\u001b[1;34m(self, t, u, return_states)\u001b[0m\n\u001b[0;32m    239\u001b[0m             \u001b[0mOptionally\u001b[0m \u001b[0mreturns\u001b[0m\u001b[1;33m:\u001b[0m \u001b[0mdrive_states\u001b[0m \u001b[1;33m:\u001b[0m \u001b[1;33m(\u001b[0m\u001b[0mndarray\u001b[0m\u001b[1;33m)\u001b[0m \u001b[0mof\u001b[0m \u001b[0mnode\u001b[0m \u001b[0mstates\u001b[0m\u001b[1;33m\u001b[0m\u001b[1;33m\u001b[0m\u001b[0m\n\u001b[0;32m    240\u001b[0m         \"\"\"\n\u001b[1;32m--> 241\u001b[1;33m         \u001b[0mdriven_states\u001b[0m    \u001b[1;33m=\u001b[0m \u001b[0mself\u001b[0m\u001b[1;33m.\u001b[0m\u001b[0mdrive\u001b[0m\u001b[1;33m(\u001b[0m\u001b[0mt\u001b[0m\u001b[1;33m,\u001b[0m\u001b[0mu\u001b[0m\u001b[1;33m)\u001b[0m\u001b[1;33m\u001b[0m\u001b[1;33m\u001b[0m\u001b[0m\n\u001b[0m\u001b[0;32m    242\u001b[0m         \u001b[0mtrue_states\u001b[0m      \u001b[1;33m=\u001b[0m \u001b[0mu\u001b[0m\u001b[1;33m(\u001b[0m\u001b[0mt\u001b[0m\u001b[1;33m)\u001b[0m\u001b[1;33m.\u001b[0m\u001b[0mT\u001b[0m\u001b[1;33m\u001b[0m\u001b[1;33m\u001b[0m\u001b[0m\n\u001b[0;32m    243\u001b[0m         \u001b[1;32mif\u001b[0m \u001b[0mself\u001b[0m\u001b[1;33m.\u001b[0m\u001b[0msolver\u001b[0m \u001b[1;33m==\u001b[0m \u001b[1;34m\"least squares\"\u001b[0m\u001b[1;33m:\u001b[0m\u001b[1;33m\u001b[0m\u001b[1;33m\u001b[0m\u001b[0m\n",
      "\u001b[1;32m~\\WebbWork\\ReservoirSpecialization\\rescomp\\ResComp.py\u001b[0m in \u001b[0;36mdrive\u001b[1;34m(self, t, u)\u001b[0m\n\u001b[0;32m    223\u001b[0m \u001b[1;33m\u001b[0m\u001b[0m\n\u001b[0;32m    224\u001b[0m         \u001b[0mr_0\u001b[0m    \u001b[1;33m=\u001b[0m \u001b[0mself\u001b[0m\u001b[1;33m.\u001b[0m\u001b[0mstate_0\u001b[0m\u001b[1;33m\u001b[0m\u001b[1;33m\u001b[0m\u001b[0m\n\u001b[1;32m--> 225\u001b[1;33m         \u001b[0mstates\u001b[0m \u001b[1;33m=\u001b[0m \u001b[0mintegrate\u001b[0m\u001b[1;33m.\u001b[0m\u001b[0modeint\u001b[0m\u001b[1;33m(\u001b[0m\u001b[0mres_f\u001b[0m\u001b[1;33m,\u001b[0m\u001b[0mr_0\u001b[0m\u001b[1;33m,\u001b[0m\u001b[0mt\u001b[0m\u001b[1;33m)\u001b[0m\u001b[1;33m\u001b[0m\u001b[1;33m\u001b[0m\u001b[0m\n\u001b[0m\u001b[0;32m    226\u001b[0m         \u001b[0mself\u001b[0m\u001b[1;33m.\u001b[0m\u001b[0mstate_0\u001b[0m \u001b[1;33m=\u001b[0m \u001b[0mstates\u001b[0m\u001b[1;33m[\u001b[0m\u001b[1;33m-\u001b[0m\u001b[1;36m1\u001b[0m\u001b[1;33m]\u001b[0m\u001b[1;33m\u001b[0m\u001b[1;33m\u001b[0m\u001b[0m\n\u001b[0;32m    227\u001b[0m         \u001b[1;32mreturn\u001b[0m \u001b[0mstates\u001b[0m\u001b[1;33m\u001b[0m\u001b[1;33m\u001b[0m\u001b[0m\n",
      "\u001b[1;32m~\\Anaconda3\\lib\\site-packages\\scipy\\integrate\\odepack.py\u001b[0m in \u001b[0;36modeint\u001b[1;34m(func, y0, t, args, Dfun, col_deriv, full_output, ml, mu, rtol, atol, tcrit, h0, hmax, hmin, ixpr, mxstep, mxhnil, mxordn, mxords, printmessg, tfirst)\u001b[0m\n\u001b[0;32m    242\u001b[0m                              \u001b[0mfull_output\u001b[0m\u001b[1;33m,\u001b[0m \u001b[0mrtol\u001b[0m\u001b[1;33m,\u001b[0m \u001b[0matol\u001b[0m\u001b[1;33m,\u001b[0m \u001b[0mtcrit\u001b[0m\u001b[1;33m,\u001b[0m \u001b[0mh0\u001b[0m\u001b[1;33m,\u001b[0m \u001b[0mhmax\u001b[0m\u001b[1;33m,\u001b[0m \u001b[0mhmin\u001b[0m\u001b[1;33m,\u001b[0m\u001b[1;33m\u001b[0m\u001b[1;33m\u001b[0m\u001b[0m\n\u001b[0;32m    243\u001b[0m                              \u001b[0mixpr\u001b[0m\u001b[1;33m,\u001b[0m \u001b[0mmxstep\u001b[0m\u001b[1;33m,\u001b[0m \u001b[0mmxhnil\u001b[0m\u001b[1;33m,\u001b[0m \u001b[0mmxordn\u001b[0m\u001b[1;33m,\u001b[0m \u001b[0mmxords\u001b[0m\u001b[1;33m,\u001b[0m\u001b[1;33m\u001b[0m\u001b[1;33m\u001b[0m\u001b[0m\n\u001b[1;32m--> 244\u001b[1;33m                              int(bool(tfirst)))\n\u001b[0m\u001b[0;32m    245\u001b[0m     \u001b[1;32mif\u001b[0m \u001b[0moutput\u001b[0m\u001b[1;33m[\u001b[0m\u001b[1;33m-\u001b[0m\u001b[1;36m1\u001b[0m\u001b[1;33m]\u001b[0m \u001b[1;33m<\u001b[0m \u001b[1;36m0\u001b[0m\u001b[1;33m:\u001b[0m\u001b[1;33m\u001b[0m\u001b[1;33m\u001b[0m\u001b[0m\n\u001b[0;32m    246\u001b[0m         \u001b[0mwarning_msg\u001b[0m \u001b[1;33m=\u001b[0m \u001b[0m_msgs\u001b[0m\u001b[1;33m[\u001b[0m\u001b[0moutput\u001b[0m\u001b[1;33m[\u001b[0m\u001b[1;33m-\u001b[0m\u001b[1;36m1\u001b[0m\u001b[1;33m]\u001b[0m\u001b[1;33m]\u001b[0m \u001b[1;33m+\u001b[0m \u001b[1;34m\" Run with full_output = 1 to get quantitative information.\"\u001b[0m\u001b[1;33m\u001b[0m\u001b[1;33m\u001b[0m\u001b[0m\n",
      "\u001b[1;32m~\\WebbWork\\ReservoirSpecialization\\rescomp\\ResComp.py\u001b[0m in \u001b[0;36mres_f\u001b[1;34m(r, t)\u001b[0m\n\u001b[0;32m    219\u001b[0m         \u001b[1;31m# Reservoir ode\u001b[0m\u001b[1;33m\u001b[0m\u001b[1;33m\u001b[0m\u001b[1;33m\u001b[0m\u001b[0m\n\u001b[0;32m    220\u001b[0m         \u001b[1;32mdef\u001b[0m \u001b[0mres_f\u001b[0m\u001b[1;33m(\u001b[0m\u001b[0mr\u001b[0m\u001b[1;33m,\u001b[0m\u001b[0mt\u001b[0m\u001b[1;33m)\u001b[0m\u001b[1;33m:\u001b[0m\u001b[1;33m\u001b[0m\u001b[1;33m\u001b[0m\u001b[0m\n\u001b[1;32m--> 221\u001b[1;33m             \u001b[1;32mreturn\u001b[0m \u001b[0mself\u001b[0m\u001b[1;33m.\u001b[0m\u001b[0mgamma\u001b[0m\u001b[1;33m*\u001b[0m\u001b[1;33m(\u001b[0m\u001b[1;33m-\u001b[0m\u001b[1;36m1\u001b[0m\u001b[1;33m*\u001b[0m\u001b[0mr\u001b[0m \u001b[1;33m+\u001b[0m \u001b[0mself\u001b[0m\u001b[1;33m.\u001b[0m\u001b[0mactiv_f\u001b[0m\u001b[1;33m(\u001b[0m\u001b[0mself\u001b[0m\u001b[1;33m.\u001b[0m\u001b[0mres\u001b[0m \u001b[1;33m@\u001b[0m \u001b[0mr\u001b[0m \u001b[1;33m+\u001b[0m \u001b[0mself\u001b[0m\u001b[1;33m.\u001b[0m\u001b[0msigma\u001b[0m\u001b[1;33m*\u001b[0m\u001b[0mself\u001b[0m\u001b[1;33m.\u001b[0m\u001b[0mW_in\u001b[0m \u001b[1;33m@\u001b[0m \u001b[0mu\u001b[0m\u001b[1;33m(\u001b[0m\u001b[0mt\u001b[0m\u001b[1;33m)\u001b[0m\u001b[1;33m)\u001b[0m\u001b[1;33m)\u001b[0m\u001b[1;33m\u001b[0m\u001b[1;33m\u001b[0m\u001b[0m\n\u001b[0m\u001b[0;32m    222\u001b[0m         \u001b[1;31m#end\u001b[0m\u001b[1;33m\u001b[0m\u001b[1;33m\u001b[0m\u001b[1;33m\u001b[0m\u001b[0m\n\u001b[0;32m    223\u001b[0m \u001b[1;33m\u001b[0m\u001b[0m\n",
      "\u001b[1;32m~\\Anaconda3\\lib\\site-packages\\scipy\\sparse\\base.py\u001b[0m in \u001b[0;36m__matmul__\u001b[1;34m(self, other)\u001b[0m\n\u001b[0;32m    559\u001b[0m             raise ValueError(\"Scalar operands are not allowed, \"\n\u001b[0;32m    560\u001b[0m                              \"use '*' instead\")\n\u001b[1;32m--> 561\u001b[1;33m         \u001b[1;32mreturn\u001b[0m \u001b[0mself\u001b[0m\u001b[1;33m.\u001b[0m\u001b[0m__mul__\u001b[0m\u001b[1;33m(\u001b[0m\u001b[0mother\u001b[0m\u001b[1;33m)\u001b[0m\u001b[1;33m\u001b[0m\u001b[1;33m\u001b[0m\u001b[0m\n\u001b[0m\u001b[0;32m    562\u001b[0m \u001b[1;33m\u001b[0m\u001b[0m\n\u001b[0;32m    563\u001b[0m     \u001b[1;32mdef\u001b[0m \u001b[0m__rmatmul__\u001b[0m\u001b[1;33m(\u001b[0m\u001b[0mself\u001b[0m\u001b[1;33m,\u001b[0m \u001b[0mother\u001b[0m\u001b[1;33m)\u001b[0m\u001b[1;33m:\u001b[0m\u001b[1;33m\u001b[0m\u001b[1;33m\u001b[0m\u001b[0m\n",
      "\u001b[1;32m~\\Anaconda3\\lib\\site-packages\\scipy\\sparse\\base.py\u001b[0m in \u001b[0;36m__mul__\u001b[1;34m(self, other)\u001b[0m\n\u001b[0;32m    466\u001b[0m             \u001b[1;31m# Fast path for the most common case\u001b[0m\u001b[1;33m\u001b[0m\u001b[1;33m\u001b[0m\u001b[1;33m\u001b[0m\u001b[0m\n\u001b[0;32m    467\u001b[0m             \u001b[1;32mif\u001b[0m \u001b[0mother\u001b[0m\u001b[1;33m.\u001b[0m\u001b[0mshape\u001b[0m \u001b[1;33m==\u001b[0m \u001b[1;33m(\u001b[0m\u001b[0mN\u001b[0m\u001b[1;33m,\u001b[0m\u001b[1;33m)\u001b[0m\u001b[1;33m:\u001b[0m\u001b[1;33m\u001b[0m\u001b[1;33m\u001b[0m\u001b[0m\n\u001b[1;32m--> 468\u001b[1;33m                 \u001b[1;32mreturn\u001b[0m \u001b[0mself\u001b[0m\u001b[1;33m.\u001b[0m\u001b[0m_mul_vector\u001b[0m\u001b[1;33m(\u001b[0m\u001b[0mother\u001b[0m\u001b[1;33m)\u001b[0m\u001b[1;33m\u001b[0m\u001b[1;33m\u001b[0m\u001b[0m\n\u001b[0m\u001b[0;32m    469\u001b[0m             \u001b[1;32melif\u001b[0m \u001b[0mother\u001b[0m\u001b[1;33m.\u001b[0m\u001b[0mshape\u001b[0m \u001b[1;33m==\u001b[0m \u001b[1;33m(\u001b[0m\u001b[0mN\u001b[0m\u001b[1;33m,\u001b[0m \u001b[1;36m1\u001b[0m\u001b[1;33m)\u001b[0m\u001b[1;33m:\u001b[0m\u001b[1;33m\u001b[0m\u001b[1;33m\u001b[0m\u001b[0m\n\u001b[0;32m    470\u001b[0m                 \u001b[1;32mreturn\u001b[0m \u001b[0mself\u001b[0m\u001b[1;33m.\u001b[0m\u001b[0m_mul_vector\u001b[0m\u001b[1;33m(\u001b[0m\u001b[0mother\u001b[0m\u001b[1;33m.\u001b[0m\u001b[0mravel\u001b[0m\u001b[1;33m(\u001b[0m\u001b[1;33m)\u001b[0m\u001b[1;33m)\u001b[0m\u001b[1;33m.\u001b[0m\u001b[0mreshape\u001b[0m\u001b[1;33m(\u001b[0m\u001b[0mM\u001b[0m\u001b[1;33m,\u001b[0m \u001b[1;36m1\u001b[0m\u001b[1;33m)\u001b[0m\u001b[1;33m\u001b[0m\u001b[1;33m\u001b[0m\u001b[0m\n",
      "\u001b[1;32m~\\Anaconda3\\lib\\site-packages\\scipy\\sparse\\compressed.py\u001b[0m in \u001b[0;36m_mul_vector\u001b[1;34m(self, other)\u001b[0m\n\u001b[0;32m    471\u001b[0m         \u001b[1;31m# csr_matvec or csc_matvec\u001b[0m\u001b[1;33m\u001b[0m\u001b[1;33m\u001b[0m\u001b[1;33m\u001b[0m\u001b[0m\n\u001b[0;32m    472\u001b[0m         \u001b[0mfn\u001b[0m \u001b[1;33m=\u001b[0m \u001b[0mgetattr\u001b[0m\u001b[1;33m(\u001b[0m\u001b[0m_sparsetools\u001b[0m\u001b[1;33m,\u001b[0m \u001b[0mself\u001b[0m\u001b[1;33m.\u001b[0m\u001b[0mformat\u001b[0m \u001b[1;33m+\u001b[0m \u001b[1;34m'_matvec'\u001b[0m\u001b[1;33m)\u001b[0m\u001b[1;33m\u001b[0m\u001b[1;33m\u001b[0m\u001b[0m\n\u001b[1;32m--> 473\u001b[1;33m         \u001b[0mfn\u001b[0m\u001b[1;33m(\u001b[0m\u001b[0mM\u001b[0m\u001b[1;33m,\u001b[0m \u001b[0mN\u001b[0m\u001b[1;33m,\u001b[0m \u001b[0mself\u001b[0m\u001b[1;33m.\u001b[0m\u001b[0mindptr\u001b[0m\u001b[1;33m,\u001b[0m \u001b[0mself\u001b[0m\u001b[1;33m.\u001b[0m\u001b[0mindices\u001b[0m\u001b[1;33m,\u001b[0m \u001b[0mself\u001b[0m\u001b[1;33m.\u001b[0m\u001b[0mdata\u001b[0m\u001b[1;33m,\u001b[0m \u001b[0mother\u001b[0m\u001b[1;33m,\u001b[0m \u001b[0mresult\u001b[0m\u001b[1;33m)\u001b[0m\u001b[1;33m\u001b[0m\u001b[1;33m\u001b[0m\u001b[0m\n\u001b[0m\u001b[0;32m    474\u001b[0m \u001b[1;33m\u001b[0m\u001b[0m\n\u001b[0;32m    475\u001b[0m         \u001b[1;32mreturn\u001b[0m \u001b[0mresult\u001b[0m\u001b[1;33m\u001b[0m\u001b[1;33m\u001b[0m\u001b[0m\n",
      "\u001b[1;31mKeyboardInterrupt\u001b[0m: "
     ]
    }
   ],
   "source": [
    "ORBITS_PER = 10\n",
    "timesteps_correct = []\n",
    "errors = []\n",
    "for s in srs:\n",
    "    for i in range(ORBITS_PER):\n",
    "        err = []\n",
    "        acc = []\n",
    "        # Solve lorenz equations for a random initial condition\n",
    "        X0 = random_lorenz_x0()\n",
    "        train_t, test_t, u = lorenz_equ(X0)\n",
    "        # Make reservoir computer\n",
    "        params[\"spect_rad\"] = s\n",
    "        rc = ResComp(**params)\n",
    "        # Train reservoir computer and predict\n",
    "        err.append(rc.fit(train_t, u))\n",
    "        pred = rc.predict(test_t)\n",
    "        acc.append(how_long_accurate(u(test_t), pred))\n",
    "    # Store results\n",
    "    print(f\"Spectral Radius: {s} \\t Timesteps Correct: {np.mean(acc)} \\t Error: {np.mean(err)}\")\n",
    "    errors.append(np.mean(err))\n",
    "    timesteps_correct.append(np.mean(acc))"
   ]
  },
  {
   "cell_type": "markdown",
   "metadata": {},
   "source": []
  },
  {
   "cell_type": "markdown",
   "metadata": {},
   "source": [
    "## Repeat with less regularization and a tighter range"
   ]
  },
  {
   "cell_type": "code",
   "execution_count": 5,
   "metadata": {},
   "outputs": [
    {
     "name": "stdout",
     "output_type": "stream",
     "text": [
      "Spectral Radius: 1e-05 \t Timesteps Correct: 1574.0 \t Error: 0.04824021404311735\n",
      "Spectral Radius: 2.8942661247167517e-05 \t Timesteps Correct: 1990.0 \t Error: 0.045993599497347035\n",
      "Spectral Radius: 8.376776400682924e-05 \t Timesteps Correct: 2715.0 \t Error: 0.057886429139819354\n",
      "Spectral Radius: 0.00024244620170823283 \t Timesteps Correct: 924.0 \t Error: 0.037321210580112806\n",
      "Spectral Radius: 0.000701703828670383 \t Timesteps Correct: 1700.0 \t Error: 0.04709042275789776\n",
      "Spectral Radius: 0.002030917620904737 \t Timesteps Correct: 1328.0 \t Error: 0.03698368044241907\n",
      "Spectral Radius: 0.0058780160722749115 \t Timesteps Correct: 1893.0 \t Error: 0.04131464973601402\n",
      "Spectral Radius: 0.017012542798525893 \t Timesteps Correct: 2352.0 \t Error: 0.03879178653105855\n",
      "Spectral Radius: 0.04923882631706741 \t Timesteps Correct: 2673.0 \t Error: 0.04229905195508091\n",
      "Spectral Radius: 0.14251026703029993 \t Timesteps Correct: 117.0 \t Error: 0.03810213344756777\n",
      "Spectral Radius: 0.41246263829013563 \t Timesteps Correct: 1321.0 \t Error: 0.031034528708587587\n",
      "Spectral Radius: 1.1937766417144382 \t Timesteps Correct: 837.0 \t Error: 0.02804481489384241\n",
      "Spectral Radius: 3.455107294592218 \t Timesteps Correct: 732.0 \t Error: 0.04048890997047159\n",
      "Spectral Radius: 10.0 \t Timesteps Correct: 2238.0 \t Error: 0.04712914236237137\n"
     ]
    }
   ],
   "source": [
    "params = {\n",
    "    \"uniform_weights\": True,\n",
    "    \"solver\": \"ridge\",\n",
    "    \"ridge_alpha\": 1e-5,\n",
    "    \"signal_dim\": 3,\n",
    "    \"network\": \"random graph\",\n",
    "\n",
    "    \"res_sz\": 2000,\n",
    "    \"activ_f\": np.tanh,\n",
    "    \"connect_p\": .001,\n",
    "    \"spect_rad\": .9,\n",
    "    \"gamma\": 1.,\n",
    "    \"sigma\": 0.12,\n",
    "    \"sparse_res\": True,\n",
    "}\n",
    "\n",
    "srs = np.logspace(-5,1,14)\n",
    "\n",
    "ORBITS_PER = 10\n",
    "timesteps_correct = []\n",
    "errors = []\n",
    "for s in srs:\n",
    "    for i in range(ORBITS_PER):\n",
    "        err = []\n",
    "        acc = []\n",
    "        # Solve lorenz equations for a random initial condition\n",
    "        X0 = random_lorenz_x0()\n",
    "        train_t, test_t, u = lorenz_equ(X0)\n",
    "        # Make reservoir computer\n",
    "        params[\"spect_rad\"] = s\n",
    "        rc = ResComp(**params)\n",
    "        # Train reservoir computer and predict\n",
    "        err.append(rc.fit(train_t, u))\n",
    "        pred = rc.predict(test_t)\n",
    "        acc.append(how_long_accurate(u(test_t), pred))\n",
    "    # Store results\n",
    "    print(f\"Spectral Radius: {s} \\t Timesteps Correct: {np.mean(acc)} \\t Error: {np.mean(err)}\")\n",
    "    errors.append(np.mean(err))\n",
    "    timesteps_correct.append(np.mean(acc))"
   ]
  },
  {
   "cell_type": "markdown",
   "metadata": {},
   "source": [
    "## Repeat with a different network topology"
   ]
  },
  {
   "cell_type": "code",
   "execution_count": 6,
   "metadata": {},
   "outputs": [
    {
     "name": "stdout",
     "output_type": "stream",
     "text": [
      "Spectral Radius: 1e-05 \t Timesteps Correct: 301.0 \t Error: 0.09984549952147391\n",
      "Spectral Radius: 2.8942661247167517e-05 \t Timesteps Correct: 1553.0 \t Error: 0.11033924909144113\n",
      "Spectral Radius: 8.376776400682924e-05 \t Timesteps Correct: 1023.0 \t Error: 0.10802474749920596\n",
      "Spectral Radius: 0.00024244620170823283 \t Timesteps Correct: 1110.0 \t Error: 0.08109019020552104\n",
      "Spectral Radius: 0.000701703828670383 \t Timesteps Correct: 1583.0 \t Error: 0.09858157040968643\n",
      "Spectral Radius: 0.002030917620904737 \t Timesteps Correct: 1815.0 \t Error: 0.11334999138766885\n",
      "Spectral Radius: 0.0058780160722749115 \t Timesteps Correct: 626.0 \t Error: 0.09272628579132385\n",
      "Spectral Radius: 0.017012542798525893 \t Timesteps Correct: 1211.0 \t Error: 0.10682493961832693\n",
      "Spectral Radius: 0.04923882631706741 \t Timesteps Correct: 2095.0 \t Error: 0.11321593831248399\n",
      "Spectral Radius: 0.14251026703029993 \t Timesteps Correct: 1052.0 \t Error: 0.13772664038097585\n",
      "Spectral Radius: 0.41246263829013563 \t Timesteps Correct: 789.0 \t Error: 0.11089078902337447\n",
      "Spectral Radius: 1.1937766417144382 \t Timesteps Correct: 428.0 \t Error: 0.1472244076607203\n",
      "Spectral Radius: 3.455107294592218 \t Timesteps Correct: 593.0 \t Error: 0.10805482150635301\n",
      "Spectral Radius: 10.0 \t Timesteps Correct: 257.0 \t Error: 0.23818964795201356\n"
     ]
    }
   ],
   "source": [
    "params = {\n",
    "    \"uniform_weights\": True,\n",
    "    \"solver\": \"ridge\",\n",
    "    \"ridge_alpha\": 1e-3,\n",
    "    \"signal_dim\": 3,\n",
    "    \"network\": \"random graph\",\n",
    "\n",
    "    \"res_sz\": 2000,\n",
    "    \"activ_f\": np.tanh,\n",
    "    \"connect_p\": .001,\n",
    "    \"spect_rad\": .9,\n",
    "    \"gamma\": 1.,\n",
    "    \"sigma\": 0.12,\n",
    "    \"sparse_res\": True,\n",
    "}\n",
    "\n",
    "srs = np.logspace(-5,1,14)\n",
    "\n",
    "ORBITS_PER = 10\n",
    "timesteps_correct = []\n",
    "errors = []\n",
    "for s in srs:\n",
    "    for i in range(ORBITS_PER):\n",
    "        err = []\n",
    "        acc = []\n",
    "        # Solve lorenz equations for a random initial condition\n",
    "        X0 = random_lorenz_x0()\n",
    "        train_t, test_t, u = lorenz_equ(X0)\n",
    "        # Make reservoir computer\n",
    "        params[\"spect_rad\"] = s\n",
    "        A = barab1()\n",
    "        rc = ResComp(A, **params)\n",
    "        # Train reservoir computer and predict\n",
    "        err.append(rc.fit(train_t, u))\n",
    "        pred = rc.predict(test_t)\n",
    "        acc.append(how_long_accurate(u(test_t), pred))\n",
    "    # Store results\n",
    "    print(f\"Spectral Radius: {s} \\t Timesteps Correct: {np.mean(acc)} \\t Error: {np.mean(err)}\")\n",
    "    errors.append(np.mean(err))\n",
    "    timesteps_correct.append(np.mean(acc))"
   ]
  },
  {
   "cell_type": "code",
   "execution_count": 4,
   "metadata": {},
   "outputs": [
    {
     "data": {
      "text/plain": [
       "array([1.00000000e-05, 2.89426612e-05, 8.37677640e-05, 2.42446202e-04,\n",
       "       7.01703829e-04, 2.03091762e-03, 5.87801607e-03, 1.70125428e-02,\n",
       "       4.92388263e-02, 1.42510267e-01, 4.12462638e-01, 1.19377664e+00,\n",
       "       3.45510729e+00, 1.00000000e+01])"
      ]
     },
     "execution_count": 4,
     "metadata": {},
     "output_type": "execute_result"
    }
   ],
   "source": [
    "np.logspace(-5,1, 14)"
   ]
  }
 ],
 "metadata": {
  "kernelspec": {
   "display_name": "Python 3",
   "language": "python",
   "name": "python3"
  },
  "language_info": {
   "codemirror_mode": {
    "name": "ipython",
    "version": 3
   },
   "file_extension": ".py",
   "mimetype": "text/x-python",
   "name": "python",
   "nbconvert_exporter": "python",
   "pygments_lexer": "ipython3",
   "version": "3.7.4"
  }
 },
 "nbformat": 4,
 "nbformat_minor": 4
}
