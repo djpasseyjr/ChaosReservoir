{
 "cells": [
  {
   "cell_type": "markdown",
   "metadata": {},
   "source": [
    "# Spectral Radius Parameter Range "
   ]
  },
  {
   "cell_type": "markdown",
   "metadata": {},
   "source": [
    "It doesn't seem to make a huge difference .0005 to 5 is my best range"
   ]
  },
  {
   "cell_type": "code",
   "execution_count": 5,
   "metadata": {},
   "outputs": [],
   "source": [
    "from res_experiment import *\n",
    "import time"
   ]
  },
  {
   "cell_type": "code",
   "execution_count": 6,
   "metadata": {},
   "outputs": [],
   "source": [
    "# Standard Hyper Parameters\n",
    "params = {\n",
    "    \"uniform_weights\": True,\n",
    "    \"solver\": \"ridge\",\n",
    "    \"ridge_alpha\": .0001,\n",
    "    \"signal_dim\": 3,\n",
    "    \"network\": \"random graph\",\n",
    "\n",
    "    \"res_sz\": 2000,\n",
    "    \"activ_f\": np.tanh,\n",
    "    \"connect_p\": .001,\n",
    "    \"spect_rad\": .9,\n",
    "    \"gamma\": 1.,\n",
    "    \"sigma\": 0.12,\n",
    "    \"sparse_res\": True,\n",
    "}\n",
    "\n",
    "# Generate spectral radius values from a log space\n",
    "srs = np.logspace(-7,5, 13)\n",
    "\n"
   ]
  },
  {
   "cell_type": "code",
   "execution_count": 7,
   "metadata": {},
   "outputs": [
    {
     "name": "stdout",
     "output_type": "stream",
     "text": [
      "Spectral Radius: 1e-07 \t Timesteps Correct: 1958.3 \t Error: 0.09281645911123061 \t Time: 84.64\n",
      "Spectral Radius: 1e-06 \t Timesteps Correct: 1321.6 \t Error: 0.07135244785240928 \t Time: 103.00\n",
      "Spectral Radius: 1e-05 \t Timesteps Correct: 1474.2 \t Error: 0.09221538669967491 \t Time: 92.97\n",
      "Spectral Radius: 0.0001 \t Timesteps Correct: 1158.4 \t Error: 0.09671124343324472 \t Time: 95.54\n",
      "Spectral Radius: 0.001 \t Timesteps Correct: 1596.4 \t Error: 0.09949098331157818 \t Time: 94.67\n",
      "Spectral Radius: 0.01 \t Timesteps Correct: 1127.9 \t Error: 0.08843290456048283 \t Time: 93.35\n",
      "Spectral Radius: 0.1 \t Timesteps Correct: 1331.7 \t Error: 0.06212969118881898 \t Time: 86.89\n",
      "Spectral Radius: 1.0 \t Timesteps Correct: 869.3 \t Error: 0.07387692375450292 \t Time: 106.95\n",
      "Spectral Radius: 10.0 \t Timesteps Correct: 533.4 \t Error: 0.0963411265549689 \t Time: 107.36\n",
      "Spectral Radius: 100.0 \t Timesteps Correct: 275.2 \t Error: 0.08904324490990537 \t Time: 114.84\n",
      "Spectral Radius: 1000.0 \t Timesteps Correct: 564.9 \t Error: 0.05904476092258583 \t Time: 306.39\n"
     ]
    },
    {
     "ename": "KeyboardInterrupt",
     "evalue": "",
     "output_type": "error",
     "traceback": [
      "\u001b[1;31m---------------------------------------------------------------------------\u001b[0m",
      "\u001b[1;31mKeyboardInterrupt\u001b[0m                         Traceback (most recent call last)",
      "\u001b[1;32m<ipython-input-7-3ca786445b4d>\u001b[0m in \u001b[0;36m<module>\u001b[1;34m\u001b[0m\n\u001b[0;32m     14\u001b[0m         \u001b[0mrc\u001b[0m \u001b[1;33m=\u001b[0m \u001b[0mResComp\u001b[0m\u001b[1;33m(\u001b[0m\u001b[1;33m**\u001b[0m\u001b[0mparams\u001b[0m\u001b[1;33m)\u001b[0m\u001b[1;33m\u001b[0m\u001b[1;33m\u001b[0m\u001b[0m\n\u001b[0;32m     15\u001b[0m         \u001b[1;31m# Train reservoir computer and predict\u001b[0m\u001b[1;33m\u001b[0m\u001b[1;33m\u001b[0m\u001b[1;33m\u001b[0m\u001b[0m\n\u001b[1;32m---> 16\u001b[1;33m         \u001b[0merr\u001b[0m\u001b[1;33m.\u001b[0m\u001b[0mappend\u001b[0m\u001b[1;33m(\u001b[0m\u001b[0mrc\u001b[0m\u001b[1;33m.\u001b[0m\u001b[0mfit\u001b[0m\u001b[1;33m(\u001b[0m\u001b[0mtrain_t\u001b[0m\u001b[1;33m,\u001b[0m \u001b[0mu\u001b[0m\u001b[1;33m)\u001b[0m\u001b[1;33m)\u001b[0m\u001b[1;33m\u001b[0m\u001b[1;33m\u001b[0m\u001b[0m\n\u001b[0m\u001b[0;32m     17\u001b[0m         \u001b[0mpred\u001b[0m \u001b[1;33m=\u001b[0m \u001b[0mrc\u001b[0m\u001b[1;33m.\u001b[0m\u001b[0mpredict\u001b[0m\u001b[1;33m(\u001b[0m\u001b[0mtest_t\u001b[0m\u001b[1;33m)\u001b[0m\u001b[1;33m\u001b[0m\u001b[1;33m\u001b[0m\u001b[0m\n\u001b[0;32m     18\u001b[0m         \u001b[0macc\u001b[0m\u001b[1;33m.\u001b[0m\u001b[0mappend\u001b[0m\u001b[1;33m(\u001b[0m\u001b[0mhow_long_accurate\u001b[0m\u001b[1;33m(\u001b[0m\u001b[0mu\u001b[0m\u001b[1;33m(\u001b[0m\u001b[0mtest_t\u001b[0m\u001b[1;33m)\u001b[0m\u001b[1;33m,\u001b[0m \u001b[0mpred\u001b[0m\u001b[1;33m)\u001b[0m\u001b[1;33m)\u001b[0m\u001b[1;33m\u001b[0m\u001b[1;33m\u001b[0m\u001b[0m\n",
      "\u001b[1;32m~\\WebbWork\\ReservoirSpecialization\\rescomp\\ResComp.py\u001b[0m in \u001b[0;36mfit\u001b[1;34m(self, t, u, return_states)\u001b[0m\n\u001b[0;32m    239\u001b[0m             \u001b[0mOptionally\u001b[0m \u001b[0mreturns\u001b[0m\u001b[1;33m:\u001b[0m \u001b[0mdrive_states\u001b[0m \u001b[1;33m:\u001b[0m \u001b[1;33m(\u001b[0m\u001b[0mndarray\u001b[0m\u001b[1;33m)\u001b[0m \u001b[0mof\u001b[0m \u001b[0mnode\u001b[0m \u001b[0mstates\u001b[0m\u001b[1;33m\u001b[0m\u001b[1;33m\u001b[0m\u001b[0m\n\u001b[0;32m    240\u001b[0m         \"\"\"\n\u001b[1;32m--> 241\u001b[1;33m         \u001b[0mdriven_states\u001b[0m    \u001b[1;33m=\u001b[0m \u001b[0mself\u001b[0m\u001b[1;33m.\u001b[0m\u001b[0mdrive\u001b[0m\u001b[1;33m(\u001b[0m\u001b[0mt\u001b[0m\u001b[1;33m,\u001b[0m\u001b[0mu\u001b[0m\u001b[1;33m)\u001b[0m\u001b[1;33m\u001b[0m\u001b[1;33m\u001b[0m\u001b[0m\n\u001b[0m\u001b[0;32m    242\u001b[0m         \u001b[0mtrue_states\u001b[0m      \u001b[1;33m=\u001b[0m \u001b[0mu\u001b[0m\u001b[1;33m(\u001b[0m\u001b[0mt\u001b[0m\u001b[1;33m)\u001b[0m\u001b[1;33m.\u001b[0m\u001b[0mT\u001b[0m\u001b[1;33m\u001b[0m\u001b[1;33m\u001b[0m\u001b[0m\n\u001b[0;32m    243\u001b[0m         \u001b[1;32mif\u001b[0m \u001b[0mself\u001b[0m\u001b[1;33m.\u001b[0m\u001b[0msolver\u001b[0m \u001b[1;33m==\u001b[0m \u001b[1;34m\"least squares\"\u001b[0m\u001b[1;33m:\u001b[0m\u001b[1;33m\u001b[0m\u001b[1;33m\u001b[0m\u001b[0m\n",
      "\u001b[1;32m~\\WebbWork\\ReservoirSpecialization\\rescomp\\ResComp.py\u001b[0m in \u001b[0;36mdrive\u001b[1;34m(self, t, u)\u001b[0m\n\u001b[0;32m    223\u001b[0m \u001b[1;33m\u001b[0m\u001b[0m\n\u001b[0;32m    224\u001b[0m         \u001b[0mr_0\u001b[0m    \u001b[1;33m=\u001b[0m \u001b[0mself\u001b[0m\u001b[1;33m.\u001b[0m\u001b[0mstate_0\u001b[0m\u001b[1;33m\u001b[0m\u001b[1;33m\u001b[0m\u001b[0m\n\u001b[1;32m--> 225\u001b[1;33m         \u001b[0mstates\u001b[0m \u001b[1;33m=\u001b[0m \u001b[0mintegrate\u001b[0m\u001b[1;33m.\u001b[0m\u001b[0modeint\u001b[0m\u001b[1;33m(\u001b[0m\u001b[0mres_f\u001b[0m\u001b[1;33m,\u001b[0m\u001b[0mr_0\u001b[0m\u001b[1;33m,\u001b[0m\u001b[0mt\u001b[0m\u001b[1;33m)\u001b[0m\u001b[1;33m\u001b[0m\u001b[1;33m\u001b[0m\u001b[0m\n\u001b[0m\u001b[0;32m    226\u001b[0m         \u001b[0mself\u001b[0m\u001b[1;33m.\u001b[0m\u001b[0mstate_0\u001b[0m \u001b[1;33m=\u001b[0m \u001b[0mstates\u001b[0m\u001b[1;33m[\u001b[0m\u001b[1;33m-\u001b[0m\u001b[1;36m1\u001b[0m\u001b[1;33m]\u001b[0m\u001b[1;33m\u001b[0m\u001b[1;33m\u001b[0m\u001b[0m\n\u001b[0;32m    227\u001b[0m         \u001b[1;32mreturn\u001b[0m \u001b[0mstates\u001b[0m\u001b[1;33m\u001b[0m\u001b[1;33m\u001b[0m\u001b[0m\n",
      "\u001b[1;32m~\\Anaconda3\\lib\\site-packages\\scipy\\integrate\\odepack.py\u001b[0m in \u001b[0;36modeint\u001b[1;34m(func, y0, t, args, Dfun, col_deriv, full_output, ml, mu, rtol, atol, tcrit, h0, hmax, hmin, ixpr, mxstep, mxhnil, mxordn, mxords, printmessg, tfirst)\u001b[0m\n\u001b[0;32m    242\u001b[0m                              \u001b[0mfull_output\u001b[0m\u001b[1;33m,\u001b[0m \u001b[0mrtol\u001b[0m\u001b[1;33m,\u001b[0m \u001b[0matol\u001b[0m\u001b[1;33m,\u001b[0m \u001b[0mtcrit\u001b[0m\u001b[1;33m,\u001b[0m \u001b[0mh0\u001b[0m\u001b[1;33m,\u001b[0m \u001b[0mhmax\u001b[0m\u001b[1;33m,\u001b[0m \u001b[0mhmin\u001b[0m\u001b[1;33m,\u001b[0m\u001b[1;33m\u001b[0m\u001b[1;33m\u001b[0m\u001b[0m\n\u001b[0;32m    243\u001b[0m                              \u001b[0mixpr\u001b[0m\u001b[1;33m,\u001b[0m \u001b[0mmxstep\u001b[0m\u001b[1;33m,\u001b[0m \u001b[0mmxhnil\u001b[0m\u001b[1;33m,\u001b[0m \u001b[0mmxordn\u001b[0m\u001b[1;33m,\u001b[0m \u001b[0mmxords\u001b[0m\u001b[1;33m,\u001b[0m\u001b[1;33m\u001b[0m\u001b[1;33m\u001b[0m\u001b[0m\n\u001b[1;32m--> 244\u001b[1;33m                              int(bool(tfirst)))\n\u001b[0m\u001b[0;32m    245\u001b[0m     \u001b[1;32mif\u001b[0m \u001b[0moutput\u001b[0m\u001b[1;33m[\u001b[0m\u001b[1;33m-\u001b[0m\u001b[1;36m1\u001b[0m\u001b[1;33m]\u001b[0m \u001b[1;33m<\u001b[0m \u001b[1;36m0\u001b[0m\u001b[1;33m:\u001b[0m\u001b[1;33m\u001b[0m\u001b[1;33m\u001b[0m\u001b[0m\n\u001b[0;32m    246\u001b[0m         \u001b[0mwarning_msg\u001b[0m \u001b[1;33m=\u001b[0m \u001b[0m_msgs\u001b[0m\u001b[1;33m[\u001b[0m\u001b[0moutput\u001b[0m\u001b[1;33m[\u001b[0m\u001b[1;33m-\u001b[0m\u001b[1;36m1\u001b[0m\u001b[1;33m]\u001b[0m\u001b[1;33m]\u001b[0m \u001b[1;33m+\u001b[0m \u001b[1;34m\" Run with full_output = 1 to get quantitative information.\"\u001b[0m\u001b[1;33m\u001b[0m\u001b[1;33m\u001b[0m\u001b[0m\n",
      "\u001b[1;32m~\\WebbWork\\ReservoirSpecialization\\rescomp\\ResComp.py\u001b[0m in \u001b[0;36mres_f\u001b[1;34m(r, t)\u001b[0m\n\u001b[0;32m    219\u001b[0m         \u001b[1;31m# Reservoir ode\u001b[0m\u001b[1;33m\u001b[0m\u001b[1;33m\u001b[0m\u001b[1;33m\u001b[0m\u001b[0m\n\u001b[0;32m    220\u001b[0m         \u001b[1;32mdef\u001b[0m \u001b[0mres_f\u001b[0m\u001b[1;33m(\u001b[0m\u001b[0mr\u001b[0m\u001b[1;33m,\u001b[0m\u001b[0mt\u001b[0m\u001b[1;33m)\u001b[0m\u001b[1;33m:\u001b[0m\u001b[1;33m\u001b[0m\u001b[1;33m\u001b[0m\u001b[0m\n\u001b[1;32m--> 221\u001b[1;33m             \u001b[1;32mreturn\u001b[0m \u001b[0mself\u001b[0m\u001b[1;33m.\u001b[0m\u001b[0mgamma\u001b[0m\u001b[1;33m*\u001b[0m\u001b[1;33m(\u001b[0m\u001b[1;33m-\u001b[0m\u001b[1;36m1\u001b[0m\u001b[1;33m*\u001b[0m\u001b[0mr\u001b[0m \u001b[1;33m+\u001b[0m \u001b[0mself\u001b[0m\u001b[1;33m.\u001b[0m\u001b[0mactiv_f\u001b[0m\u001b[1;33m(\u001b[0m\u001b[0mself\u001b[0m\u001b[1;33m.\u001b[0m\u001b[0mres\u001b[0m \u001b[1;33m@\u001b[0m \u001b[0mr\u001b[0m \u001b[1;33m+\u001b[0m \u001b[0mself\u001b[0m\u001b[1;33m.\u001b[0m\u001b[0msigma\u001b[0m\u001b[1;33m*\u001b[0m\u001b[0mself\u001b[0m\u001b[1;33m.\u001b[0m\u001b[0mW_in\u001b[0m \u001b[1;33m@\u001b[0m \u001b[0mu\u001b[0m\u001b[1;33m(\u001b[0m\u001b[0mt\u001b[0m\u001b[1;33m)\u001b[0m\u001b[1;33m)\u001b[0m\u001b[1;33m)\u001b[0m\u001b[1;33m\u001b[0m\u001b[1;33m\u001b[0m\u001b[0m\n\u001b[0m\u001b[0;32m    222\u001b[0m         \u001b[1;31m#end\u001b[0m\u001b[1;33m\u001b[0m\u001b[1;33m\u001b[0m\u001b[1;33m\u001b[0m\u001b[0m\n\u001b[0;32m    223\u001b[0m \u001b[1;33m\u001b[0m\u001b[0m\n",
      "\u001b[1;31mKeyboardInterrupt\u001b[0m: "
     ]
    }
   ],
   "source": [
    "ORBITS_PER = 10\n",
    "timesteps_correct = []\n",
    "errors = []\n",
    "for s in srs:\n",
    "    err = []\n",
    "    acc = []\n",
    "    start = time.time()\n",
    "    for i in range(ORBITS_PER):\n",
    "        # Solve lorenz equations for a random initial condition\n",
    "        X0 = random_lorenz_x0()\n",
    "        train_t, test_t, u = lorenz_equ(X0)\n",
    "        # Make reservoir computer\n",
    "        params[\"spect_rad\"] = s\n",
    "        rc = ResComp(**params)\n",
    "        # Train reservoir computer and predict\n",
    "        err.append(rc.fit(train_t, u))\n",
    "        pred = rc.predict(test_t)\n",
    "        acc.append(how_long_accurate(u(test_t), pred))\n",
    "    # Store results\n",
    "    print(f\"Spectral Radius: {s} \\t Timesteps Correct: {np.mean(acc)} \\t Error: {np.mean(err)} \\t Time: {format(time.time()-start, '.2f')}\")\n",
    "    errors.append(np.mean(err))\n",
    "    timesteps_correct.append(np.mean(acc))"
   ]
  },
  {
   "cell_type": "markdown",
   "metadata": {},
   "source": []
  },
  {
   "cell_type": "markdown",
   "metadata": {},
   "source": [
    "## Repeat with less regularization and a tighter range"
   ]
  },
  {
   "cell_type": "code",
   "execution_count": 8,
   "metadata": {},
   "outputs": [
    {
     "name": "stdout",
     "output_type": "stream",
     "text": [
      "Spectral Radius: 0.1 \t Timesteps Correct: 1457.6 \t Error: 0.03754464135736556 \t Time: 92.64\n",
      "Spectral Radius: 0.17012542798525893 \t Timesteps Correct: 1859.3 \t Error: 0.038236008376787686 \t Time: 87.16\n",
      "Spectral Radius: 0.2894266124716751 \t Timesteps Correct: 1330.6 \t Error: 0.033408383901240964 \t Time: 87.14\n",
      "Spectral Radius: 0.4923882631706739 \t Timesteps Correct: 1265.8 \t Error: 0.03127020650801944 \t Time: 88.90\n",
      "Spectral Radius: 0.837677640068292 \t Timesteps Correct: 1096.6 \t Error: 0.03387599537892415 \t Time: 102.32\n",
      "Spectral Radius: 1.4251026703029985 \t Timesteps Correct: 1259.0 \t Error: 0.04151291130803347 \t Time: 90.05\n",
      "Spectral Radius: 2.424462017082328 \t Timesteps Correct: 1152.3 \t Error: 0.04094599346306331 \t Time: 97.67\n",
      "Spectral Radius: 4.1246263829013525 \t Timesteps Correct: 922.2 \t Error: 0.054530242670146126 \t Time: 91.56\n",
      "Spectral Radius: 7.01703828670383 \t Timesteps Correct: 1194.9 \t Error: 0.04972785275769731 \t Time: 93.83\n",
      "Spectral Radius: 11.93776641714437 \t Timesteps Correct: 983.0 \t Error: 0.037879175589711336 \t Time: 96.14\n",
      "Spectral Radius: 20.30917620904737 \t Timesteps Correct: 723.2 \t Error: 0.0502991876265106 \t Time: 119.72\n",
      "Spectral Radius: 34.551072945922215 \t Timesteps Correct: 786.4 \t Error: 0.049902396153590114 \t Time: 106.10\n",
      "Spectral Radius: 58.780160722749116 \t Timesteps Correct: 683.0 \t Error: 0.03795974013933134 \t Time: 102.12\n",
      "Spectral Radius: 100.0 \t Timesteps Correct: 665.0 \t Error: 0.039696006633952965 \t Time: 117.45\n"
     ]
    }
   ],
   "source": [
    "params = {\n",
    "    \"uniform_weights\": True,\n",
    "    \"solver\": \"ridge\",\n",
    "    \"ridge_alpha\": 1e-5,\n",
    "    \"signal_dim\": 3,\n",
    "    \"network\": \"random graph\",\n",
    "\n",
    "    \"res_sz\": 2000,\n",
    "    \"activ_f\": np.tanh,\n",
    "    \"connect_p\": .001,\n",
    "    \"spect_rad\": .9,\n",
    "    \"gamma\": 1.,\n",
    "    \"sigma\": 0.12,\n",
    "    \"sparse_res\": True,\n",
    "}\n",
    "\n",
    "srs = np.logspace(-1,2,14)\n",
    "\n",
    "ORBITS_PER = 10\n",
    "timesteps_correct = []\n",
    "errors = []\n",
    "for s in srs:\n",
    "    err = []\n",
    "    acc = []\n",
    "    start = time.time()\n",
    "    for i in range(ORBITS_PER):\n",
    "        # Solve lorenz equations for a random initial condition\n",
    "        X0 = random_lorenz_x0()\n",
    "        train_t, test_t, u = lorenz_equ(X0)\n",
    "        # Make reservoir computer\n",
    "        params[\"spect_rad\"] = s\n",
    "        rc = ResComp(**params)\n",
    "        # Train reservoir computer and predict\n",
    "        err.append(rc.fit(train_t, u))\n",
    "        pred = rc.predict(test_t)\n",
    "        acc.append(how_long_accurate(u(test_t), pred))\n",
    "    # Store results\n",
    "    print(f\"Spectral Radius: {s} \\t Timesteps Correct: {np.mean(acc)} \\t Error: {np.mean(err)} \\t Time: {format(time.time()-start, '.2f')}\")\n",
    "    errors.append(np.mean(err))\n",
    "    timesteps_correct.append(np.mean(acc))"
   ]
  },
  {
   "cell_type": "markdown",
   "metadata": {},
   "source": [
    "## Repeat with a different network topology"
   ]
  },
  {
   "cell_type": "code",
   "execution_count": 9,
   "metadata": {},
   "outputs": [
    {
     "name": "stdout",
     "output_type": "stream",
     "text": [
      "Spectral Radius: 0.1 \t Timesteps Correct: 1099.7 \t Error: 0.1262026407520792  \t Time: 188.69\n",
      "Spectral Radius: 0.17012542798525893 \t Timesteps Correct: 1478.3 \t Error: 0.10506483536289521  \t Time: 210.21\n",
      "Spectral Radius: 0.2894266124716751 \t Timesteps Correct: 781.0 \t Error: 0.12844336100707238  \t Time: 201.92\n",
      "Spectral Radius: 0.4923882631706739 \t Timesteps Correct: 1254.1 \t Error: 0.1156439725982847  \t Time: 157.98\n",
      "Spectral Radius: 0.837677640068292 \t Timesteps Correct: 1101.3 \t Error: 0.11308790982022494  \t Time: 181.18\n",
      "Spectral Radius: 1.4251026703029985 \t Timesteps Correct: 709.1 \t Error: 0.10793238503684413  \t Time: 169.39\n",
      "Spectral Radius: 2.424462017082328 \t Timesteps Correct: 867.2 \t Error: 0.14003115892072945  \t Time: 120.55\n",
      "Spectral Radius: 4.1246263829013525 \t Timesteps Correct: 258.7 \t Error: 0.1522509400217195  \t Time: 171.67\n",
      "Spectral Radius: 7.01703828670383 \t Timesteps Correct: 200.2 \t Error: 0.27751943331240303  \t Time: 235.21\n",
      "Spectral Radius: 11.93776641714437 \t Timesteps Correct: 58.8 \t Error: 0.45518042055087216  \t Time: 196.67\n",
      "Spectral Radius: 20.30917620904737 \t Timesteps Correct: 97.7 \t Error: 0.6149214654890345  \t Time: 511.33\n",
      "Spectral Radius: 34.551072945922215 \t Timesteps Correct: 404.3 \t Error: 0.1229010739562725  \t Time: 170.42\n",
      "Spectral Radius: 58.780160722749116 \t Timesteps Correct: 135.3 \t Error: 1.7257516506274264  \t Time: 295.51\n",
      "Spectral Radius: 100.0 \t Timesteps Correct: 0.0 \t Error: 9.129225438561978  \t Time: 189.49\n"
     ]
    }
   ],
   "source": [
    "params = {\n",
    "    \"uniform_weights\": True,\n",
    "    \"solver\": \"ridge\",\n",
    "    \"ridge_alpha\": 1e-3,\n",
    "    \"signal_dim\": 3,\n",
    "    \"network\": \"random graph\",\n",
    "\n",
    "    \"res_sz\": 2000,\n",
    "    \"activ_f\": np.tanh,\n",
    "    \"connect_p\": .001,\n",
    "    \"spect_rad\": .9,\n",
    "    \"gamma\": 1.,\n",
    "    \"sigma\": 0.12,\n",
    "    \"sparse_res\": True,\n",
    "}\n",
    "\n",
    "srs = np.logspace(-1,2,14)\n",
    "\n",
    "ORBITS_PER = 10\n",
    "timesteps_correct = []\n",
    "errors = []\n",
    "for s in srs:\n",
    "    err = []\n",
    "    acc = []\n",
    "    start = time.time()\n",
    "    for i in range(ORBITS_PER):\n",
    "        # Solve lorenz equations for a random initial condition\n",
    "        X0 = random_lorenz_x0()\n",
    "        train_t, test_t, u = lorenz_equ(X0)\n",
    "        # Make reservoir computer\n",
    "        params[\"spect_rad\"] = s\n",
    "        A = barab1()\n",
    "        rc = ResComp(A, **params)\n",
    "        # Train reservoir computer and predict\n",
    "        err.append(rc.fit(train_t, u))\n",
    "        pred = rc.predict(test_t)\n",
    "        acc.append(how_long_accurate(u(test_t), pred))\n",
    "    # Store results\n",
    "    print(f\"Spectral Radius: {s} \\t Timesteps Correct: {np.mean(acc)} \\t Error: {np.mean(err)}  \\t Time: {format(time.time()-start, '.2f')}\")\n",
    "    errors.append(np.mean(err))\n",
    "    timesteps_correct.append(np.mean(acc))"
   ]
  },
  {
   "cell_type": "code",
   "execution_count": 4,
   "metadata": {},
   "outputs": [
    {
     "data": {
      "text/plain": [
       "array([1.00000000e-05, 2.89426612e-05, 8.37677640e-05, 2.42446202e-04,\n",
       "       7.01703829e-04, 2.03091762e-03, 5.87801607e-03, 1.70125428e-02,\n",
       "       4.92388263e-02, 1.42510267e-01, 4.12462638e-01, 1.19377664e+00,\n",
       "       3.45510729e+00, 1.00000000e+01])"
      ]
     },
     "execution_count": 4,
     "metadata": {},
     "output_type": "execute_result"
    }
   ],
   "source": [
    "np.logspace(-5,1, 14)"
   ]
  }
 ],
 "metadata": {
  "kernelspec": {
   "display_name": "Python 3",
   "language": "python",
   "name": "python3"
  },
  "language_info": {
   "codemirror_mode": {
    "name": "ipython",
    "version": 3
   },
   "file_extension": ".py",
   "mimetype": "text/x-python",
   "name": "python",
   "nbconvert_exporter": "python",
   "pygments_lexer": "ipython3",
   "version": "3.7.4"
  }
 },
 "nbformat": 4,
 "nbformat_minor": 4
}
