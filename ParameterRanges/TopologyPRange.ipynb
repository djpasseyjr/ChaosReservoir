{
 "cells": [
  {
   "cell_type": "markdown",
   "metadata": {},
   "source": [
    "# Topology P Ranges\n",
    "\n",
    "### Watts3 and Watts5\n",
    "The Watts-Strogatz topology has a rewiring parameter p. The following tests will determine if there are any values of p that create useless networks"
   ]
  },
  {
   "cell_type": "code",
   "execution_count": 1,
   "metadata": {},
   "outputs": [],
   "source": [
    "from res_experiment import *\n",
    "import numpy as np\n",
    "import time"
   ]
  },
  {
   "cell_type": "code",
   "execution_count": 2,
   "metadata": {},
   "outputs": [],
   "source": [
    "# Standard Hyper Parameters\n",
    "rc_params = {\n",
    "    \"uniform_weights\": True,\n",
    "    \"solver\": \"ridge\",\n",
    "    \"ridge_alpha\": .0001,\n",
    "    \"signal_dim\": 3,\n",
    "    \"network\": \"random graph\",\n",
    "\n",
    "    \"res_sz\": 2000,\n",
    "    \"activ_f\": np.tanh,\n",
    "    \"connect_p\": .001,\n",
    "    \"spect_rad\": .9,\n",
    "    \"gamma\": 1.,\n",
    "    \"sigma\": 0.12,\n",
    "    \"sparse_res\": True,\n",
    "}\n",
    "\n",
    "# Generate gamma values from a log space\n",
    "ps = np.linspace(0,1,11)\n"
   ]
  },
  {
   "cell_type": "markdown",
   "metadata": {},
   "source": [
    "### Watts 3 Topology"
   ]
  },
  {
   "cell_type": "code",
   "execution_count": 3,
   "metadata": {},
   "outputs": [
    {
     "name": "stdout",
     "output_type": "stream",
     "text": [
      "p: 0.0 \t Timesteps Correct: 463.6 \t Error: 0.18844699132775874 \t Time: 203.37\n",
      "p: 0.1 \t Timesteps Correct: 716.7 \t Error: 0.09731506798219558 \t Time: 224.82\n",
      "p: 0.2 \t Timesteps Correct: 856.7 \t Error: 0.10003790172220554 \t Time: 182.79\n",
      "p: 0.30000000000000004 \t Timesteps Correct: 628.4 \t Error: 0.08802036393017383 \t Time: 196.26\n",
      "p: 0.4 \t Timesteps Correct: 546.1 \t Error: 0.08646789643726745 \t Time: 162.27\n",
      "p: 0.5 \t Timesteps Correct: 754.0 \t Error: 0.07018564794344878 \t Time: 197.51\n",
      "p: 0.6000000000000001 \t Timesteps Correct: 907.0 \t Error: 0.07512855094237454 \t Time: 216.24\n",
      "p: 0.7000000000000001 \t Timesteps Correct: 1121.0 \t Error: 0.07089829178628018 \t Time: 217.09\n",
      "p: 0.8 \t Timesteps Correct: 1148.4 \t Error: 0.06889052643790325 \t Time: 183.76\n",
      "p: 0.9 \t Timesteps Correct: 1322.9 \t Error: 0.07462882484388171 \t Time: 206.76\n",
      "p: 1.0 \t Timesteps Correct: 665.0 \t Error: 0.07822393678935437 \t Time: 182.10\n"
     ]
    }
   ],
   "source": [
    "ORBITS_PER = 10\n",
    "timesteps_correct = []\n",
    "errors = []\n",
    "for p in ps:\n",
    "    err = []\n",
    "    acc = []\n",
    "    start = time.time()\n",
    "    for i in range(ORBITS_PER):\n",
    "        # Solve lorenz equations for a random initial condition\n",
    "        X0 = random_lorenz_x0()\n",
    "        train_t, test_t, u = lorenz_equ(X0)\n",
    "        # Make reservoir computer\n",
    "        A = watts3(p)\n",
    "        rc = ResComp(A, **rc_params)\n",
    "        # Train reservoir computer and predict\n",
    "        err.append(rc.fit(train_t, u))\n",
    "        pred = rc.predict(test_t)\n",
    "        acc.append(how_long_accurate(u(test_t), pred))\n",
    "    # Store results\n",
    "    print(f\"p: {p} \\t Timesteps Correct: {np.mean(acc)} \\t Error: {np.mean(err)} \\t Time: {format(time.time()-start, '.2f')}\")\n",
    "    errors.append(np.mean(err))\n",
    "    timesteps_correct.append(np.mean(acc))"
   ]
  },
  {
   "cell_type": "code",
   "execution_count": 4,
   "metadata": {},
   "outputs": [
    {
     "name": "stdout",
     "output_type": "stream",
     "text": [
      "p: 0.0 \t Timesteps Correct: 272.8 \t Error: 0.21262226159799602 \t Time: 188.92\n",
      "p: 0.1 \t Timesteps Correct: 303.3 \t Error: 0.16109534883601934 \t Time: 194.83\n",
      "p: 0.2 \t Timesteps Correct: 705.4 \t Error: 0.13280381848681416 \t Time: 207.94\n",
      "p: 0.30000000000000004 \t Timesteps Correct: 735.4 \t Error: 0.12027532432584179 \t Time: 221.91\n",
      "p: 0.4 \t Timesteps Correct: 700.2 \t Error: 0.12149272363260619 \t Time: 189.97\n",
      "p: 0.5 \t Timesteps Correct: 764.2 \t Error: 0.11541968503257531 \t Time: 181.12\n",
      "p: 0.6000000000000001 \t Timesteps Correct: 677.7 \t Error: 0.10293718699288679 \t Time: 178.11\n",
      "p: 0.7000000000000001 \t Timesteps Correct: 725.0 \t Error: 0.10088034458472468 \t Time: 223.34\n",
      "p: 0.8 \t Timesteps Correct: 455.2 \t Error: 0.09939651257116411 \t Time: 197.15\n",
      "p: 0.9 \t Timesteps Correct: 870.1 \t Error: 0.1133059986511501 \t Time: 208.11\n",
      "p: 1.0 \t Timesteps Correct: 778.4 \t Error: 0.1084671317189319 \t Time: 184.69\n"
     ]
    }
   ],
   "source": [
    "ORBITS_PER = 10\n",
    "timesteps_correct = []\n",
    "errors = []\n",
    "for p in ps:\n",
    "    err = []\n",
    "    acc = []\n",
    "    start = time.time()\n",
    "    for i in range(ORBITS_PER):\n",
    "        # Solve lorenz equations for a random initial condition\n",
    "        X0 = random_lorenz_x0()\n",
    "        train_t, test_t, u = lorenz_equ(X0)\n",
    "        # Make reservoir computer\n",
    "        A = watts5(p)\n",
    "        rc = ResComp(A, **rc_params)\n",
    "        # Train reservoir computer and predict\n",
    "        err.append(rc.fit(train_t, u))\n",
    "        pred = rc.predict(test_t)\n",
    "        acc.append(how_long_accurate(u(test_t), pred))\n",
    "    # Store results\n",
    "    print(f\"p: {p} \\t Timesteps Correct: {np.mean(acc)} \\t Error: {np.mean(err)} \\t Time: {format(time.time()-start, '.2f')}\")\n",
    "    errors.append(np.mean(err))\n",
    "    timesteps_correct.append(np.mean(acc))"
   ]
  },
  {
   "cell_type": "markdown",
   "metadata": {},
   "source": [
    "### Erdos-Renyi\n",
    "\n",
    "c is the mean degree of the network"
   ]
  },
  {
   "cell_type": "code",
   "execution_count": 7,
   "metadata": {},
   "outputs": [],
   "source": [
    "cs = np.logspace(-2.5,2,10)"
   ]
  },
  {
   "cell_type": "code",
   "execution_count": 8,
   "metadata": {},
   "outputs": [
    {
     "name": "stdout",
     "output_type": "stream",
     "text": [
      "Mean degree: 0.0031622776601683794 \t Timesteps Correct: 1004.4 \t Error: 0.0604322157926734 \t Time: 150.36\n",
      "Mean degree: 0.01 \t Timesteps Correct: 1255.1 \t Error: 0.08034360995200784 \t Time: 112.41\n",
      "Mean degree: 0.03162277660168379 \t Timesteps Correct: 1199.2 \t Error: 0.05518792251477026 \t Time: 114.80\n",
      "Mean degree: 0.1 \t Timesteps Correct: 1163.5 \t Error: 0.04907644647301925 \t Time: 107.41\n",
      "Mean degree: 0.31622776601683794 \t Timesteps Correct: 1568.6 \t Error: 0.04392345972170573 \t Time: 199.87\n",
      "Mean degree: 1.0 \t Timesteps Correct: 1088.0 \t Error: 0.05071256566664743 \t Time: 167.71\n",
      "Mean degree: 3.1622776601683795 \t Timesteps Correct: 1201.3 \t Error: 0.07241501954504607 \t Time: 228.10\n",
      "Mean degree: 10.0 \t Timesteps Correct: 925.3 \t Error: 0.11666613061345568 \t Time: 237.63\n",
      "Mean degree: 31.622776601683793 \t Timesteps Correct: 862.9 \t Error: 0.17049801605713527 \t Time: 267.41\n",
      "Mean degree: 100.0 \t Timesteps Correct: 355.3 \t Error: 0.22170547858621625 \t Time: 379.89\n"
     ]
    }
   ],
   "source": [
    "ORBITS_PER = 10\n",
    "timesteps_correct = []\n",
    "errors = []\n",
    "for c in cs:\n",
    "    err = []\n",
    "    acc = []\n",
    "    start = time.time()\n",
    "    for i in range(ORBITS_PER):    \n",
    "        # Solve lorenz equations for a random initial condition\n",
    "        X0 = random_lorenz_x0()\n",
    "        train_t, test_t, u = lorenz_equ(X0)\n",
    "        # Make reservoir computer\n",
    "        A = erdos(c)\n",
    "        rc = ResComp(A, **rc_params)\n",
    "        # Train reservoir computer and predict\n",
    "        err.append(rc.fit(train_t, u))\n",
    "        pred = rc.predict(test_t)\n",
    "        acc.append(how_long_accurate(u(test_t), pred))\n",
    "    # Store results\n",
    "    print(f\"Mean degree: {c} \\t Timesteps Correct: {np.mean(acc)} \\t Error: {np.mean(err)} \\t Time: {format(time.time()-start, '.2f')}\")\n",
    "    errors.append(np.mean(err))\n",
    "    timesteps_correct.append(np.mean(acc))"
   ]
  },
  {
   "cell_type": "markdown",
   "metadata": {},
   "source": [
    "### Random Digraph\n",
    "c is the mean in-degree of the network"
   ]
  },
  {
   "cell_type": "code",
   "execution_count": 9,
   "metadata": {},
   "outputs": [],
   "source": [
    "cs = np.logspace(0.25,2,10)"
   ]
  },
  {
   "cell_type": "code",
   "execution_count": 10,
   "metadata": {},
   "outputs": [
    {
     "name": "stdout",
     "output_type": "stream",
     "text": [
      "Mean degree: 1.7782794100389228 \t Timesteps Correct: 1198.4 \t Error: 0.05217410214352332 \t Time: 177.60\n",
      "Mean degree: 2.7825594022071245 \t Timesteps Correct: 734.8 \t Error: 0.06846996902800555 \t Time: 203.86\n",
      "Mean degree: 4.354004653656649 \t Timesteps Correct: 940.6 \t Error: 0.09420952871026714 \t Time: 198.99\n",
      "Mean degree: 6.812920690579613 \t Timesteps Correct: 1206.2 \t Error: 0.10763172120454141 \t Time: 210.49\n",
      "Mean degree: 10.66050498984792 \t Timesteps Correct: 612.5 \t Error: 0.14307418656087187 \t Time: 189.96\n",
      "Mean degree: 16.68100537200059 \t Timesteps Correct: 809.8 \t Error: 0.15139618405363414 \t Time: 214.34\n",
      "Mean degree: 26.101572156825373 \t Timesteps Correct: 406.7 \t Error: 0.1710104720520137 \t Time: 210.13\n",
      "Mean degree: 40.842386526745216 \t Timesteps Correct: 423.8 \t Error: 0.19233305527426664 \t Time: 216.69\n",
      "Mean degree: 63.90804841860313 \t Timesteps Correct: 191.6 \t Error: 0.21881887844821 \t Time: 207.15\n",
      "Mean degree: 100.0 \t Timesteps Correct: 374.6 \t Error: 0.2330166600769093 \t Time: 342.69\n"
     ]
    }
   ],
   "source": [
    "ORBITS_PER = 10\n",
    "timesteps_correct = []\n",
    "errors = []\n",
    "for c in cs:\n",
    "    err = []\n",
    "    acc = []\n",
    "    start = time.time()\n",
    "    for i in range(ORBITS_PER):\n",
    "        # Solve lorenz equations for a random initial condition\n",
    "        X0 = random_lorenz_x0()\n",
    "        train_t, test_t, u = lorenz_equ(X0)\n",
    "        # Make reservoir computer\n",
    "        A = random_digraph(c)\n",
    "        rc = ResComp(A, **rc_params)\n",
    "        # Train reservoir computer and predict\n",
    "        err.append(rc.fit(train_t, u))\n",
    "        pred = rc.predict(test_t)\n",
    "        acc.append(how_long_accurate(u(test_t), pred))\n",
    "    # Store results\n",
    "    print(f\"Mean degree: {c} \\t Timesteps Correct: {np.mean(acc)} \\t Error: {np.mean(err)} \\t Time: {format(time.time()-start, '.2f')}\")\n",
    "    errors.append(np.mean(err))\n",
    "    timesteps_correct.append(np.mean(acc))"
   ]
  },
  {
   "cell_type": "code",
   "execution_count": null,
   "metadata": {},
   "outputs": [],
   "source": []
  }
 ],
 "metadata": {
  "kernelspec": {
   "display_name": "Python 3",
   "language": "python",
   "name": "python3"
  },
  "language_info": {
   "codemirror_mode": {
    "name": "ipython",
    "version": 3
   },
   "file_extension": ".py",
   "mimetype": "text/x-python",
   "name": "python",
   "nbconvert_exporter": "python",
   "pygments_lexer": "ipython3",
   "version": "3.7.4"
  }
 },
 "nbformat": 4,
 "nbformat_minor": 4
}
