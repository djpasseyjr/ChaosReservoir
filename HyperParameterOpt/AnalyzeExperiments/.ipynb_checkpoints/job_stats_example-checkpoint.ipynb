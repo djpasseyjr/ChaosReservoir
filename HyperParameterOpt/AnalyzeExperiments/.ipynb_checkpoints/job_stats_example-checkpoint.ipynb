{
 "cells": [
  {
   "cell_type": "code",
   "execution_count": 1,
   "metadata": {},
   "outputs": [],
   "source": [
    "import numpy as np\n",
    "import pandas as pd\n",
    "import matplotlib.pyplot as plt\n",
    "import os"
   ]
  },
  {
   "cell_type": "code",
   "execution_count": 3,
   "metadata": {
    "collapsed": true
   },
   "outputs": [
    {
     "name": "stdout",
     "output_type": "stream",
     "text": [
      "(14566, 8)\n",
      "Index(['job_id', 'job_name', 'cpus_allocated', 'cpu_efficiency',\n",
      "       'memory_efficiency', 'actual_walltime', 'time_job_finished',\n",
      "       'job_state'],\n",
      "      dtype='object')\n"
     ]
    },
    {
     "data": {
      "text/html": [
       "<div>\n",
       "<style scoped>\n",
       "    .dataframe tbody tr th:only-of-type {\n",
       "        vertical-align: middle;\n",
       "    }\n",
       "\n",
       "    .dataframe tbody tr th {\n",
       "        vertical-align: top;\n",
       "    }\n",
       "\n",
       "    .dataframe thead th {\n",
       "        text-align: right;\n",
       "    }\n",
       "</style>\n",
       "<table border=\"1\" class=\"dataframe\">\n",
       "  <thead>\n",
       "    <tr style=\"text-align: right;\">\n",
       "      <th></th>\n",
       "      <th>job_id</th>\n",
       "      <th>job_name</th>\n",
       "      <th>cpus_allocated</th>\n",
       "      <th>cpu_efficiency</th>\n",
       "      <th>memory_efficiency</th>\n",
       "      <th>actual_walltime</th>\n",
       "      <th>time_job_finished</th>\n",
       "      <th>job_state</th>\n",
       "    </tr>\n",
       "  </thead>\n",
       "  <tbody>\n",
       "    <tr>\n",
       "      <th>0</th>\n",
       "      <td>36340968_973</td>\n",
       "      <td>jw52_watts4</td>\n",
       "      <td>1</td>\n",
       "      <td>0.0</td>\n",
       "      <td>0.04</td>\n",
       "      <td>15:01:23</td>\n",
       "      <td>2020-06-11 00:13:18</td>\n",
       "      <td>TIMEOUT</td>\n",
       "    </tr>\n",
       "    <tr>\n",
       "      <th>1</th>\n",
       "      <td>36340968_974</td>\n",
       "      <td>jw52_watts4</td>\n",
       "      <td>1</td>\n",
       "      <td>0.0</td>\n",
       "      <td>0.04</td>\n",
       "      <td>15:01:23</td>\n",
       "      <td>2020-06-11 00:13:18</td>\n",
       "      <td>TIMEOUT</td>\n",
       "    </tr>\n",
       "    <tr>\n",
       "      <th>2</th>\n",
       "      <td>36340968_971</td>\n",
       "      <td>jw52_watts4</td>\n",
       "      <td>1</td>\n",
       "      <td>0.0</td>\n",
       "      <td>0.04</td>\n",
       "      <td>15:01:23</td>\n",
       "      <td>2020-06-11 00:13:18</td>\n",
       "      <td>TIMEOUT</td>\n",
       "    </tr>\n",
       "    <tr>\n",
       "      <th>3</th>\n",
       "      <td>36340968_979</td>\n",
       "      <td>jw52_watts4</td>\n",
       "      <td>1</td>\n",
       "      <td>0.0</td>\n",
       "      <td>0.04</td>\n",
       "      <td>15:01:23</td>\n",
       "      <td>2020-06-11 00:13:18</td>\n",
       "      <td>TIMEOUT</td>\n",
       "    </tr>\n",
       "    <tr>\n",
       "      <th>4</th>\n",
       "      <td>36340968_976</td>\n",
       "      <td>jw52_watts4</td>\n",
       "      <td>1</td>\n",
       "      <td>0.0</td>\n",
       "      <td>0.04</td>\n",
       "      <td>15:01:23</td>\n",
       "      <td>2020-06-11 00:13:18</td>\n",
       "      <td>TIMEOUT</td>\n",
       "    </tr>\n",
       "  </tbody>\n",
       "</table>\n",
       "</div>"
      ],
      "text/plain": [
       "         job_id     job_name  cpus_allocated  cpu_efficiency  \\\n",
       "0  36340968_973  jw52_watts4               1             0.0   \n",
       "1  36340968_974  jw52_watts4               1             0.0   \n",
       "2  36340968_971  jw52_watts4               1             0.0   \n",
       "3  36340968_979  jw52_watts4               1             0.0   \n",
       "4  36340968_976  jw52_watts4               1             0.0   \n",
       "\n",
       "   memory_efficiency actual_walltime    time_job_finished job_state  \n",
       "0               0.04        15:01:23  2020-06-11 00:13:18   TIMEOUT  \n",
       "1               0.04        15:01:23  2020-06-11 00:13:18   TIMEOUT  \n",
       "2               0.04        15:01:23  2020-06-11 00:13:18   TIMEOUT  \n",
       "3               0.04        15:01:23  2020-06-11 00:13:18   TIMEOUT  \n",
       "4               0.04        15:01:23  2020-06-11 00:13:18   TIMEOUT  "
      ]
     },
     "execution_count": 3,
     "metadata": {},
     "output_type": "execute_result"
    }
   ],
   "source": [
    "f = 'job_stats_jun11.csv'\n",
    "df = pd.read_csv(f)\n",
    "df.columns = [x.lower().replace(' ','_') for x in df.columns]\n",
    "print(df.shape,df.columns,sep='\\n')\n",
    "df.head()"
   ]
  },
  {
   "cell_type": "code",
   "execution_count": 29,
   "metadata": {},
   "outputs": [
    {
     "data": {
      "text/plain": [
       "array(['jw52_watts4', 'jw50_watts4', '49p2w4', 'jw51_watts4', '49p1w4',\n",
       "       'jw49_watts4', 'jw46_2p_w5', 'jw39_6p', 'jw47_2p_w5', 'jw45_2p_w3',\n",
       "       'jw38_6p', 'jw48_2p_w4', 'jw44_2p_b2', 'jw43_3p_b1', 'jw43_2p_b1'],\n",
       "      dtype=object)"
      ]
     },
     "execution_count": 29,
     "metadata": {},
     "output_type": "execute_result"
    }
   ],
   "source": [
    "# take a look at the last 15 jobs and see what jobs you want included in the summary\n",
    "df.job_name.unique()[:15]"
   ]
  },
  {
   "cell_type": "markdown",
   "metadata": {},
   "source": [
    "<font color='blue'>\n",
    "- `recent` is the list of job titles that I want included in the summary, in essence, it's the input <br>\n",
    "then the following two cells (after the recent list initialization) can be run without modification assuming the file naming guide that the first four letters of the job are jw## or jj## \n",
    "  </font>"
   ]
  },
  {
   "cell_type": "code",
   "execution_count": 17,
   "metadata": {},
   "outputs": [],
   "source": [
    "recent = ['jw52_watts4', 'jw50_watts4','jw51_watts4'\n",
    "         ,'jw49_watts4','jw47_watts5', 'jw48_watts4', 'jw46_watts5', 'jw45_watts3',\n",
    "       'jw38_barab2_post3', 'jw39_barab1_post3', 'jw44_barab2',\n",
    "       'jw43_barab1']"
   ]
  },
  {
   "cell_type": "code",
   "execution_count": 21,
   "metadata": {},
   "outputs": [
    {
     "name": "stdout",
     "output_type": "stream",
     "text": [
      "the key title has been shortened\n",
      "dict_keys(['jw52', 'jw50', 'jw51', 'jw49', 'jw47', 'jw48', 'jw46', 'jw45', 'jw38', 'jw39', 'jw44', 'jw43'])\n"
     ]
    }
   ],
   "source": [
    "results = {}\n",
    "print('the key title has been shortened')\n",
    "for i in range(len(recent)):\n",
    "#     print(recent[i])\n",
    "    results[recent[i][:4]] = df.loc[df['job_name'] == recent[i]]['job_state'].value_counts().copy()\n",
    "print(results.keys())"
   ]
  },
  {
   "cell_type": "code",
   "execution_count": 19,
   "metadata": {
    "collapsed": true
   },
   "outputs": [
    {
     "data": {
      "text/html": [
       "<div>\n",
       "<style scoped>\n",
       "    .dataframe tbody tr th:only-of-type {\n",
       "        vertical-align: middle;\n",
       "    }\n",
       "\n",
       "    .dataframe tbody tr th {\n",
       "        vertical-align: top;\n",
       "    }\n",
       "\n",
       "    .dataframe thead th {\n",
       "        text-align: right;\n",
       "    }\n",
       "</style>\n",
       "<table border=\"1\" class=\"dataframe\">\n",
       "  <thead>\n",
       "    <tr style=\"text-align: right;\">\n",
       "      <th></th>\n",
       "      <th>TIMEOUT</th>\n",
       "      <th>COMPLETE</th>\n",
       "      <th>FAILED</th>\n",
       "      <th>NODE FAIL</th>\n",
       "      <th>num_jobs</th>\n",
       "    </tr>\n",
       "  </thead>\n",
       "  <tbody>\n",
       "    <tr>\n",
       "      <th>jw52_watts4</th>\n",
       "      <td>831.0</td>\n",
       "      <td>149.0</td>\n",
       "      <td>0.0</td>\n",
       "      <td>0.0</td>\n",
       "      <td>980.0</td>\n",
       "    </tr>\n",
       "    <tr>\n",
       "      <th>jw50_watts4</th>\n",
       "      <td>0.0</td>\n",
       "      <td>978.0</td>\n",
       "      <td>2.0</td>\n",
       "      <td>0.0</td>\n",
       "      <td>980.0</td>\n",
       "    </tr>\n",
       "    <tr>\n",
       "      <th>jw51_watts4</th>\n",
       "      <td>946.0</td>\n",
       "      <td>15.0</td>\n",
       "      <td>19.0</td>\n",
       "      <td>0.0</td>\n",
       "      <td>980.0</td>\n",
       "    </tr>\n",
       "    <tr>\n",
       "      <th>jw49_watts4</th>\n",
       "      <td>0.0</td>\n",
       "      <td>970.0</td>\n",
       "      <td>10.0</td>\n",
       "      <td>0.0</td>\n",
       "      <td>980.0</td>\n",
       "    </tr>\n",
       "    <tr>\n",
       "      <th>jw47_watts5</th>\n",
       "      <td>574.0</td>\n",
       "      <td>277.0</td>\n",
       "      <td>108.0</td>\n",
       "      <td>9.0</td>\n",
       "      <td>968.0</td>\n",
       "    </tr>\n",
       "    <tr>\n",
       "      <th>jw48_watts4</th>\n",
       "      <td>882.0</td>\n",
       "      <td>87.0</td>\n",
       "      <td>9.0</td>\n",
       "      <td>0.0</td>\n",
       "      <td>978.0</td>\n",
       "    </tr>\n",
       "    <tr>\n",
       "      <th>jw46_watts5</th>\n",
       "      <td>0.0</td>\n",
       "      <td>832.0</td>\n",
       "      <td>108.0</td>\n",
       "      <td>1.0</td>\n",
       "      <td>941.0</td>\n",
       "    </tr>\n",
       "    <tr>\n",
       "      <th>jw45_watts3</th>\n",
       "      <td>0.0</td>\n",
       "      <td>987.0</td>\n",
       "      <td>0.0</td>\n",
       "      <td>0.0</td>\n",
       "      <td>987.0</td>\n",
       "    </tr>\n",
       "    <tr>\n",
       "      <th>jw38_barab2_post3</th>\n",
       "      <td>1.0</td>\n",
       "      <td>0.0</td>\n",
       "      <td>0.0</td>\n",
       "      <td>0.0</td>\n",
       "      <td>1.0</td>\n",
       "    </tr>\n",
       "    <tr>\n",
       "      <th>jw39_barab1_post3</th>\n",
       "      <td>1.0</td>\n",
       "      <td>0.0</td>\n",
       "      <td>0.0</td>\n",
       "      <td>0.0</td>\n",
       "      <td>1.0</td>\n",
       "    </tr>\n",
       "    <tr>\n",
       "      <th>jw44_barab2</th>\n",
       "      <td>0.0</td>\n",
       "      <td>947.0</td>\n",
       "      <td>9.0</td>\n",
       "      <td>0.0</td>\n",
       "      <td>956.0</td>\n",
       "    </tr>\n",
       "    <tr>\n",
       "      <th>jw43_barab1</th>\n",
       "      <td>0.0</td>\n",
       "      <td>972.0</td>\n",
       "      <td>0.0</td>\n",
       "      <td>0.0</td>\n",
       "      <td>972.0</td>\n",
       "    </tr>\n",
       "  </tbody>\n",
       "</table>\n",
       "</div>"
      ],
      "text/plain": [
       "                   TIMEOUT  COMPLETE  FAILED  NODE FAIL  num_jobs\n",
       "jw52_watts4          831.0     149.0     0.0        0.0     980.0\n",
       "jw50_watts4            0.0     978.0     2.0        0.0     980.0\n",
       "jw51_watts4          946.0      15.0    19.0        0.0     980.0\n",
       "jw49_watts4            0.0     970.0    10.0        0.0     980.0\n",
       "jw47_watts5          574.0     277.0   108.0        9.0     968.0\n",
       "jw48_watts4          882.0      87.0     9.0        0.0     978.0\n",
       "jw46_watts5            0.0     832.0   108.0        1.0     941.0\n",
       "jw45_watts3            0.0     987.0     0.0        0.0     987.0\n",
       "jw38_barab2_post3      1.0       0.0     0.0        0.0       1.0\n",
       "jw39_barab1_post3      1.0       0.0     0.0        0.0       1.0\n",
       "jw44_barab2            0.0     947.0     9.0        0.0     956.0\n",
       "jw43_barab1            0.0     972.0     0.0        0.0     972.0"
      ]
     },
     "execution_count": 19,
     "metadata": {},
     "output_type": "execute_result"
    }
   ],
   "source": [
    "df2 = pd.DataFrame()\n",
    "for i in results.keys():\n",
    "    df2 = pd.concat([df2,results[i]],axis=1,sort=False)\n",
    "df2.columns = recent\n",
    "df2.fillna(value=0,inplace=True)\n",
    "new = df2.T\n",
    "new['num_jobs'] = new.sum(axis=1)\n",
    "new"
   ]
  },
  {
   "cell_type": "code",
   "execution_count": 23,
   "metadata": {},
   "outputs": [
    {
     "data": {
      "text/plain": [
       "Index(['job_id', 'job_name', 'cpus_allocated', 'cpu_efficiency',\n",
       "       'memory_efficiency', 'actual_walltime', 'time_job_finished',\n",
       "       'job_state', 'walltime_hours'],\n",
       "      dtype='object')"
      ]
     },
     "execution_count": 23,
     "metadata": {},
     "output_type": "execute_result"
    }
   ],
   "source": [
    "df.columns"
   ]
  },
  {
   "cell_type": "markdown",
   "metadata": {},
   "source": [
    "<font color='blue'>\n",
    "The get hours function will parse the actual_walltime column into a numerical feature of number of hours per job, even if the job went longer than a day \n",
    "  </font>"
   ]
  },
  {
   "cell_type": "code",
   "execution_count": 27,
   "metadata": {},
   "outputs": [],
   "source": [
    "# this cell can be run without modification\n",
    "def get_hours(a):\n",
    "    \"\"\" get the max number of hours\n",
    "        could have number of days in it\n",
    "    \"\"\"\n",
    "    if len(a) == 3:    \n",
    "        if '-' in a[0]:\n",
    "            return int(a[0][0])*24 + int(a[0][-1])\n",
    "        else:\n",
    "            return int(a[0])\n",
    "    else:\n",
    "        return 0\n",
    "        "
   ]
  },
  {
   "cell_type": "code",
   "execution_count": 28,
   "metadata": {},
   "outputs": [],
   "source": [
    "# this cell can be run without modification\n",
    "times = [x.split(':') for x in df['actual_walltime']]\n",
    "df['walltime_hours'] = [get_hours(a) for a in times]"
   ]
  },
  {
   "cell_type": "code",
   "execution_count": 26,
   "metadata": {},
   "outputs": [
    {
     "data": {
      "text/plain": [
       "0    15\n",
       "1    15\n",
       "2    15\n",
       "3    15\n",
       "4    15\n",
       "Name: walltime_hours, dtype: int64"
      ]
     },
     "execution_count": 26,
     "metadata": {},
     "output_type": "execute_result"
    }
   ],
   "source": [
    "df['walltime_hours'].head()"
   ]
  },
  {
   "cell_type": "code",
   "execution_count": 15,
   "metadata": {},
   "outputs": [
    {
     "data": {
      "text/plain": [
       "<matplotlib.axes._subplots.AxesSubplot at 0x11b50ea90>"
      ]
     },
     "execution_count": 15,
     "metadata": {},
     "output_type": "execute_result"
    },
    {
     "data": {
      "image/png": "[encoded data removed]",
      "text/plain": [
       "<Figure size 432x288 with 1 Axes>"
      ]
     },
     "metadata": {
      "needs_background": "light"
     },
     "output_type": "display_data"
    }
   ],
   "source": [
    "df.loc[(df['job_name'] == 'jw52_watts4')].walltime_hours.hist()"
   ]
  },
  {
   "cell_type": "code",
   "execution_count": 16,
   "metadata": {},
   "outputs": [
    {
     "data": {
      "text/plain": [
       "<matplotlib.axes._subplots.AxesSubplot at 0x11b915b70>"
      ]
     },
     "execution_count": 16,
     "metadata": {},
     "output_type": "execute_result"
    },
    {
     "data": {
      "image/png": "[encoded data removed]",
      "text/plain": [
       "<Figure size 432x288 with 1 Axes>"
      ]
     },
     "metadata": {
      "needs_background": "light"
     },
     "output_type": "display_data"
    }
   ],
   "source": [
    "df.loc[(df['job_name'] == 'jw50_watts4')].walltime_hours.hist()"
   ]
  },
  {
   "cell_type": "code",
   "execution_count": null,
   "metadata": {},
   "outputs": [],
   "source": []
  }
 ],
 "metadata": {
  "kernelspec": {
   "display_name": "Python 3",
   "language": "python",
   "name": "python3"
  },
  "language_info": {
   "codemirror_mode": {
    "name": "ipython",
    "version": 3
   },
   "file_extension": ".py",
   "mimetype": "text/x-python",
   "name": "python",
   "nbconvert_exporter": "python",
   "pygments_lexer": "ipython3",
   "version": "3.7.3"
  }
 },
 "nbformat": 4,
 "nbformat_minor": 2
}
