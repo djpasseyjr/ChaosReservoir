{
 "cells": [
  {
   "cell_type": "code",
   "execution_count": 1,
   "metadata": {},
   "outputs": [
    {
     "name": "stderr",
     "output_type": "stream",
     "text": [
      "/Users/joeywilkes/anaconda3/lib/python3.7/site-packages/statsmodels/tools/_testing.py:19: FutureWarning: pandas.util.testing is deprecated. Use the functions in the public API at pandas.testing instead.\n",
      "  import pandas.util.testing as tm\n"
     ]
    }
   ],
   "source": [
    "import pandas as pd\n",
    "import pickle\n",
    "import numpy as np\n",
    "import matplotlib.pyplot as plt\n",
    "import seaborn as sns"
   ]
  },
  {
   "cell_type": "code",
   "execution_count": 2,
   "metadata": {},
   "outputs": [],
   "source": [
    "import os"
   ]
  },
  {
   "cell_type": "code",
   "execution_count": 3,
   "metadata": {},
   "outputs": [],
   "source": [
    "p = '/Users/joeywilkes/ReservoirComputing/research_data/'\n",
    "# sorted(os.listdir(p))"
   ]
  },
  {
   "cell_type": "code",
   "execution_count": 4,
   "metadata": {},
   "outputs": [],
   "source": [
    "f = '0compiled_tarball_output_b12_0.pkl'\n",
    "df = pd.DataFrame(pickle.load(open(p + f,'rb')))"
   ]
  },
  {
   "cell_type": "code",
   "execution_count": 5,
   "metadata": {},
   "outputs": [],
   "source": [
    "df['thinned'] = df.remove_p > 0"
   ]
  },
  {
   "cell_type": "code",
   "execution_count": 6,
   "metadata": {},
   "outputs": [
    {
     "name": "stdout",
     "output_type": "stream",
     "text": [
      "500      False\n",
      "501      False\n",
      "502      False\n",
      "503      False\n",
      "504      False\n",
      "         ...  \n",
      "23995    False\n",
      "23996    False\n",
      "23997    False\n",
      "23998    False\n",
      "23999    False\n",
      "Name: thinned, Length: 2175, dtype: bool\n",
      "500      True\n",
      "501      True\n",
      "502      True\n",
      "503      True\n",
      "504      True\n",
      "         ... \n",
      "23995    True\n",
      "23996    True\n",
      "23997    True\n",
      "23998    True\n",
      "23999    True\n",
      "Name: thinned, Length: 2175, dtype: bool\n"
     ]
    }
   ],
   "source": [
    "# fix the no_edges\n",
    "print(df.loc[(df.net == 'no_edges')]['thinned'])\n",
    "df.loc[(df.net == 'no_edges'),'thinned'] = True\n",
    "print(df.loc[(df.net == 'no_edges')]['thinned'])"
   ]
  },
  {
   "cell_type": "code",
   "execution_count": 7,
   "metadata": {
    "scrolled": true
   },
   "outputs": [
    {
     "data": {
      "text/plain": [
       "net             thinned\n",
       "barab1          False      4201.402000\n",
       "                True       4101.031304\n",
       "barab2          False      4357.320000\n",
       "                True       4098.019024\n",
       "chain           False      3950.880000\n",
       "                True       4199.792857\n",
       "erdos           False      4392.780000\n",
       "                True       4187.836620\n",
       "geom            False      4128.940000\n",
       "                True       4206.290500\n",
       "ident           True       4314.017471\n",
       "loop            False      3966.925000\n",
       "                True       4041.922469\n",
       "no_edges        True       4175.194483\n",
       "random_digraph  False      4080.350000\n",
       "                True       4206.737778\n",
       "watts2          False      4130.750000\n",
       "                True       4178.032941\n",
       "watts4          False      4202.870000\n",
       "                True       4225.653659\n",
       "Name: mean_pred, dtype: float64"
      ]
     },
     "execution_count": 7,
     "metadata": {},
     "output_type": "execute_result"
    }
   ],
   "source": [
    "l = ['net','thinned']\n",
    "x = df.groupby(by=l).aggregate(np.mean)\n",
    "x['mean_pred']"
   ]
  },
  {
   "cell_type": "code",
   "execution_count": 8,
   "metadata": {},
   "outputs": [
    {
     "data": {
      "text/plain": [
       "Index(['mean_pred', 'mean_err', 'adj_size', 'net', 'topo_p', 'gamma', 'sigma',\n",
       "       'spect_rad', 'ridge_alpha', 'remove_p', 'pred', 'err', 'max_scc',\n",
       "       'max_wcc', 'giant_comp', 'singletons', 'nwcc', 'nscc', 'cluster',\n",
       "       'assort', 'diam', 'exp_num', 'thinned'],\n",
       "      dtype='object')"
      ]
     },
     "execution_count": 8,
     "metadata": {},
     "output_type": "execute_result"
    }
   ],
   "source": [
    "df.columns"
   ]
  },
  {
   "cell_type": "code",
   "execution_count": 9,
   "metadata": {
    "scrolled": true
   },
   "outputs": [],
   "source": [
    "x.reset_index(inplace=True) #this is the magic"
   ]
  },
  {
   "cell_type": "code",
   "execution_count": 10,
   "metadata": {
    "scrolled": true
   },
   "outputs": [
    {
     "data": {
      "text/html": [
       "<div>\n",
       "<style scoped>\n",
       "    .dataframe tbody tr th:only-of-type {\n",
       "        vertical-align: middle;\n",
       "    }\n",
       "\n",
       "    .dataframe tbody tr th {\n",
       "        vertical-align: top;\n",
       "    }\n",
       "\n",
       "    .dataframe thead th {\n",
       "        text-align: right;\n",
       "    }\n",
       "</style>\n",
       "<table border=\"1\" class=\"dataframe\">\n",
       "  <thead>\n",
       "    <tr style=\"text-align: right;\">\n",
       "      <th></th>\n",
       "      <th>net</th>\n",
       "      <th>thinned</th>\n",
       "      <th>mean_pred</th>\n",
       "    </tr>\n",
       "  </thead>\n",
       "  <tbody>\n",
       "    <tr>\n",
       "      <th>0</th>\n",
       "      <td>barab1</td>\n",
       "      <td>False</td>\n",
       "      <td>4201.402000</td>\n",
       "    </tr>\n",
       "    <tr>\n",
       "      <th>1</th>\n",
       "      <td>barab1</td>\n",
       "      <td>True</td>\n",
       "      <td>4101.031304</td>\n",
       "    </tr>\n",
       "    <tr>\n",
       "      <th>2</th>\n",
       "      <td>barab2</td>\n",
       "      <td>False</td>\n",
       "      <td>4357.320000</td>\n",
       "    </tr>\n",
       "    <tr>\n",
       "      <th>3</th>\n",
       "      <td>barab2</td>\n",
       "      <td>True</td>\n",
       "      <td>4098.019024</td>\n",
       "    </tr>\n",
       "    <tr>\n",
       "      <th>4</th>\n",
       "      <td>chain</td>\n",
       "      <td>False</td>\n",
       "      <td>3950.880000</td>\n",
       "    </tr>\n",
       "    <tr>\n",
       "      <th>5</th>\n",
       "      <td>chain</td>\n",
       "      <td>True</td>\n",
       "      <td>4199.792857</td>\n",
       "    </tr>\n",
       "    <tr>\n",
       "      <th>6</th>\n",
       "      <td>erdos</td>\n",
       "      <td>False</td>\n",
       "      <td>4392.780000</td>\n",
       "    </tr>\n",
       "    <tr>\n",
       "      <th>7</th>\n",
       "      <td>erdos</td>\n",
       "      <td>True</td>\n",
       "      <td>4187.836620</td>\n",
       "    </tr>\n",
       "    <tr>\n",
       "      <th>8</th>\n",
       "      <td>geom</td>\n",
       "      <td>False</td>\n",
       "      <td>4128.940000</td>\n",
       "    </tr>\n",
       "    <tr>\n",
       "      <th>9</th>\n",
       "      <td>geom</td>\n",
       "      <td>True</td>\n",
       "      <td>4206.290500</td>\n",
       "    </tr>\n",
       "    <tr>\n",
       "      <th>10</th>\n",
       "      <td>ident</td>\n",
       "      <td>True</td>\n",
       "      <td>4314.017471</td>\n",
       "    </tr>\n",
       "    <tr>\n",
       "      <th>11</th>\n",
       "      <td>loop</td>\n",
       "      <td>False</td>\n",
       "      <td>3966.925000</td>\n",
       "    </tr>\n",
       "    <tr>\n",
       "      <th>12</th>\n",
       "      <td>loop</td>\n",
       "      <td>True</td>\n",
       "      <td>4041.922469</td>\n",
       "    </tr>\n",
       "    <tr>\n",
       "      <th>13</th>\n",
       "      <td>no_edges</td>\n",
       "      <td>True</td>\n",
       "      <td>4175.194483</td>\n",
       "    </tr>\n",
       "    <tr>\n",
       "      <th>14</th>\n",
       "      <td>random_digraph</td>\n",
       "      <td>False</td>\n",
       "      <td>4080.350000</td>\n",
       "    </tr>\n",
       "    <tr>\n",
       "      <th>15</th>\n",
       "      <td>random_digraph</td>\n",
       "      <td>True</td>\n",
       "      <td>4206.737778</td>\n",
       "    </tr>\n",
       "    <tr>\n",
       "      <th>16</th>\n",
       "      <td>watts2</td>\n",
       "      <td>False</td>\n",
       "      <td>4130.750000</td>\n",
       "    </tr>\n",
       "    <tr>\n",
       "      <th>17</th>\n",
       "      <td>watts2</td>\n",
       "      <td>True</td>\n",
       "      <td>4178.032941</td>\n",
       "    </tr>\n",
       "    <tr>\n",
       "      <th>18</th>\n",
       "      <td>watts4</td>\n",
       "      <td>False</td>\n",
       "      <td>4202.870000</td>\n",
       "    </tr>\n",
       "    <tr>\n",
       "      <th>19</th>\n",
       "      <td>watts4</td>\n",
       "      <td>True</td>\n",
       "      <td>4225.653659</td>\n",
       "    </tr>\n",
       "  </tbody>\n",
       "</table>\n",
       "</div>"
      ],
      "text/plain": [
       "               net  thinned    mean_pred\n",
       "0           barab1    False  4201.402000\n",
       "1           barab1     True  4101.031304\n",
       "2           barab2    False  4357.320000\n",
       "3           barab2     True  4098.019024\n",
       "4            chain    False  3950.880000\n",
       "5            chain     True  4199.792857\n",
       "6            erdos    False  4392.780000\n",
       "7            erdos     True  4187.836620\n",
       "8             geom    False  4128.940000\n",
       "9             geom     True  4206.290500\n",
       "10           ident     True  4314.017471\n",
       "11            loop    False  3966.925000\n",
       "12            loop     True  4041.922469\n",
       "13        no_edges     True  4175.194483\n",
       "14  random_digraph    False  4080.350000\n",
       "15  random_digraph     True  4206.737778\n",
       "16          watts2    False  4130.750000\n",
       "17          watts2     True  4178.032941\n",
       "18          watts4    False  4202.870000\n",
       "19          watts4     True  4225.653659"
      ]
     },
     "execution_count": 10,
     "metadata": {},
     "output_type": "execute_result"
    }
   ],
   "source": [
    "show = ['net','thinned','mean_pred']\n",
    "x[show]"
   ]
  },
  {
   "cell_type": "code",
   "execution_count": 11,
   "metadata": {},
   "outputs": [
    {
     "data": {
      "text/plain": [
       "<matplotlib.axes._subplots.AxesSubplot at 0x7fe4f6aa4780>"
      ]
     },
     "execution_count": 11,
     "metadata": {},
     "output_type": "execute_result"
    },
    {
     "data": {
      "image/png": "[encoded data removed]",
      "text/plain": [
       "<Figure size 432x288 with 1 Axes>"
      ]
     },
     "metadata": {
      "needs_background": "light"
     },
     "output_type": "display_data"
    }
   ],
   "source": [
    "sns.barplot(x='net',y='mean_pred',hue='thinned',data=x[show])"
   ]
  },
  {
   "cell_type": "code",
   "execution_count": 30,
   "metadata": {},
   "outputs": [
    {
     "data": {
      "image/png": "[encoded data removed]",
      "text/plain": [
       "<Figure size 1080x288 with 1 Axes>"
      ]
     },
     "metadata": {
      "needs_background": "light"
     },
     "output_type": "display_data"
    }
   ],
   "source": [
    "\n",
    "width = 15 #the x\n",
    "height = 4 #the y \n",
    "plt.figure(figsize=(width,height))\n",
    "#https://github.com/mwaskom/seaborn/issues/720 #where I got the idea\n",
    "ax = sns.barplot(x='net',y='mean_pred',data=x,hue='thinned',palette=\"Set1\",saturation=0.6)\n",
    "# ax = sns.barplot(x='net',y='mean_pred',data=x,hue='thinned',palette=\"winter\",saturation=0.6)\n",
    "# handles, _ = ax.get_legend_handles_labels()\n",
    "# ax.legend(handles, [\"Not Thinned\", \"Thinned\"],bbox_to_anchor=(1.1,1.02))\n",
    "plt.title('AVG of Models (15 second predictions)',y=1.03,fontsize=16)\n",
    "plt.ylabel('Mean Accuracy Duration',labelpad=10,fontsize=14)\n",
    "plt.xlabel('Topology',labelpad=10,fontsize=14)\n",
    "plt.ylim(int(3.5e3),int(5e3))\n",
    "ax.set_facecolor('lavender') #ivory & beige,xkcd:beige,azure,khaki\n",
    "plt.tight_layout()"
   ]
  },
  {
   "cell_type": "code",
   "execution_count": 13,
   "metadata": {},
   "outputs": [],
   "source": [
    "d = {0:'Not Thinned',1:'Thinned'}"
   ]
  },
  {
   "cell_type": "code",
   "execution_count": 14,
   "metadata": {},
   "outputs": [
    {
     "name": "stdout",
     "output_type": "stream",
     "text": [
      "How many experiments were run per topology? (25 simulations per exp)\n",
      "\n"
     ]
    }
   ],
   "source": [
    "print('How many experiments were run per topology? (25 simulations per exp)\\n')\n",
    "r = dict() #r for results\n",
    "counter = 0\n",
    "for n in df.net.unique():\n",
    "    for t in [0,1]:\n",
    "        #print(n,d[t],df.loc[(df.net == n) & (df.thinned == t)].shape[0] /25)\n",
    "        counts = df.loc[(df.net == n) & (df.thinned == t)].shape[0] /25\n",
    "        r[counter] = {'net':n,'thinned':t,'experiment_count':counts}\n",
    "        counter += 1"
   ]
  },
  {
   "cell_type": "code",
   "execution_count": 15,
   "metadata": {},
   "outputs": [
    {
     "data": {
      "text/plain": [
       "array([['random_digraph', 81.0],\n",
       "       ['chain', 84.0],\n",
       "       ['watts2', 85.0],\n",
       "       ['erdos', 71.0],\n",
       "       ['ident', 87.0],\n",
       "       ['barab1', 69.0],\n",
       "       ['loop', 81.0],\n",
       "       ['watts4', 82.0],\n",
       "       ['barab2', 82.0],\n",
       "       ['no_edges', 87.0],\n",
       "       ['geom', 80.0]], dtype=object)"
      ]
     },
     "execution_count": 15,
     "metadata": {},
     "output_type": "execute_result"
    }
   ],
   "source": [
    "z = pd.DataFrame(r).T\n",
    "\n",
    "z.loc[z.thinned == 1][['net','experiment_count']].values"
   ]
  },
  {
   "cell_type": "code",
   "execution_count": 29,
   "metadata": {},
   "outputs": [
    {
     "data": {
      "text/html": [
       "<div>\n",
       "<style scoped>\n",
       "    .dataframe tbody tr th:only-of-type {\n",
       "        vertical-align: middle;\n",
       "    }\n",
       "\n",
       "    .dataframe tbody tr th {\n",
       "        vertical-align: top;\n",
       "    }\n",
       "\n",
       "    .dataframe thead th {\n",
       "        text-align: right;\n",
       "    }\n",
       "</style>\n",
       "<table border=\"1\" class=\"dataframe\">\n",
       "  <thead>\n",
       "    <tr style=\"text-align: right;\">\n",
       "      <th></th>\n",
       "      <th>net</th>\n",
       "      <th>thinned</th>\n",
       "      <th>experiment_count</th>\n",
       "    </tr>\n",
       "  </thead>\n",
       "  <tbody>\n",
       "    <tr>\n",
       "      <th>0</th>\n",
       "      <td>random_digraph</td>\n",
       "      <td>0</td>\n",
       "      <td>4.0</td>\n",
       "    </tr>\n",
       "    <tr>\n",
       "      <th>2</th>\n",
       "      <td>chain</td>\n",
       "      <td>0</td>\n",
       "      <td>2.0</td>\n",
       "    </tr>\n",
       "    <tr>\n",
       "      <th>4</th>\n",
       "      <td>watts2</td>\n",
       "      <td>0</td>\n",
       "      <td>4.0</td>\n",
       "    </tr>\n",
       "    <tr>\n",
       "      <th>6</th>\n",
       "      <td>erdos</td>\n",
       "      <td>0</td>\n",
       "      <td>16.0</td>\n",
       "    </tr>\n",
       "    <tr>\n",
       "      <th>8</th>\n",
       "      <td>ident</td>\n",
       "      <td>0</td>\n",
       "      <td>0.0</td>\n",
       "    </tr>\n",
       "    <tr>\n",
       "      <th>10</th>\n",
       "      <td>barab1</td>\n",
       "      <td>0</td>\n",
       "      <td>20.0</td>\n",
       "    </tr>\n",
       "    <tr>\n",
       "      <th>12</th>\n",
       "      <td>loop</td>\n",
       "      <td>0</td>\n",
       "      <td>8.0</td>\n",
       "    </tr>\n",
       "    <tr>\n",
       "      <th>14</th>\n",
       "      <td>watts4</td>\n",
       "      <td>0</td>\n",
       "      <td>4.0</td>\n",
       "    </tr>\n",
       "    <tr>\n",
       "      <th>16</th>\n",
       "      <td>barab2</td>\n",
       "      <td>0</td>\n",
       "      <td>6.0</td>\n",
       "    </tr>\n",
       "    <tr>\n",
       "      <th>18</th>\n",
       "      <td>no_edges</td>\n",
       "      <td>0</td>\n",
       "      <td>0.0</td>\n",
       "    </tr>\n",
       "    <tr>\n",
       "      <th>20</th>\n",
       "      <td>geom</td>\n",
       "      <td>0</td>\n",
       "      <td>8.0</td>\n",
       "    </tr>\n",
       "  </tbody>\n",
       "</table>\n",
       "</div>"
      ],
      "text/plain": [
       "               net thinned experiment_count\n",
       "0   random_digraph       0              4.0\n",
       "2            chain       0              2.0\n",
       "4           watts2       0              4.0\n",
       "6            erdos       0             16.0\n",
       "8            ident       0              0.0\n",
       "10          barab1       0             20.0\n",
       "12            loop       0              8.0\n",
       "14          watts4       0              4.0\n",
       "16          barab2       0              6.0\n",
       "18        no_edges       0              0.0\n",
       "20            geom       0              8.0"
      ]
     },
     "execution_count": 29,
     "metadata": {},
     "output_type": "execute_result"
    }
   ],
   "source": [
    "z.loc[z.thinned == 0]"
   ]
  },
  {
   "cell_type": "code",
   "execution_count": 17,
   "metadata": {},
   "outputs": [
    {
     "data": {
      "text/plain": [
       "Index(['net', 'thinned', 'experiment_count'], dtype='object')"
      ]
     },
     "execution_count": 17,
     "metadata": {},
     "output_type": "execute_result"
    }
   ],
   "source": [
    "z.columns"
   ]
  },
  {
   "cell_type": "code",
   "execution_count": 18,
   "metadata": {},
   "outputs": [
    {
     "data": {
      "image/png": "[encoded data removed]",
      "text/plain": [
       "<Figure size 1080x288 with 1 Axes>"
      ]
     },
     "metadata": {
      "needs_background": "light"
     },
     "output_type": "display_data"
    }
   ],
   "source": [
    "\n",
    "width = 15 #the x\n",
    "height = 4 #the y \n",
    "plt.figure(figsize=(width,height))\n",
    "#https://github.com/mwaskom/seaborn/issues/720 #where I got the idea\n",
    "ax = sns.barplot(x='net',y='experiment_count',data=z,hue='thinned',palette=\"bwr\",saturation=1)\n",
    "handles, _ = ax.get_legend_handles_labels()\n",
    "ax.legend(handles, [\"Not Thinned\", \"Thinned\"],bbox_to_anchor=(1.02,1.02))\n",
    "plt.title('EXPERIMENT COUNT per topo',y=1.03,fontsize=16)\n",
    "# plt.ylabel('Mean Accuracy Duration',labelpad=10,fontsize=14)\n",
    "# plt.xlabel('Topology',labelpad=10,fontsize=14)\n",
    "# plt.ylim(int(3.5e3),int(5e3))\n",
    "ax.set_facecolor('ivory') #ivory & beige,xkcd:beige,azure,khaki\n",
    "# ax.legend(loc='best')\n",
    "plt.tight_layout()"
   ]
  },
  {
   "cell_type": "markdown",
   "metadata": {},
   "source": [
    "# bookmark\n",
    "- how to add values above bargraph \n",
    "<br>\n",
    "\n"
   ]
  },
  {
   "cell_type": "markdown",
   "metadata": {},
   "source": [
    "[graph values](https://stackoverflow.com/questions/28931224/adding-value-labels-on-a-matplotlib-bar-chart)"
   ]
  },
  {
   "cell_type": "code",
   "execution_count": 19,
   "metadata": {},
   "outputs": [
    {
     "name": "stderr",
     "output_type": "stream",
     "text": [
      "/Users/joeywilkes/anaconda3/lib/python3.7/site-packages/ipykernel_launcher.py:2: SettingWithCopyWarning: \n",
      "A value is trying to be set on a copy of a slice from a DataFrame.\n",
      "Try using .loc[row_indexer,col_indexer] = value instead\n",
      "\n",
      "See the caveats in the documentation: https://pandas.pydata.org/pandas-docs/stable/user_guide/indexing.html#returning-a-view-versus-a-copy\n",
      "  \n",
      "/Users/joeywilkes/anaconda3/lib/python3.7/site-packages/ipykernel_launcher.py:3: SettingWithCopyWarning: \n",
      "A value is trying to be set on a copy of a slice from a DataFrame\n",
      "\n",
      "See the caveats in the documentation: https://pandas.pydata.org/pandas-docs/stable/user_guide/indexing.html#returning-a-view-versus-a-copy\n",
      "  This is separate from the ipykernel package so we can avoid doing imports until\n"
     ]
    },
    {
     "name": "stdout",
     "output_type": "stream",
     "text": [
      "the actual values for these means can be seen in the cell below\n",
      "how to add the values to the visual?\n"
     ]
    },
    {
     "data": {
      "image/png": "[encoded data removed]",
      "text/plain": [
       "<Figure size 1080x432 with 1 Axes>"
      ]
     },
     "metadata": {
      "needs_background": "light"
     },
     "output_type": "display_data"
    }
   ],
   "source": [
    "df_thinned = x.loc[x.thinned == 1]\n",
    "df_thinned['ordering'] = [0, 1, 2, 4, 5, 7, 3, 8, 6, 9, 10]\n",
    "df_thinned.sort_values(by='ordering',ascending=True,inplace=True)\n",
    "width = 15 #the x\n",
    "height = 6 #the y \n",
    "plt.figure(figsize=(width,height))\n",
    "#https://github.com/mwaskom/seaborn/issues/720 #where I got the idea\n",
    "ax = sns.barplot(x='net',y='mean_pred',data=df_thinned,palette=\"winter\",saturation=0.6)\n",
    "# handles, _ = ax.get_legend_handles_labels()\n",
    "# ax.legend(handles, [\"Not Thinned\", \"Thinned\"],bbox_to_anchor=(1.1,1.02))\n",
    "plt.title('AVG of THINNED Models (15 second predictions)',y=1.03,fontsize=16)\n",
    "plt.ylabel('Mean Accuracy Duration',labelpad=10,fontsize=14)\n",
    "plt.xlabel('Topology',labelpad=10,fontsize=14)\n",
    "plt.ylim(int(4e3),int(4.4e3))\n",
    "ax.grid(True)\n",
    "ax.set_facecolor('lavender') #ivory & beige,xkcd:beige,azure,khaki\n",
    "print('the actual values for these means can be seen in the cell below')\n",
    "print('how to add the values to the visual?')\n",
    "plt.tight_layout()"
   ]
  },
  {
   "cell_type": "code",
   "execution_count": 20,
   "metadata": {},
   "outputs": [
    {
     "data": {
      "text/plain": [
       "1             barab1\n",
       "3             barab2\n",
       "5              chain\n",
       "12              loop\n",
       "7              erdos\n",
       "9               geom\n",
       "15    random_digraph\n",
       "10             ident\n",
       "13          no_edges\n",
       "17            watts2\n",
       "19            watts4\n",
       "Name: net, dtype: object"
      ]
     },
     "execution_count": 20,
     "metadata": {},
     "output_type": "execute_result"
    }
   ],
   "source": [
    "df_thinned.net"
   ]
  },
  {
   "cell_type": "code",
   "execution_count": null,
   "metadata": {},
   "outputs": [],
   "source": []
  },
  {
   "cell_type": "code",
   "execution_count": 25,
   "metadata": {
    "scrolled": true
   },
   "outputs": [
    {
     "data": {
      "text/html": [
       "<div>\n",
       "<style scoped>\n",
       "    .dataframe tbody tr th:only-of-type {\n",
       "        vertical-align: middle;\n",
       "    }\n",
       "\n",
       "    .dataframe tbody tr th {\n",
       "        vertical-align: top;\n",
       "    }\n",
       "\n",
       "    .dataframe thead th {\n",
       "        text-align: right;\n",
       "    }\n",
       "</style>\n",
       "<table border=\"1\" class=\"dataframe\">\n",
       "  <thead>\n",
       "    <tr style=\"text-align: right;\">\n",
       "      <th></th>\n",
       "      <th>net</th>\n",
       "      <th>remove_p</th>\n",
       "    </tr>\n",
       "  </thead>\n",
       "  <tbody>\n",
       "    <tr>\n",
       "      <th>834</th>\n",
       "      <td>erdos</td>\n",
       "      <td>0.96</td>\n",
       "    </tr>\n",
       "    <tr>\n",
       "      <th>6894</th>\n",
       "      <td>barab2</td>\n",
       "      <td>0.96</td>\n",
       "    </tr>\n",
       "    <tr>\n",
       "      <th>4499</th>\n",
       "      <td>erdos</td>\n",
       "      <td>0.92</td>\n",
       "    </tr>\n",
       "    <tr>\n",
       "      <th>19456</th>\n",
       "      <td>ident</td>\n",
       "      <td>0.99</td>\n",
       "    </tr>\n",
       "    <tr>\n",
       "      <th>14379</th>\n",
       "      <td>ident</td>\n",
       "      <td>0.90</td>\n",
       "    </tr>\n",
       "    <tr>\n",
       "      <th>23086</th>\n",
       "      <td>random_digraph</td>\n",
       "      <td>0.96</td>\n",
       "    </tr>\n",
       "    <tr>\n",
       "      <th>10289</th>\n",
       "      <td>geom</td>\n",
       "      <td>0.00</td>\n",
       "    </tr>\n",
       "    <tr>\n",
       "      <th>2067</th>\n",
       "      <td>barab1</td>\n",
       "      <td>0.50</td>\n",
       "    </tr>\n",
       "    <tr>\n",
       "      <th>12448</th>\n",
       "      <td>chain</td>\n",
       "      <td>0.20</td>\n",
       "    </tr>\n",
       "    <tr>\n",
       "      <th>5965</th>\n",
       "      <td>no_edges</td>\n",
       "      <td>0.00</td>\n",
       "    </tr>\n",
       "    <tr>\n",
       "      <th>22783</th>\n",
       "      <td>random_digraph</td>\n",
       "      <td>0.60</td>\n",
       "    </tr>\n",
       "    <tr>\n",
       "      <th>6933</th>\n",
       "      <td>barab2</td>\n",
       "      <td>0.94</td>\n",
       "    </tr>\n",
       "    <tr>\n",
       "      <th>20723</th>\n",
       "      <td>barab1</td>\n",
       "      <td>0.88</td>\n",
       "    </tr>\n",
       "    <tr>\n",
       "      <th>2444</th>\n",
       "      <td>barab2</td>\n",
       "      <td>0.30</td>\n",
       "    </tr>\n",
       "    <tr>\n",
       "      <th>16170</th>\n",
       "      <td>no_edges</td>\n",
       "      <td>0.00</td>\n",
       "    </tr>\n",
       "    <tr>\n",
       "      <th>19923</th>\n",
       "      <td>geom</td>\n",
       "      <td>0.10</td>\n",
       "    </tr>\n",
       "    <tr>\n",
       "      <th>18766</th>\n",
       "      <td>loop</td>\n",
       "      <td>0.80</td>\n",
       "    </tr>\n",
       "    <tr>\n",
       "      <th>244</th>\n",
       "      <td>erdos</td>\n",
       "      <td>0.00</td>\n",
       "    </tr>\n",
       "    <tr>\n",
       "      <th>3950</th>\n",
       "      <td>loop</td>\n",
       "      <td>0.70</td>\n",
       "    </tr>\n",
       "    <tr>\n",
       "      <th>10138</th>\n",
       "      <td>geom</td>\n",
       "      <td>0.90</td>\n",
       "    </tr>\n",
       "    <tr>\n",
       "      <th>2851</th>\n",
       "      <td>barab2</td>\n",
       "      <td>0.00</td>\n",
       "    </tr>\n",
       "    <tr>\n",
       "      <th>6773</th>\n",
       "      <td>chain</td>\n",
       "      <td>0.88</td>\n",
       "    </tr>\n",
       "    <tr>\n",
       "      <th>13860</th>\n",
       "      <td>loop</td>\n",
       "      <td>0.00</td>\n",
       "    </tr>\n",
       "    <tr>\n",
       "      <th>537</th>\n",
       "      <td>chain</td>\n",
       "      <td>0.20</td>\n",
       "    </tr>\n",
       "    <tr>\n",
       "      <th>20594</th>\n",
       "      <td>chain</td>\n",
       "      <td>0.88</td>\n",
       "    </tr>\n",
       "    <tr>\n",
       "      <th>22945</th>\n",
       "      <td>barab2</td>\n",
       "      <td>0.60</td>\n",
       "    </tr>\n",
       "    <tr>\n",
       "      <th>17754</th>\n",
       "      <td>random_digraph</td>\n",
       "      <td>0.50</td>\n",
       "    </tr>\n",
       "    <tr>\n",
       "      <th>1795</th>\n",
       "      <td>random_digraph</td>\n",
       "      <td>0.92</td>\n",
       "    </tr>\n",
       "    <tr>\n",
       "      <th>7344</th>\n",
       "      <td>watts2</td>\n",
       "      <td>0.98</td>\n",
       "    </tr>\n",
       "    <tr>\n",
       "      <th>9303</th>\n",
       "      <td>watts2</td>\n",
       "      <td>0.98</td>\n",
       "    </tr>\n",
       "  </tbody>\n",
       "</table>\n",
       "</div>"
      ],
      "text/plain": [
       "                  net  remove_p\n",
       "834             erdos      0.96\n",
       "6894           barab2      0.96\n",
       "4499            erdos      0.92\n",
       "19456           ident      0.99\n",
       "14379           ident      0.90\n",
       "23086  random_digraph      0.96\n",
       "10289            geom      0.00\n",
       "2067           barab1      0.50\n",
       "12448           chain      0.20\n",
       "5965         no_edges      0.00\n",
       "22783  random_digraph      0.60\n",
       "6933           barab2      0.94\n",
       "20723          barab1      0.88\n",
       "2444           barab2      0.30\n",
       "16170        no_edges      0.00\n",
       "19923            geom      0.10\n",
       "18766            loop      0.80\n",
       "244             erdos      0.00\n",
       "3950             loop      0.70\n",
       "10138            geom      0.90\n",
       "2851           barab2      0.00\n",
       "6773            chain      0.88\n",
       "13860            loop      0.00\n",
       "537             chain      0.20\n",
       "20594           chain      0.88\n",
       "22945          barab2      0.60\n",
       "17754  random_digraph      0.50\n",
       "1795   random_digraph      0.92\n",
       "7344           watts2      0.98\n",
       "9303           watts2      0.98"
      ]
     },
     "execution_count": 25,
     "metadata": {},
     "output_type": "execute_result"
    }
   ],
   "source": [
    "df[['net','remove_p']].sample(30)"
   ]
  },
  {
   "cell_type": "markdown",
   "metadata": {},
   "source": [
    "the identity is almost 100 steps further than any other topology <br>\n",
    "100 / 15000 = 1/150 = 0.006 <br>\n",
    "is that significant?"
   ]
  },
  {
   "cell_type": "code",
   "execution_count": 26,
   "metadata": {},
   "outputs": [
    {
     "name": "stdout",
     "output_type": "stream",
     "text": [
      "these are the results of the thinned networks\n"
     ]
    },
    {
     "data": {
      "text/html": [
       "<div>\n",
       "<style scoped>\n",
       "    .dataframe tbody tr th:only-of-type {\n",
       "        vertical-align: middle;\n",
       "    }\n",
       "\n",
       "    .dataframe tbody tr th {\n",
       "        vertical-align: top;\n",
       "    }\n",
       "\n",
       "    .dataframe thead th {\n",
       "        text-align: right;\n",
       "    }\n",
       "</style>\n",
       "<table border=\"1\" class=\"dataframe\">\n",
       "  <thead>\n",
       "    <tr style=\"text-align: right;\">\n",
       "      <th></th>\n",
       "      <th>net</th>\n",
       "      <th>mean_pred</th>\n",
       "    </tr>\n",
       "  </thead>\n",
       "  <tbody>\n",
       "    <tr>\n",
       "      <th>1</th>\n",
       "      <td>barab1</td>\n",
       "      <td>4101.031304</td>\n",
       "    </tr>\n",
       "    <tr>\n",
       "      <th>3</th>\n",
       "      <td>barab2</td>\n",
       "      <td>4098.019024</td>\n",
       "    </tr>\n",
       "    <tr>\n",
       "      <th>5</th>\n",
       "      <td>chain</td>\n",
       "      <td>4199.792857</td>\n",
       "    </tr>\n",
       "    <tr>\n",
       "      <th>12</th>\n",
       "      <td>loop</td>\n",
       "      <td>4041.922469</td>\n",
       "    </tr>\n",
       "    <tr>\n",
       "      <th>7</th>\n",
       "      <td>erdos</td>\n",
       "      <td>4187.836620</td>\n",
       "    </tr>\n",
       "    <tr>\n",
       "      <th>9</th>\n",
       "      <td>geom</td>\n",
       "      <td>4206.290500</td>\n",
       "    </tr>\n",
       "    <tr>\n",
       "      <th>15</th>\n",
       "      <td>random_digraph</td>\n",
       "      <td>4206.737778</td>\n",
       "    </tr>\n",
       "    <tr>\n",
       "      <th>10</th>\n",
       "      <td>ident</td>\n",
       "      <td>4314.017471</td>\n",
       "    </tr>\n",
       "    <tr>\n",
       "      <th>13</th>\n",
       "      <td>no_edges</td>\n",
       "      <td>4175.194483</td>\n",
       "    </tr>\n",
       "    <tr>\n",
       "      <th>17</th>\n",
       "      <td>watts2</td>\n",
       "      <td>4178.032941</td>\n",
       "    </tr>\n",
       "    <tr>\n",
       "      <th>19</th>\n",
       "      <td>watts4</td>\n",
       "      <td>4225.653659</td>\n",
       "    </tr>\n",
       "  </tbody>\n",
       "</table>\n",
       "</div>"
      ],
      "text/plain": [
       "               net    mean_pred\n",
       "1           barab1  4101.031304\n",
       "3           barab2  4098.019024\n",
       "5            chain  4199.792857\n",
       "12            loop  4041.922469\n",
       "7            erdos  4187.836620\n",
       "9             geom  4206.290500\n",
       "15  random_digraph  4206.737778\n",
       "10           ident  4314.017471\n",
       "13        no_edges  4175.194483\n",
       "17          watts2  4178.032941\n",
       "19          watts4  4225.653659"
      ]
     },
     "execution_count": 26,
     "metadata": {},
     "output_type": "execute_result"
    }
   ],
   "source": [
    "print('these are the results of the thinned networks')\n",
    "df_thinned[['net','mean_pred']]"
   ]
  },
  {
   "cell_type": "code",
   "execution_count": null,
   "metadata": {},
   "outputs": [],
   "source": []
  },
  {
   "cell_type": "markdown",
   "metadata": {},
   "source": [
    "# bookmarks"
   ]
  },
  {
   "cell_type": "code",
   "execution_count": 27,
   "metadata": {},
   "outputs": [
    {
     "data": {
      "image/png": "[encoded data removed]",
      "text/plain": [
       "<Figure size 936x360 with 1 Axes>"
      ]
     },
     "metadata": {
      "needs_background": "light"
     },
     "output_type": "display_data"
    }
   ],
   "source": [
    "width = 13 #the x\n",
    "height = 5 #the y \n",
    "plt.figure(figsize=(width,height))\n",
    "#https://github.com/mwaskom/seaborn/issues/720 #where I got the idea\n",
    "ax = sns.boxplot(x=\"net\", y=\"mean_pred\", data=df.loc[df.thinned == 1],palette=\"Set1\",saturation=0.5)\n",
    "# handles, _ = ax.get_legend_handles_labels()\n",
    "# ax.legend(handles, [\"Not Thinned\", \"Thinned\"],bbox_to_anchor=(1.01,1.02))\n",
    "plt.title('Prediction Distribution of Thinned 15 second models',y=1.03,fontsize=16)\n",
    "plt.xlabel('Topology',labelpad=10,fontsize=14)\n",
    "plt.ylabel('Prediction',labelpad=10,fontsize=14)\n",
    "ax.set_facecolor('ivory') #ivory & beige,xkcd:beige,azure,khaki"
   ]
  },
  {
   "cell_type": "code",
   "execution_count": 28,
   "metadata": {},
   "outputs": [
    {
     "data": {
      "image/png": "[encoded data removed]",
      "text/plain": [
       "<Figure size 936x360 with 1 Axes>"
      ]
     },
     "metadata": {
      "needs_background": "light"
     },
     "output_type": "display_data"
    }
   ],
   "source": [
    "width = 13 #the x\n",
    "height = 5 #the y \n",
    "plt.figure(figsize=(width,height))\n",
    "#https://github.com/mwaskom/seaborn/issues/720 #where I got the idea\n",
    "ax = sns.boxplot(x=\"net\", y=\"mean_pred\", hue=\"thinned\", data=df,palette=\"Set1\",saturation=0.5)\n",
    "handles, _ = ax.get_legend_handles_labels()\n",
    "ax.legend(handles, [\"Not Thinned\", \"Thinned\"],bbox_to_anchor=(1.01,1.02))\n",
    "plt.title('Prediction Distribution 15 second models',y=1.03,fontsize=16)\n",
    "plt.xlabel('Topology',labelpad=10,fontsize=14)\n",
    "plt.ylabel('Prediction',labelpad=10,fontsize=14)\n",
    "ax.set_facecolor('ivory') #ivory & beige,xkcd:beige,azure,khaki"
   ]
  },
  {
   "cell_type": "code",
   "execution_count": null,
   "metadata": {},
   "outputs": [],
   "source": []
  },
  {
   "cell_type": "code",
   "execution_count": null,
   "metadata": {},
   "outputs": [],
   "source": []
  },
  {
   "cell_type": "code",
   "execution_count": null,
   "metadata": {},
   "outputs": [],
   "source": []
  }
 ],
 "metadata": {
  "kernelspec": {
   "display_name": "Python 3",
   "language": "python",
   "name": "python3"
  },
  "language_info": {
   "codemirror_mode": {
    "name": "ipython",
    "version": 3
   },
   "file_extension": ".py",
   "mimetype": "text/x-python",
   "name": "python",
   "nbconvert_exporter": "python",
   "pygments_lexer": "ipython3",
   "version": "3.7.3"
  }
 },
 "nbformat": 4,
 "nbformat_minor": 2
}
