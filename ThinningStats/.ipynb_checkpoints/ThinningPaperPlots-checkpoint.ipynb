{
 "cells": [
  {
   "cell_type": "code",
   "execution_count": null,
   "metadata": {},
   "outputs": [],
   "source": [
    "from matplotlib import pyplot as plt\n",
    "%run \"/Users/djpassey/Code/ChaosReservoir/HyperParameterOpt/GenerateExperiments/res_experiment.py\""
   ]
  },
  {
   "cell_type": "code",
   "execution_count": null,
   "metadata": {},
   "outputs": [],
   "source": [
    "def remove_percent_edges(A, p):\n",
    "    return remove_edges(A, floor(p * np.sum(A != 0)))\n",
    "\n",
    "def net_stat(statf, topo, params, remove_ps, nnets=25, n=2500):\n",
    "    mean_stats = []\n",
    "    for p in remove_ps:\n",
    "        make_net = lambda : remove_percent_edges(generate_adj(topo, params, n=n), p)\n",
    "        stats = [statf(make_net()) for i in range(nnets)]\n",
    "        mean_stat = np.mean(stats)\n",
    "        mean_stats.append(mean_stat)\n",
    "    return mean_stats\n",
    "\n",
    "def plot_stat(statf, mean_degree, title, ylabel, ps=None, n=1000, nnets=20, watts_rewire=.1):\n",
    "    if ps is None:\n",
    "        ps = [0, .1, .2, .3, .4, .5, .6, .7, .8, .9, .92, .94, .96, .98]\n",
    "    for topo in [\"geom\", \"erdos\", \"random_digraph\"]:\n",
    "        stat = net_stat(statf, topo, mean_degree, ps, n=n, nnets=nnets)\n",
    "        plt.plot(ps, stat, label=topo.capitalize())\n",
    "    if mean_degree == 1:\n",
    "        ba = net_stat(statf, \"barab1\", None, ps, n=n, nnets=nnets)\n",
    "        plt.plot(ps, ba, label=\"Barabasi\")\n",
    "    if mean_degree == 2:\n",
    "        ba = net_stat(statf, \"barab2\", None, ps, n=n, nnets=nnets)\n",
    "        ws = net_stat(statf, \"watts2\", watts_rewire, ps, n=n, nnets=nnets)\n",
    "        plt.plot(ps, ba, label=\"Barabasi\")\n",
    "        plt.plot(ps, ws, label=\"Watts\")\n",
    "    if mean_degree == 4:\n",
    "        ba = net_stat(statf, \"barab4\", None, ps, n=n, nnets=nnets)\n",
    "        ws = net_stat(statf, \"watts4\", watts_rewire, ps, n=n, nnets=nnets)\n",
    "        plt.plot(ps, ba, label=\"Barabasi\")\n",
    "        plt.plot(ps, ws, label=\"Watts\")\n",
    "    plt.title(title)\n",
    "    plt.xlabel(\"Percent of edges removed\")\n",
    "    plt.ylabel(ylabel)\n",
    "    plt.legend()\n",
    "    plt.show()"
   ]
  }
 ],
 "metadata": {
  "kernelspec": {
   "display_name": "Python 3",
   "language": "python",
   "name": "python3"
  },
  "language_info": {
   "codemirror_mode": {
    "name": "ipython",
    "version": 3
   },
   "file_extension": ".py",
   "mimetype": "text/x-python",
   "name": "python",
   "nbconvert_exporter": "python",
   "pygments_lexer": "ipython3",
   "version": "3.7.4"
  }
 },
 "nbformat": 4,
 "nbformat_minor": 4
}
