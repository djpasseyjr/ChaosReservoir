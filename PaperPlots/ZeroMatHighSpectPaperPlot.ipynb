{
 "cells": [
  {
   "cell_type": "code",
   "execution_count": 1,
   "id": "dfc95666-1df0-4ad1-a983-400138dd6dee",
   "metadata": {},
   "outputs": [],
   "source": [
    "%run \"../HyperParameterOpt/GenerateExperiments/res_experiment.py\"\n",
    "from scipy import sparse\n",
    "import networkx as nx\n",
    "from matplotlib.gridspec import GridSpec\n",
    "from mpl_toolkits.mplot3d import Axes3D \n",
    "import os\n",
    "import graph_tool.all as gt\n",
    "import matplotlib.pyplot as plt\n",
    "import numpy as np\n",
    "import gc\n",
    "\n",
    "plt.switch_backend(\"cairo\")\n"
   ]
  },
  {
   "cell_type": "code",
   "execution_count": 2,
   "id": "cb6a5f8a-72f9-4e20-bd0e-7a33cfed7d89",
   "metadata": {},
   "outputs": [
    {
     "data": {
      "text/plain": [
       "4"
      ]
     },
     "execution_count": 2,
     "metadata": {},
     "output_type": "execute_result"
    }
   ],
   "source": [
    "plt.close(\"all\")\n",
    "gc.collect()"
   ]
  },
  {
   "cell_type": "markdown",
   "id": "d248a79c-5852-48b9-8e18-a0aeeb219e05",
   "metadata": {},
   "source": [
    "# Notation Explanation Plots\n",
    "\n",
    "A notebook of plots to help explain $\\mathbf{u}(t)$, $\\mathbf{\\hat{u}}(t)$, $\\mathbf{r}(t)$, the processing network and the aggregate network."
   ]
  },
  {
   "cell_type": "markdown",
   "id": "f9d8c798-ed4d-46c8-8c56-bc3a915fcd5b",
   "metadata": {},
   "source": [
    "### Parameters"
   ]
  },
  {
   "cell_type": "code",
   "execution_count": 3,
   "id": "ef4fde24-62b9-49d4-9003-bb744e6f6106",
   "metadata": {},
   "outputs": [],
   "source": [
    "DIFF_EQ_PARAMS = {\n",
    "    \"x0\": [-20, 10, -.5],\n",
    "    \"begin\": 0,\n",
    "    \"end\": 85,\n",
    "    \"timesteps\": 85000,\n",
    "    \"train_per\": .889,\n",
    "    \"solver\": lorenz_equ,\n",
    "    \"clip\": 40\n",
    "}\n",
    "RES_PARAMS = {\n",
    "    \"uniform_weights\": True,\n",
    "    \"solver\": \"ridge\",\n",
    "    \"ridge_alpha\":.0001,\n",
    "    \"signal_dim\": 3,\n",
    "    \"network\": \"random graph\",\n",
    "    \"res_sz\": 50,\n",
    "    \"activ_f\": np.tanh,\n",
    "    \"connect_p\": .1,\n",
    "    \"spect_rad\": 50,\n",
    "    \"gamma\": 5,\n",
    "    \"sigma\": 0.05,\n",
    "    \"sparse_res\": True,\n",
    "}"
   ]
  },
  {
   "cell_type": "markdown",
   "id": "1be7fd1c-8a79-4595-949f-352b3edaa685",
   "metadata": {},
   "source": [
    "### Functions"
   ]
  },
  {
   "cell_type": "code",
   "execution_count": 4,
   "id": "b129f3be-d24d-4add-b634-c4bce102608e",
   "metadata": {},
   "outputs": [],
   "source": [
    "def erdos(mean_degree,n=None):\n",
    "    \"\"\" Erdos-Renyi random graph.\n",
    "    Parameter\n",
    "        mean_degree     (int): specific to this topology\n",
    "        n               (int): n is the size of the network\n",
    "    \"\"\"\n",
    "    if n is None:\n",
    "        n = np.random.randint(smallest_network_size,biggest_network_size)\n",
    "    p = mean_degree/n\n",
    "    A = nx.adj_matrix(nx.erdos_renyi_graph(n,p)).T\n",
    "    return sparse.dok_matrix(A)\n",
    "\n",
    "def remove_edges(A, p):\n",
    "    \"\"\" Randomly removes 'p' percent of edges from a sparse matrix 'A'\n",
    "    \"\"\"\n",
    "    nedges = floor(p*np.sum(A != 0))\n",
    "    A = A.todok()\n",
    "    # Remove Edges\n",
    "    keys = list(A.keys())\n",
    "    remove_idx = np.random.choice(range(len(keys)),size=nedges, replace=False)\n",
    "    remove = [keys[i] for i in remove_idx]\n",
    "    for e in remove:\n",
    "        A[e] = 0\n",
    "    return A\n",
    "\n",
    "def nx_to_gt(G):\n",
    "    nx.write_graphml(G, \"temp.xml\")\n",
    "    g = gt.load_graph(\"temp.xml\")\n",
    "    os.remove(\"temp.xml\")\n",
    "    return g\n",
    "\n",
    "def simple_gt_plot(G, mplaxis, colors=None, edge_colors=None, vertex_size=1.0):\n",
    "    g = nx_to_gt(G)\n",
    "    if colors is not None:\n",
    "        color_map = {i:colors[i] for i in range(G.number_of_nodes())}\n",
    "        # Create new vertex property\n",
    "        plot_color = g.new_vertex_property('vector<double>')\n",
    "        # add that property to graph\n",
    "        g.vertex_properties['plot_color'] = plot_color\n",
    "        # assign a value to that property for each node of that graph\n",
    "        for v in g.vertices():\n",
    "            plot_color[v] = color_map[v]\n",
    "        vertex_fill_color = g.vertex_properties['plot_color']\n",
    "    else:\n",
    "        vertex_fill_color=None\n",
    "        \n",
    "    if edge_colors is not None:\n",
    "        edge_color_map = {e:edge_colors[i] for i,e in enumerate(g.edges())}\n",
    "        # Create new edge property\n",
    "        plot_color = g.new_edge_property('vector<double>')\n",
    "        # add that property to graph\n",
    "        g.edge_properties['plot_color'] = plot_color\n",
    "        # assign a value to that property for each node of that graph\n",
    "        for v in g.edges():\n",
    "            plot_color[v] = edge_color_map[v]\n",
    "        edge_color = g.edge_properties['plot_color']\n",
    "    else:\n",
    "        edge_color=None\n",
    "    \n",
    "    if mplaxis is None:\n",
    "        fig, mplaxis = plt.subplots(1, 1, figsize=(12, 11.5))\n",
    "\n",
    "    gt.graph_draw(\n",
    "        g, \n",
    "        vertex_fill_color=vertex_fill_color, \n",
    "        vertex_size=vertex_size, \n",
    "        edge_color=edge_color,\n",
    "        mplfig=mplaxis\n",
    "    )\n",
    "    mplaxis.set_axis_off()\n"
   ]
  },
  {
   "cell_type": "code",
   "execution_count": 5,
   "id": "cc892dee-4a48-4d5e-9e0b-a38bf80e8cf7",
   "metadata": {},
   "outputs": [],
   "source": [
    "\n",
    "def notation_expl(rc, R, U, Uhat, test_t):\n",
    "    acc_dur = how_long_accurate(U, Uhat, tol=TOL)\n",
    "    # Node colors\n",
    "    nc = np.random.rand(rc.res_sz, 3)\n",
    "    titlesz = 14\n",
    "    linewidth = 0.5\n",
    "    fig = plt.figure(figsize=(17.5,5))\n",
    "    gridspec = GridSpec(2,4)\n",
    "    \n",
    "    subplotspec = gridspec.new_subplotspec((0, 0), rowspan=1, colspan=1)\n",
    "    ax = fig.add_subplot(subplotspec)\n",
    "    \n",
    "    ax.set_title(\"Processing Network\", fontsize=titlesz)\n",
    "    simple_gt_plot(nx.Graph(rc.res), ax, colors=nc)\n",
    "\n",
    "    subplotspec = gridspec.new_subplotspec((0, 1), rowspan=1, colspan=2)\n",
    "    ax = fig.add_subplot(subplotspec)\n",
    "    ax.set_title(\"Processing Network Response $\\\\mathbf{r}(t)$\", fontsize=titlesz)\n",
    "    for i in range(n):\n",
    "        ax.plot(train_t, R[:, i], lw=linewidth, c=nc[i])\n",
    "    ax.set_yticks([-1, 1])\n",
    "    ax.set_ylabel(\"Reservoir Node States\")\n",
    "    tks = np.arange(40, 90, 10)\n",
    "    ax.set_xticks(tks)\n",
    "    ax.set_xticklabels(tks - 40)\n",
    "\n",
    "    subplotspec = gridspec.new_subplotspec((1, 0), rowspan=1, colspan=1)\n",
    "    ax = fig.add_subplot(subplotspec)\n",
    "    ax.set_title(\"Aggregate Network\", fontsize=titlesz)\n",
    "    aggA = np.array(rc.res + rc.sigma*rc.W_in @ rc.W_out)\n",
    "    # Remove self edges\n",
    "    for i in range(aggA.shape[0]):\n",
    "        aggA[i,i]=0\n",
    "        \n",
    "    G = nx.Graph(aggA)\n",
    "    labels = nx.get_edge_attributes(G,'weight')\n",
    "    eweights = np.log([np.abs(labels[e]) + 1.0 for e in G.edges()])\n",
    "    eweights /= np.max(eweights)\n",
    "    #eweights = 1 - eweights\n",
    "    ecolors = np.vstack((eweights, eweights, eweights)).T\n",
    "    \n",
    "    teal = np.array([0,128,128])/256\n",
    "    node_colors = [teal for i in range(G.number_of_nodes())]\n",
    "    simple_gt_plot(G, ax, colors=node_colors, edge_colors=ecolors, vertex_size=0.17)\n",
    "\n",
    "    subplotspec = gridspec.new_subplotspec((1, 1), rowspan=1, colspan=2)\n",
    "    ax = fig.add_subplot(subplotspec)\n",
    "    ax.set_title(\"Aggregate Network Prediction $\\\\mathbf{\\\\hat{u}}(t)$\", fontsize=titlesz)\n",
    "    ymax = np.max([np.max(Uhat), np.max(U)])\n",
    "    ymin = np.min([np.min(Uhat), np.min(U)])\n",
    "    ax.plot(test_t, U.T, \"gray\", lw=linewidth,)\n",
    "    ax.plot(test_t[0], U.T[0,0], \"gray\", label=\"True: $\\\\mathbf{u}(t)$\")\n",
    "    ax.plot(test_t, Uhat.T, \"teal\", lw=linewidth,)\n",
    "    ax.plot(test_t[0], Uhat.T[0,0], \"teal\", label=\"Predicted: $\\\\mathbf{\\\\hat{u}}(t)$\")\n",
    "    ax.plot(np.ones(10)*test_t[acc_dur], np.linspace(ymin, ymax, 10), \"--\", c=\"r\", lw=linewidth)\n",
    "    ax.set_xlabel(\"Time (a.u.)\")\n",
    "    ax.set_ylabel(\"Location (a.u.)\")\n",
    "    ts_tks = np.arange(80, 86, 1)\n",
    "    ax.set_yticks([np.round(ymin), np.round(ymax)])\n",
    "    ax.set_xticks(ts_tks)\n",
    "    ax.set_xticklabels(ts_tks - 40)\n",
    "    locs, labels = ax.get_xticks(), ax.get_xticklabels()\n",
    "    ax.set_xticks(list(locs) + [test_t[acc_dur]])\n",
    "    ax.set_xticklabels( list(labels) + [\"VPT\"])\n",
    "    ax.legend(loc=(0.8, .65))\n",
    "    \n",
    "    subplotspec = gridspec.new_subplotspec((0, 3), rowspan=2, colspan=1)\n",
    "    ax = fig.add_subplot(subplotspec, projection='3d')\n",
    "    \n",
    "    x,y,z = U[0,:], U[1,:], U[2, :]\n",
    "    xh,yh,zh = Uhat[0,:], Uhat[1,:], Uhat[2, :]\n",
    "    ax.plot3D(x, y, z, c=\"gray\",alpha=.8)\n",
    "    ax.plot3D(xh, yh, zh, c=\"teal\",alpha=.8)\n",
    "    ax.axis(\"off\")\n",
    "    ax.set_title(\"True v.s. Predicted Orbit in 3D\", fontsize=titlesz)\n",
    "    ax.set_xlim(-15,19)\n",
    "    ax.set_ylim(-15, 19)\n",
    "    ax.set_zlim(20, 41)\n",
    "\n",
    "    plt.tight_layout()\n",
    "    return fig"
   ]
  },
  {
   "cell_type": "code",
   "execution_count": 6,
   "id": "3bb4a2db-f92b-4dd4-9812-9848a2a4e5c1",
   "metadata": {},
   "outputs": [],
   "source": [
    "DIFF_EQ_PARAMS[\"x0\"] = random_lorenz_x0()\n",
    "train_t, test_t, u = rc_solve_ode(DIFF_EQ_PARAMS)"
   ]
  },
  {
   "cell_type": "code",
   "execution_count": 7,
   "id": "30afbcd4-285c-4846-8fa9-98692916430a",
   "metadata": {},
   "outputs": [],
   "source": [
    "\n",
    "rho = 0\n",
    "mean_degree = 0\n",
    "remove_p = 0.0\n",
    "\n",
    "n = RES_PARAMS[\"res_sz\"]\n",
    "RES_PARAMS[\"spect_rad\"] = rho\n",
    "A = remove_edges(erdos(mean_degree, n), remove_p)\n",
    "A = sparse.lil_matrix(A)"
   ]
  },
  {
   "cell_type": "code",
   "execution_count": 12,
   "id": "00e3c280-29bb-4ef2-a893-8492a21f977e",
   "metadata": {},
   "outputs": [
    {
     "data": {
      "text/plain": [
       "False"
      ]
     },
     "execution_count": 12,
     "metadata": {},
     "output_type": "execute_result"
    }
   ],
   "source": [
    "nx.is_connected(nx.Graph(A))\n"
   ]
  },
  {
   "cell_type": "code",
   "execution_count": 20,
   "id": "59bcdfef-bfbd-4b85-b86d-d811665ca570",
   "metadata": {},
   "outputs": [
    {
     "name": "stderr",
     "output_type": "stream",
     "text": [
      "/Users/djpassey/Code/ReservoirSpecialization/rescomp/ResComp.py:166: UserWarning: Spectral radius of reservoir is close to zero. Edge weights will not be scaled\n",
      "  warn(\"Spectral radius of reservoir is close to zero. Edge weights will not be scaled\")\n"
     ]
    },
    {
     "name": "stdout",
     "output_type": "stream",
     "text": [
      "VPT: 2648\n"
     ]
    }
   ],
   "source": [
    "rc = ResComp(A, **RES_PARAMS)\n",
    "rc.state_0 = 2*np.random.rand(rc.res_sz) - 1\n",
    "r0 = rc.state_0\n",
    "err, R = rc.fit(train_t, u, return_states=True)\n",
    "U = u(test_t)\n",
    "Uhat = rc.predict(test_t)\n",
    "acc_dur = how_long_accurate(U, Uhat, tol=TOL)\n",
    "print(f\"VPT: {acc_dur}\")"
   ]
  },
  {
   "cell_type": "code",
   "execution_count": 21,
   "id": "778dab85-29cd-4aa5-98c1-fe04fc4ee324",
   "metadata": {},
   "outputs": [
    {
     "name": "stderr",
     "output_type": "stream",
     "text": [
      "/usr/local/anaconda3/lib/python3.7/site-packages/ipykernel_launcher.py:80: MatplotlibDeprecationWarning: savefig() got unexpected keyword argument \"dpi\" which is no longer supported as of 3.3 and will become an error two minor releases later\n"
     ]
    }
   ],
   "source": [
    "f = notation_expl(rc, R, U, Uhat, test_t)\n",
    "plt.savefig(\"zero_edges.png\", dpi=300)"
   ]
  },
  {
   "cell_type": "code",
   "execution_count": 30,
   "id": "8c78782c-0778-484c-8096-c6c0a647ed35",
   "metadata": {},
   "outputs": [
    {
     "name": "stdout",
     "output_type": "stream",
     "text": [
      "Contains 10 edges\n"
     ]
    }
   ],
   "source": [
    "rho = 100\n",
    "mean_degree = 0.2\n",
    "remove_p = 0.9\n",
    "\n",
    "\n",
    "n = RES_PARAMS[\"res_sz\"]\n",
    "RES_PARAMS[\"spect_rad\"] = rho\n",
    "A = erdos(mean_degree, n)\n",
    "A = sparse.lil_matrix(A)\n",
    "\n",
    "print(f\"Contains {np.sum(A != 0)} edges\")"
   ]
  },
  {
   "cell_type": "code",
   "execution_count": 31,
   "id": "74cfae01-162b-4593-8066-5be54fffab2c",
   "metadata": {},
   "outputs": [
    {
     "name": "stdout",
     "output_type": "stream",
     "text": [
      "VPT: 3491\n"
     ]
    }
   ],
   "source": [
    "\n",
    "\n",
    "rc_sp = ResComp(A, **RES_PARAMS)\n",
    "rc_sp.state_0 = 2*np.random.rand(rc_sp.res_sz) - 1\n",
    "r0 = rc_sp.state_0\n",
    "err, Rsp = rc_sp.fit(train_t, u, return_states=True)\n",
    "Usp = u(test_t)\n",
    "Uhat_sp = rc_sp.predict(test_t)\n",
    "acc_dur_sp = how_long_accurate(Usp, Uhat_sp, tol=TOL)\n",
    "print(f\"VPT: {acc_dur_sp}\")"
   ]
  },
  {
   "cell_type": "code",
   "execution_count": 32,
   "id": "fe49128e-47f9-4be4-a7e0-627e1a362836",
   "metadata": {},
   "outputs": [
    {
     "name": "stderr",
     "output_type": "stream",
     "text": [
      "/usr/local/anaconda3/lib/python3.7/site-packages/ipykernel_launcher.py:80: MatplotlibDeprecationWarning: savefig() got unexpected keyword argument \"dpi\" which is no longer supported as of 3.3 and will become an error two minor releases later\n"
     ]
    }
   ],
   "source": [
    "f = notation_expl(rc_sp, Rsp, Usp, Uhat_sp, test_t)\n",
    "plt.savefig(\"spect_rad_eq_100.png\", dpi=300)"
   ]
  },
  {
   "cell_type": "code",
   "execution_count": 22,
   "id": "259baed5-b1d2-4a12-b419-681ff4272b1c",
   "metadata": {},
   "outputs": [],
   "source": [
    "nc = np.random.rand(n, 3)\n",
    "nx.draw_spring(nx.DiGraph(rc_sp.res), node_color=nc, node_size=60, arrows=False)"
   ]
  },
  {
   "cell_type": "code",
   "execution_count": 24,
   "id": "72035aa4-f771-4955-8dc0-f6a73ca9180a",
   "metadata": {},
   "outputs": [],
   "source": [
    "aggA = np.array(rc_sp.res + rc_sp.sigma*rc_sp.W_in @ rc_sp.W_out)\n",
    "G = nx.DiGraph(aggA)\n",
    "labels = nx.get_edge_attributes(G,'weight')\n",
    "eweights = [np.abs(labels[e]) for e in G.edges()]\n",
    "eweights /= np.max(eweights)\n",
    "eweights = 1 - eweights\n",
    "ecolors = np.vstack((eweights, eweights, eweights)).T\n",
    "nx.draw_spring(G, edge_color=ecolors, node_color=nc, node_size=60, arrows=False)"
   ]
  },
  {
   "cell_type": "code",
   "execution_count": 25,
   "id": "3fe80257-959c-4b10-976e-5204698630ab",
   "metadata": {},
   "outputs": [],
   "source": [
    "def knngraph(A, k):\n",
    "    n, _ = A.shape\n",
    "    G = nx.DiGraph()\n",
    "    for i, ai in enumerate(A):\n",
    "        nearestnodes = np.argsort(ai)[::-1]\n",
    "        for j in range(k):\n",
    "            neighbor = nearestnodes[j]\n",
    "            G.add_edge(neighbor, i, weight=A[i, neighbor])\n",
    "    return G       "
   ]
  },
  {
   "cell_type": "code",
   "execution_count": 26,
   "id": "3f11abd3-ecb1-4c3e-a65d-8fcf25db4085",
   "metadata": {},
   "outputs": [
    {
     "data": {
      "text/plain": [
       "array([45,  5, 12,  7, 11, 21, 26, 33, 46,  3, 32, 27, 25, 23, 37,  2, 35,\n",
       "       38, 15, 31,  0, 47,  9, 19, 36, 22, 42, 49,  6, 40, 39, 44, 18,  8,\n",
       "       14, 10, 28, 17, 20,  4, 29, 13, 34, 48, 43, 24,  1, 16, 41, 30])"
      ]
     },
     "execution_count": 26,
     "metadata": {},
     "output_type": "execute_result"
    }
   ],
   "source": [
    "np.argsort(aggA[0])"
   ]
  },
  {
   "cell_type": "code",
   "execution_count": 27,
   "id": "3f5c03f3-d452-4daa-b905-006306c362f4",
   "metadata": {},
   "outputs": [],
   "source": [
    "knnG = knngraph(aggA, 5)\n",
    "labels = nx.get_edge_attributes(knnG,'weight')\n",
    "eweights = [np.abs(labels[e]) for e in knnG.edges()]\n",
    "eweights /= np.max(eweights)\n",
    "eweights = 1 - eweights\n",
    "ecolors = np.vstack((eweights, eweights, eweights)).T\n",
    "nx.draw_spring(knnG, edge_color=ecolors, node_color=\"k\", node_size=60, arrows=False)"
   ]
  },
  {
   "cell_type": "code",
   "execution_count": null,
   "id": "08181090-7b4d-4242-b8c5-ac15e66f6f46",
   "metadata": {},
   "outputs": [],
   "source": []
  }
 ],
 "metadata": {
  "kernelspec": {
   "display_name": "Python 3 (ipykernel)",
   "language": "python",
   "name": "python3"
  },
  "language_info": {
   "codemirror_mode": {
    "name": "ipython",
    "version": 3
   },
   "file_extension": ".py",
   "mimetype": "text/x-python",
   "name": "python",
   "nbconvert_exporter": "python",
   "pygments_lexer": "ipython3",
   "version": "3.7.10"
  }
 },
 "nbformat": 4,
 "nbformat_minor": 5
}
