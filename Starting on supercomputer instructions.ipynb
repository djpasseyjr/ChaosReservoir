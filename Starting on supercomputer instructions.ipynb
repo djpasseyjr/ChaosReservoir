{
 "cells": [
  {
   "cell_type": "markdown",
   "metadata": {},
   "source": [
    "These instructions assume some basic introduction to Vim (terminal editor), such as being able to navigate using vim, make edits, and save changes by using `esc` + `:wq` \n",
    "\n",
    "# setting up environment\n",
    "after opening the terminal and following the [instructions](https://rc.byu.edu/wiki/?id=Logging+In) to login, then execute the following commands: <br>\n",
    "`module load python/3.7` <br>\n",
    "`pip install --user networkx` <br>\n",
    "`pip install --user sklearn` this library is called in rescomp, it may not even be used, but an error was thrown when this library wasn't downloaded <br>\n",
    "`module save` this command will make the modules and libraries reside from session to session<br>\n",
    "\n",
    "# (If not already) download the repos <br>\n",
    "`cd compute` <br>\n",
    "`git clone https://github.com/djpasseyjr/ChaosReservoir.git` <br> \n",
    "`git clone https://github.com/djpasseyjr/ReservoirSpecialization.git` <br>\n",
    "see final note about regularly redownloading ChaosReservoir, because it's updated almost daily, as well as being sure to re-locate any valuable data that is wished to be saved before deleting the ChaosReserevoir then recloning from github. <br> If it's been a long time since last downloaded the ChaosReservoir repo, then consider recloning it from github to utilize most recent updates. <br> \n",
    "\n",
    "# add rescomp to python path <br>\n",
    "`cd` will return to home <br>\n",
    "`vim .bash_profile` (this command will create if it's a non-existent file) open file <br>\n",
    "`export PYTHONPATH=$PYTHONPATH:/fslhome/jbwilkes/compute/ReservoirSpecialization` \n",
    "\n",
    "<font color='red'> note that `jbwilkes` is the user name for joey wilkes, so `jbwilkes` in the export statement should be replaced with the appropriate user id </font> <br>\n",
    "\n",
    "# to add aliases to quickly switch between popular locations <br>\n",
    "`cd` will return to home, run the follwing commands from the home directory <br>\n",
    "`vim .bashrc` <br>\n",
    "`alias cdbase='cd ~/compute/ChaosReservoir/HyperParameterOpt/GenerateExperiments/'` copy this line into the file, the word \"cdbase\" can be changed to any command that you consider memorable and convenient, i chose 'base' as referring to homebase, 'cd' + 'base'  because this location is the location where most programs will be executed <br>\n",
    "`alias cdsd='cd ~/compute/Saved_data'` copy this line into the file, to quickly navigate to location for storing data outside of ChaosReservoir in the case that ChaosReservoir needs to be deleted and recloned with updates, 'cd' + 'sd' where 'sd' abbreviates saved_data <br>\n",
    "`source ~/.bashrc` make the changes to \".bashrc\" active in this session of the terminal, this command needs to be run each session <br>\n",
    "\n",
    "\n"
   ]
  },
  {
   "cell_type": "markdown",
   "metadata": {},
   "source": [
    "# PREPARING A BATCH \n",
    "`cd ~/compute/ChaosReservoir/HyperParameterOpt/GenerateExperiments/` <br>\n",
    "observe the \"main.py\" file, consider looking within the file `vim main.py` <br>\n",
    "\n",
    "The 'main.py' file is the input for the experiments, it includes the parameter values (in list form) <br>\n",
    "\n",
    "Make changes to the 'main.py' file according to the experiment you wish to submit, when lots of changes are going to be made, instead of using vim to rewrite the file, I will delete the file entirely , but before doing so I will make a copy of the contents of 'main.py' and paste them into a more convenient text editor (outside the terminal), like atom, then make changes in atom. Then I'll delete the 'main.py' file by running `rm -v main.py`  in the terminal<br> \n",
    "\n",
    "Once I've updated the code in atom to reflect the new experiments I wish to run, Then I'll type `vim main.py` which will open a new file, which is empty, i'll copy and paste the code from atom then i'll save the 'main.py' with the changes I wrote. <br>\n",
    "\n",
    "consider changing the parameter 'WALLTIME_PER_JOB' variable that is in the 'parameter_experiments.py' file (the 10th line), which will dictate how long each experiment has available to run, without having unnecessary wait times in the queue. In the future this variable might be a parameter, that can be adjusted in 'main.py'. 'WALLTIME_PER_JOB' represents the number of minutes for a single job to run. Or this variable can be ignored and the slurm command in the bash script can be changed directly, `#SBATCH --time=`. More information below. <br> \n",
    "\n",
    "run the command `python main.py` which will generate the experiment files, as well as the bash script that is needed to run the batch.  <br>\n",
    "\n",
    "Although everything is ready for the batch to be submitted, one final inspection is recommended (but not required).<br>\n",
    "\n",
    "Verify the parameters of the batch, by opening the specific bash script. The specific bash script was generated when you ran the 'main.py' with the python command. `ls` will list all the files. Pick the file that ends in `.sh` that has the job_name that was specified in the 'main.py'. <br>\n",
    "\n",
    "`vim JW7_barab1.sh`, is an example of a specific bash script for running a batch of experiments. <br> \n",
    "\n",
    "Pay close attention to the first parameter <br>\n",
    "`#SBATCH --time=#HOURS#:00:00` where the number of hours should be the max amount of time to run any individual experiments in the batch. <br> where '#HOURS#' was replaced with an integer when 'main.py' was run with python.\n",
    "\n",
    "\n",
    "# SUBMITTING A BATCH, AKA RUNNING EXPERIMENTS \n",
    "after running the main.py file with python, the output will say something similar to 'Next: sbatch JW7_barab1.sh'. That output can be copied and run to submit the job. Use [slurm commands](https://rc.byu.edu/wiki/?id=SLURM+Commands) to see if the job has been run, etc. "
   ]
  },
  {
   "cell_type": "markdown",
   "metadata": {},
   "source": [
    "# final note\n",
    "<font color='blue'> \n",
    "\n",
    "UPDATE THE CHAOS_RESERVOIR REPO REGULARLY,  <br>\n",
    "with the caveat that all data must be removed from  <br>\n",
    "from the repo before deleting the old version of the repo  <br>\n",
    "    \n",
    "</font>\n",
    "\n",
    "For example, joey created a directory for saving data, so that ChaosReservoir can be rewritten as frequently as necessary, and once the data from a batch has been compiled, then that data is moved to the saved_data directory. "
   ]
  },
  {
   "cell_type": "markdown",
   "metadata": {},
   "source": [
    "see Git, to identify when these instructions were last updated"
   ]
  }
 ],
 "metadata": {
  "kernelspec": {
   "display_name": "Python 3",
   "language": "python",
   "name": "python3"
  },
  "language_info": {
   "codemirror_mode": {
    "name": "ipython",
    "version": 3
   },
   "file_extension": ".py",
   "mimetype": "text/x-python",
   "name": "python",
   "nbconvert_exporter": "python",
   "pygments_lexer": "ipython3",
   "version": "3.7.3"
  }
 },
 "nbformat": 4,
 "nbformat_minor": 2
}
